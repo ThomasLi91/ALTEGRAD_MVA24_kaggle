{
  "cells": [
    {
      "cell_type": "markdown",
      "metadata": {},
      "source": [
        "# ALTEGRAD Kaggle challenge"
      ]
    },
    {
      "cell_type": "markdown",
      "metadata": {},
      "source": [
        "# I) Imports"
      ]
    },
    {
      "cell_type": "code",
      "execution_count": 2,
      "metadata": {},
      "outputs": [],
      "source": [
        "# !nvidia-smi"
      ]
    },
    {
      "cell_type": "code",
      "execution_count": 1,
      "metadata": {},
      "outputs": [
        {
          "name": "stdout",
          "output_type": "stream",
          "text": [
            "/users/eleves-b/2020/thomas.li/MVA/ALTEGRAD/kaggle_challenge\n"
          ]
        },
        {
          "data": {
            "text/plain": [
              "'/users/eleves-b/2020/thomas.li/MVA/ALTEGRAD/kaggle_challenge'"
            ]
          },
          "execution_count": 1,
          "metadata": {},
          "output_type": "execute_result"
        }
      ],
      "source": [
        "# Go back to root folder\n",
        "%cd ..\n",
        "%pwd"
      ]
    },
    {
      "cell_type": "code",
      "execution_count": 2,
      "metadata": {
        "id": "Qu8tbbAxF9UZ"
      },
      "outputs": [
        {
          "name": "stderr",
          "output_type": "stream",
          "text": [
            "/users/eleves-b/2020/thomas.li/.local/lib/python3.9/site-packages/tqdm/auto.py:21: TqdmWarning: IProgress not found. Please update jupyter and ipywidgets. See https://ipywidgets.readthedocs.io/en/stable/user_install.html\n",
            "  from .autonotebook import tqdm as notebook_tqdm\n"
          ]
        },
        {
          "name": "stdout",
          "output_type": "stream",
          "text": [
            "cuda:0\n"
          ]
        },
        {
          "name": "stderr",
          "output_type": "stream",
          "text": [
            "Failed to detect the name of this notebook, you can set it manually with the WANDB_NOTEBOOK_NAME environment variable to enable code saving.\n",
            "\u001b[34m\u001b[1mwandb\u001b[0m: Currently logged in as: \u001b[33mqwertyr2\u001b[0m. Use \u001b[1m`wandb login --relogin`\u001b[0m to force relogin\n"
          ]
        }
      ],
      "source": [
        "# Install packages\n",
        "# !pip install wandb onnx -Uq\n",
        "\n",
        "# Imports\n",
        "import os\n",
        "import time\n",
        "import numpy as np\n",
        "import matplotlib.pyplot as pyplot\n",
        "import seaborn as sns\n",
        "\n",
        "sns.set_theme()\n",
        "\n",
        "import pandas as pd\n",
        "from tqdm import tqdm\n",
        "import torch\n",
        "from torch import optim\n",
        "import torch.nn as nn\n",
        "from torch_geometric.data import DataLoader\n",
        "from torch.utils.data import DataLoader as TorchDataLoader\n",
        "from transformers import AutoTokenizer\n",
        "\n",
        "# Imports from custom package\n",
        "from src.dataloader import GraphTextDataset, GraphDataset, TextDataset\n",
        "\n",
        "# from original_src.Model import Model\n",
        "\n",
        "# from original_src.Model2 import Model\n",
        "\n",
        "# Device configuration\n",
        "device = torch.device(\"cuda:0\" if torch.cuda.is_available() else \"cpu\")\n",
        "print(device)\n",
        "os.environ[\"TOKENIZERS_PARALLELISM\"] = \"false\"\n",
        "\n",
        "# WandB Login and Setup\n",
        "import wandb\n",
        "\n",
        "wandb.login()\n",
        "PROJECT_NAME = \"ALTEGRAD_kaggle\"  # TODO"
      ]
    },
    {
      "cell_type": "markdown",
      "metadata": {},
      "source": [
        "### default_config"
      ]
    },
    {
      "cell_type": "code",
      "execution_count": 6,
      "metadata": {
        "id": "Kf-6FHrsF9Ua"
      },
      "outputs": [],
      "source": [
        "# Default config as dictionary\n",
        "finetune_config = dict(\n",
        "    model_path=\"models/baseline_negative_sampling_contrastive_loss_v2_01282244/baseline_negative_sampling_contrastive_loss_v2_01282244_49.pth\",\n",
        "    model_name=\"distilbert-base-uncased\",\n",
        "    batch_size=32,\n",
        "    graph_learning_rate=(1e-4) / 5,\n",
        "    text_learning_rate=(3e-5) / 5,\n",
        "    learning_rate=1e-4,\n",
        "    epoch_equivalents=20,\n",
        "    criterion=\"negative_sampling_contrastive_loss\",\n",
        "    similarity_fn=\"cosine_similarity\",\n",
        ")\n",
        "\n",
        "\n",
        "# Default config as class instance\n",
        "class Config_Class:\n",
        "    def __init__(self, dictionary):\n",
        "        for k, v in dictionary.items():\n",
        "            setattr(self, k, v)\n",
        "\n",
        "\n",
        "finetune_config_instance = Config_Class(finetune_config)"
      ]
    },
    {
      "cell_type": "markdown",
      "metadata": {},
      "source": [
        "#### Debugging"
      ]
    },
    {
      "cell_type": "markdown",
      "metadata": {},
      "source": [
        "Vizulize text"
      ]
    },
    {
      "cell_type": "code",
      "execution_count": 28,
      "metadata": {},
      "outputs": [
        {
          "name": "stderr",
          "output_type": "stream",
          "text": [
            "/users/eleves-b/2020/thomas.li/.local/lib/python3.9/site-packages/torch_geometric/deprecation.py:22: UserWarning: 'data.DataLoader' is deprecated, use 'loader.DataLoader' instead\n",
            "  warnings.warn(out)\n",
            "/users/eleves-b/2020/thomas.li/.local/lib/python3.9/site-packages/torch/utils/data/dataloader.py:557: UserWarning: This DataLoader will create 20 worker processes in total. Our suggested max number of worker in current system is 16, which is smaller than what this DataLoader is going to create. Please be aware that excessive worker creation might get DataLoader running slow or even freeze, lower the worker number to avoid potential slowness/freeze if necessary.\n",
            "  warnings.warn(_create_warning_msg(\n"
          ]
        },
        {
          "name": "stdout",
          "output_type": "stream",
          "text": [
            "device : cuda\n"
          ]
        }
      ],
      "source": [
        "model, train_loader, val_loader, criterion, optimizer = make(\n",
        "    finetune_config_instance, shuffle=False\n",
        ")"
      ]
    },
    {
      "cell_type": "code",
      "execution_count": 29,
      "metadata": {},
      "outputs": [
        {
          "data": {
            "text/plain": [
              "<All keys matched successfully>"
            ]
          },
          "execution_count": 29,
          "metadata": {},
          "output_type": "execute_result"
        }
      ],
      "source": [
        "model.load_state_dict(torch.load(\"models/baseline_finetune/baseline_finetune.pth\"))"
      ]
    },
    {
      "cell_type": "code",
      "execution_count": 30,
      "metadata": {},
      "outputs": [
        {
          "name": "stderr",
          "output_type": "stream",
          "text": [
            " 20%|██        | 169/826 [00:18<01:38,  6.66it/s]/users/eleves-b/2020/thomas.li/.local/lib/python3.9/site-packages/torch_geometric/data/collate.py:177: UserWarning: An output with one or more elements was resized since it had shape [1960], which does not match the required output shape [2, 1960]. This behavior is deprecated, and in a future PyTorch release outputs will not be resized unless they have zero elements. You can explicitly reuse an out tensor t by resizing it, inplace, to zero elements with t.resize_(0). (Triggered internally at ../aten/src/ATen/native/Resize.cpp:28.)\n",
            "  value = torch.cat(values, dim=cat_dim or 0, out=out)\n",
            " 36%|███▌      | 298/826 [00:33<00:43, 12.27it/s]/users/eleves-b/2020/thomas.li/.local/lib/python3.9/site-packages/torch_geometric/data/collate.py:177: UserWarning: An output with one or more elements was resized since it had shape [2248], which does not match the required output shape [2, 2248]. This behavior is deprecated, and in a future PyTorch release outputs will not be resized unless they have zero elements. You can explicitly reuse an out tensor t by resizing it, inplace, to zero elements with t.resize_(0). (Triggered internally at ../aten/src/ATen/native/Resize.cpp:28.)\n",
            "  value = torch.cat(values, dim=cat_dim or 0, out=out)\n",
            " 72%|███████▏  | 595/826 [01:19<00:38,  6.01it/s]/users/eleves-b/2020/thomas.li/.local/lib/python3.9/site-packages/torch_geometric/data/collate.py:177: UserWarning: An output with one or more elements was resized since it had shape [1712], which does not match the required output shape [2, 1712]. This behavior is deprecated, and in a future PyTorch release outputs will not be resized unless they have zero elements. You can explicitly reuse an out tensor t by resizing it, inplace, to zero elements with t.resize_(0). (Triggered internally at ../aten/src/ATen/native/Resize.cpp:28.)\n",
            "  value = torch.cat(values, dim=cat_dim or 0, out=out)\n",
            " 80%|███████▉  | 658/826 [01:28<00:26,  6.38it/s]/users/eleves-b/2020/thomas.li/.local/lib/python3.9/site-packages/torch_geometric/data/collate.py:177: UserWarning: An output with one or more elements was resized since it had shape [1700], which does not match the required output shape [2, 1700]. This behavior is deprecated, and in a future PyTorch release outputs will not be resized unless they have zero elements. You can explicitly reuse an out tensor t by resizing it, inplace, to zero elements with t.resize_(0). (Triggered internally at ../aten/src/ATen/native/Resize.cpp:28.)\n",
            "  value = torch.cat(values, dim=cat_dim or 0, out=out)\n",
            " 83%|████████▎ | 685/826 [01:33<00:22,  6.34it/s]/users/eleves-b/2020/thomas.li/.local/lib/python3.9/site-packages/torch_geometric/data/collate.py:177: UserWarning: An output with one or more elements was resized since it had shape [2242], which does not match the required output shape [2, 2242]. This behavior is deprecated, and in a future PyTorch release outputs will not be resized unless they have zero elements. You can explicitly reuse an out tensor t by resizing it, inplace, to zero elements with t.resize_(0). (Triggered internally at ../aten/src/ATen/native/Resize.cpp:28.)\n",
            "  value = torch.cat(values, dim=cat_dim or 0, out=out)\n",
            "                                                 \r"
          ]
        }
      ],
      "source": [
        "from sklearn.metrics.pairwise import cosine_similarity\n",
        "\n",
        "train_similarity_matrix = evaluate(\n",
        "    model,\n",
        "    train_loader,\n",
        "    criterion,\n",
        "    cosine_similarity,\n",
        "    LRAP_accuracy,\n",
        "    \"none\",\n",
        "    example_ct=1565,\n",
        "    wandb_log=False,\n",
        ")"
      ]
    },
    {
      "cell_type": "code",
      "execution_count": 55,
      "metadata": {},
      "outputs": [
        {
          "name": "stdout",
          "output_type": "stream",
          "text": [
            "{'len_miss_ranked': 8323, 'avg_miss_ranked': 2.8925868076414756, 'max_miss_ranked': 88, 'total_miss_ranked_pairs': 32398}\n"
          ]
        }
      ],
      "source": [
        "batch_sampler, stats_dico = get_batch_sampler(train_similarity_matrix, batch_size=32)"
      ]
    },
    {
      "cell_type": "code",
      "execution_count": 34,
      "metadata": {},
      "outputs": [],
      "source": [
        "batch_sampler_sizes = []\n",
        "for sublist in batch_sampler:\n",
        "    batch_sampler_sizes.append(len(sublist))\n",
        "batch_sampler_sizes = np.array(batch_sampler_sizes)"
      ]
    },
    {
      "cell_type": "code",
      "execution_count": 35,
      "metadata": {},
      "outputs": [
        {
          "data": {
            "text/plain": [
              "32"
            ]
          },
          "execution_count": 35,
          "metadata": {},
          "output_type": "execute_result"
        }
      ],
      "source": [
        "batch_sampler_sizes.max()"
      ]
    },
    {
      "cell_type": "code",
      "execution_count": 57,
      "metadata": {},
      "outputs": [
        {
          "name": "stderr",
          "output_type": "stream",
          "text": [
            "/users/eleves-b/2020/thomas.li/.local/lib/python3.9/site-packages/torch_geometric/deprecation.py:22: UserWarning: 'data.DataLoader' is deprecated, use 'loader.DataLoader' instead\n",
            "  warnings.warn(out)\n",
            "/users/eleves-b/2020/thomas.li/.local/lib/python3.9/site-packages/torch/utils/data/dataloader.py:557: UserWarning: This DataLoader will create 20 worker processes in total. Our suggested max number of worker in current system is 16, which is smaller than what this DataLoader is going to create. Please be aware that excessive worker creation might get DataLoader running slow or even freeze, lower the worker number to avoid potential slowness/freeze if necessary.\n",
            "  warnings.warn(_create_warning_msg(\n"
          ]
        }
      ],
      "source": [
        "tokenizer = AutoTokenizer.from_pretrained(\"distilbert-base-uncased\")\n",
        "gt = np.load(\"./data/token_embedding_dict.npy\", allow_pickle=True)[()]\n",
        "train_dataset = GraphTextDataset(\n",
        "    root=\"./data/\", gt=gt, split=\"train\", tokenizer=tokenizer\n",
        ")\n",
        "# finetune_train_loader = DataLoader(\n",
        "#     train_dataset, batch_sampler=batch_sampler, num_workers=20\n",
        "# )\n",
        "\n",
        "\n",
        "finetune_train_loader = DataLoader(\n",
        "    train_dataset, batch_sampler=batch_sampler, num_workers=20\n",
        ")"
      ]
    },
    {
      "cell_type": "code",
      "execution_count": 51,
      "metadata": {},
      "outputs": [],
      "source": [
        "n_total_samples = 26000\n",
        "batch_size = 32\n",
        "regular_batch_sampler = np.random.permutation(n_total_samples)\n",
        "regular_batch_sampler = regular_batch_sampler[\n",
        "    : n_total_samples - (n_total_samples % batch_size)\n",
        "]\n",
        "regular_batch_sampler = regular_batch_sampler.reshape(\n",
        "    n_total_samples // batch_size, batch_size\n",
        ").tolist()"
      ]
    },
    {
      "cell_type": "code",
      "execution_count": null,
      "metadata": {},
      "outputs": [],
      "source": []
    },
    {
      "cell_type": "code",
      "execution_count": 96,
      "metadata": {},
      "outputs": [
        {
          "name": "stderr",
          "output_type": "stream",
          "text": [
            "0it [00:00, ?it/s]/users/eleves-b/2020/thomas.li/.local/lib/python3.9/site-packages/torch_geometric/data/collate.py:177: UserWarning: An output with one or more elements was resized since it had shape [10], which does not match the required output shape [2, 10]. This behavior is deprecated, and in a future PyTorch release outputs will not be resized unless they have zero elements. You can explicitly reuse an out tensor t by resizing it, inplace, to zero elements with t.resize_(0). (Triggered internally at ../aten/src/ATen/native/Resize.cpp:28.)\n",
            "  value = torch.cat(values, dim=cat_dim or 0, out=out)\n",
            "/users/eleves-b/2020/thomas.li/.local/lib/python3.9/site-packages/torch_geometric/data/collate.py:177: UserWarning: An output with one or more elements was resized since it had shape [478], which does not match the required output shape [2, 478]. This behavior is deprecated, and in a future PyTorch release outputs will not be resized unless they have zero elements. You can explicitly reuse an out tensor t by resizing it, inplace, to zero elements with t.resize_(0). (Triggered internally at ../aten/src/ATen/native/Resize.cpp:28.)\n",
            "  value = torch.cat(values, dim=cat_dim or 0, out=out)\n",
            "61it [00:02, 34.09it/s]/users/eleves-b/2020/thomas.li/.local/lib/python3.9/site-packages/torch_geometric/data/collate.py:177: UserWarning: An output with one or more elements was resized since it had shape [50], which does not match the required output shape [2, 50]. This behavior is deprecated, and in a future PyTorch release outputs will not be resized unless they have zero elements. You can explicitly reuse an out tensor t by resizing it, inplace, to zero elements with t.resize_(0). (Triggered internally at ../aten/src/ATen/native/Resize.cpp:28.)\n",
            "  value = torch.cat(values, dim=cat_dim or 0, out=out)\n",
            "/users/eleves-b/2020/thomas.li/.local/lib/python3.9/site-packages/torch_geometric/data/collate.py:177: UserWarning: An output with one or more elements was resized since it had shape [998], which does not match the required output shape [2, 998]. This behavior is deprecated, and in a future PyTorch release outputs will not be resized unless they have zero elements. You can explicitly reuse an out tensor t by resizing it, inplace, to zero elements with t.resize_(0). (Triggered internally at ../aten/src/ATen/native/Resize.cpp:28.)\n",
            "  value = torch.cat(values, dim=cat_dim or 0, out=out)\n",
            "/users/eleves-b/2020/thomas.li/.local/lib/python3.9/site-packages/torch_geometric/data/collate.py:177: UserWarning: An output with one or more elements was resized since it had shape [946], which does not match the required output shape [2, 946]. This behavior is deprecated, and in a future PyTorch release outputs will not be resized unless they have zero elements. You can explicitly reuse an out tensor t by resizing it, inplace, to zero elements with t.resize_(0). (Triggered internally at ../aten/src/ATen/native/Resize.cpp:28.)\n",
            "  value = torch.cat(values, dim=cat_dim or 0, out=out)\n",
            "/users/eleves-b/2020/thomas.li/.local/lib/python3.9/site-packages/torch_geometric/data/collate.py:177: UserWarning: An output with one or more elements was resized since it had shape [12], which does not match the required output shape [2, 12]. This behavior is deprecated, and in a future PyTorch release outputs will not be resized unless they have zero elements. You can explicitly reuse an out tensor t by resizing it, inplace, to zero elements with t.resize_(0). (Triggered internally at ../aten/src/ATen/native/Resize.cpp:28.)\n",
            "  value = torch.cat(values, dim=cat_dim or 0, out=out)\n",
            "145it [00:05, 24.91it/s]/users/eleves-b/2020/thomas.li/.local/lib/python3.9/site-packages/torch_geometric/data/collate.py:177: UserWarning: An output with one or more elements was resized since it had shape [30], which does not match the required output shape [2, 30]. This behavior is deprecated, and in a future PyTorch release outputs will not be resized unless they have zero elements. You can explicitly reuse an out tensor t by resizing it, inplace, to zero elements with t.resize_(0). (Triggered internally at ../aten/src/ATen/native/Resize.cpp:28.)\n",
            "  value = torch.cat(values, dim=cat_dim or 0, out=out)\n",
            "161it [00:05, 33.14it/s]/users/eleves-b/2020/thomas.li/.local/lib/python3.9/site-packages/torch_geometric/data/collate.py:177: UserWarning: An output with one or more elements was resized since it had shape [26], which does not match the required output shape [2, 26]. This behavior is deprecated, and in a future PyTorch release outputs will not be resized unless they have zero elements. You can explicitly reuse an out tensor t by resizing it, inplace, to zero elements with t.resize_(0). (Triggered internally at ../aten/src/ATen/native/Resize.cpp:28.)\n",
            "  value = torch.cat(values, dim=cat_dim or 0, out=out)\n",
            "246it [00:08, 30.80it/s]/users/eleves-b/2020/thomas.li/.local/lib/python3.9/site-packages/torch_geometric/data/collate.py:177: UserWarning: An output with one or more elements was resized since it had shape [1898], which does not match the required output shape [2, 1898]. This behavior is deprecated, and in a future PyTorch release outputs will not be resized unless they have zero elements. You can explicitly reuse an out tensor t by resizing it, inplace, to zero elements with t.resize_(0). (Triggered internally at ../aten/src/ATen/native/Resize.cpp:28.)\n",
            "  value = torch.cat(values, dim=cat_dim or 0, out=out)\n",
            "254it [00:08, 29.29it/s]/users/eleves-b/2020/thomas.li/.local/lib/python3.9/site-packages/torch_geometric/data/collate.py:177: UserWarning: An output with one or more elements was resized since it had shape [2232], which does not match the required output shape [2, 2232]. This behavior is deprecated, and in a future PyTorch release outputs will not be resized unless they have zero elements. You can explicitly reuse an out tensor t by resizing it, inplace, to zero elements with t.resize_(0). (Triggered internally at ../aten/src/ATen/native/Resize.cpp:28.)\n",
            "  value = torch.cat(values, dim=cat_dim or 0, out=out)\n",
            "/users/eleves-b/2020/thomas.li/.local/lib/python3.9/site-packages/torch_geometric/data/collate.py:177: UserWarning: An output with one or more elements was resized since it had shape [30], which does not match the required output shape [2, 30]. This behavior is deprecated, and in a future PyTorch release outputs will not be resized unless they have zero elements. You can explicitly reuse an out tensor t by resizing it, inplace, to zero elements with t.resize_(0). (Triggered internally at ../aten/src/ATen/native/Resize.cpp:28.)\n",
            "  value = torch.cat(values, dim=cat_dim or 0, out=out)\n",
            "262it [00:09, 27.35it/s]/users/eleves-b/2020/thomas.li/.local/lib/python3.9/site-packages/torch_geometric/data/collate.py:177: UserWarning: An output with one or more elements was resized since it had shape [40], which does not match the required output shape [2, 40]. This behavior is deprecated, and in a future PyTorch release outputs will not be resized unless they have zero elements. You can explicitly reuse an out tensor t by resizing it, inplace, to zero elements with t.resize_(0). (Triggered internally at ../aten/src/ATen/native/Resize.cpp:28.)\n",
            "  value = torch.cat(values, dim=cat_dim or 0, out=out)\n",
            "302it [00:10, 29.16it/s]/users/eleves-b/2020/thomas.li/.local/lib/python3.9/site-packages/torch_geometric/data/collate.py:177: UserWarning: An output with one or more elements was resized since it had shape [78], which does not match the required output shape [2, 78]. This behavior is deprecated, and in a future PyTorch release outputs will not be resized unless they have zero elements. You can explicitly reuse an out tensor t by resizing it, inplace, to zero elements with t.resize_(0). (Triggered internally at ../aten/src/ATen/native/Resize.cpp:28.)\n",
            "  value = torch.cat(values, dim=cat_dim or 0, out=out)\n",
            "305it [00:10, 29.10it/s]/users/eleves-b/2020/thomas.li/.local/lib/python3.9/site-packages/torch_geometric/data/collate.py:177: UserWarning: An output with one or more elements was resized since it had shape [386], which does not match the required output shape [2, 386]. This behavior is deprecated, and in a future PyTorch release outputs will not be resized unless they have zero elements. You can explicitly reuse an out tensor t by resizing it, inplace, to zero elements with t.resize_(0). (Triggered internally at ../aten/src/ATen/native/Resize.cpp:28.)\n",
            "  value = torch.cat(values, dim=cat_dim or 0, out=out)\n",
            "309it [00:10, 26.17it/s]/users/eleves-b/2020/thomas.li/.local/lib/python3.9/site-packages/torch_geometric/data/collate.py:177: UserWarning: An output with one or more elements was resized since it had shape [22], which does not match the required output shape [2, 22]. This behavior is deprecated, and in a future PyTorch release outputs will not be resized unless they have zero elements. You can explicitly reuse an out tensor t by resizing it, inplace, to zero elements with t.resize_(0). (Triggered internally at ../aten/src/ATen/native/Resize.cpp:28.)\n",
            "  value = torch.cat(values, dim=cat_dim or 0, out=out)\n",
            "322it [00:11, 31.22it/s]/users/eleves-b/2020/thomas.li/.local/lib/python3.9/site-packages/torch_geometric/data/collate.py:177: UserWarning: An output with one or more elements was resized since it had shape [30], which does not match the required output shape [2, 30]. This behavior is deprecated, and in a future PyTorch release outputs will not be resized unless they have zero elements. You can explicitly reuse an out tensor t by resizing it, inplace, to zero elements with t.resize_(0). (Triggered internally at ../aten/src/ATen/native/Resize.cpp:28.)\n",
            "  value = torch.cat(values, dim=cat_dim or 0, out=out)\n",
            "349it [00:12, 25.57it/s]/users/eleves-b/2020/thomas.li/.local/lib/python3.9/site-packages/torch_geometric/data/collate.py:177: UserWarning: An output with one or more elements was resized since it had shape [386], which does not match the required output shape [2, 386]. This behavior is deprecated, and in a future PyTorch release outputs will not be resized unless they have zero elements. You can explicitly reuse an out tensor t by resizing it, inplace, to zero elements with t.resize_(0). (Triggered internally at ../aten/src/ATen/native/Resize.cpp:28.)\n",
            "  value = torch.cat(values, dim=cat_dim or 0, out=out)\n",
            "362it [00:12, 35.66it/s]/users/eleves-b/2020/thomas.li/.local/lib/python3.9/site-packages/torch_geometric/data/collate.py:177: UserWarning: An output with one or more elements was resized since it had shape [540], which does not match the required output shape [2, 540]. This behavior is deprecated, and in a future PyTorch release outputs will not be resized unless they have zero elements. You can explicitly reuse an out tensor t by resizing it, inplace, to zero elements with t.resize_(0). (Triggered internally at ../aten/src/ATen/native/Resize.cpp:28.)\n",
            "  value = torch.cat(values, dim=cat_dim or 0, out=out)\n",
            "/users/eleves-b/2020/thomas.li/.local/lib/python3.9/site-packages/torch_geometric/data/collate.py:177: UserWarning: An output with one or more elements was resized since it had shape [8], which does not match the required output shape [2, 8]. This behavior is deprecated, and in a future PyTorch release outputs will not be resized unless they have zero elements. You can explicitly reuse an out tensor t by resizing it, inplace, to zero elements with t.resize_(0). (Triggered internally at ../aten/src/ATen/native/Resize.cpp:28.)\n",
            "  value = torch.cat(values, dim=cat_dim or 0, out=out)\n",
            "/users/eleves-b/2020/thomas.li/.local/lib/python3.9/site-packages/torch_geometric/data/collate.py:177: UserWarning: An output with one or more elements was resized since it had shape [60], which does not match the required output shape [2, 60]. This behavior is deprecated, and in a future PyTorch release outputs will not be resized unless they have zero elements. You can explicitly reuse an out tensor t by resizing it, inplace, to zero elements with t.resize_(0). (Triggered internally at ../aten/src/ATen/native/Resize.cpp:28.)\n",
            "  value = torch.cat(values, dim=cat_dim or 0, out=out)\n",
            "367it [00:12, 27.47it/s]/users/eleves-b/2020/thomas.li/.local/lib/python3.9/site-packages/torch_geometric/data/collate.py:177: UserWarning: An output with one or more elements was resized since it had shape [76], which does not match the required output shape [2, 76]. This behavior is deprecated, and in a future PyTorch release outputs will not be resized unless they have zero elements. You can explicitly reuse an out tensor t by resizing it, inplace, to zero elements with t.resize_(0). (Triggered internally at ../aten/src/ATen/native/Resize.cpp:28.)\n",
            "  value = torch.cat(values, dim=cat_dim or 0, out=out)\n",
            "466it [00:16, 26.04it/s]/users/eleves-b/2020/thomas.li/.local/lib/python3.9/site-packages/torch_geometric/data/collate.py:177: UserWarning: An output with one or more elements was resized since it had shape [22], which does not match the required output shape [2, 22]. This behavior is deprecated, and in a future PyTorch release outputs will not be resized unless they have zero elements. You can explicitly reuse an out tensor t by resizing it, inplace, to zero elements with t.resize_(0). (Triggered internally at ../aten/src/ATen/native/Resize.cpp:28.)\n",
            "  value = torch.cat(values, dim=cat_dim or 0, out=out)\n",
            "/users/eleves-b/2020/thomas.li/.local/lib/python3.9/site-packages/torch_geometric/data/collate.py:177: UserWarning: An output with one or more elements was resized since it had shape [1816], which does not match the required output shape [2, 1816]. This behavior is deprecated, and in a future PyTorch release outputs will not be resized unless they have zero elements. You can explicitly reuse an out tensor t by resizing it, inplace, to zero elements with t.resize_(0). (Triggered internally at ../aten/src/ATen/native/Resize.cpp:28.)\n",
            "  value = torch.cat(values, dim=cat_dim or 0, out=out)\n",
            "507it [00:17, 27.09it/s]/users/eleves-b/2020/thomas.li/.local/lib/python3.9/site-packages/torch_geometric/data/collate.py:177: UserWarning: An output with one or more elements was resized since it had shape [8], which does not match the required output shape [2, 8]. This behavior is deprecated, and in a future PyTorch release outputs will not be resized unless they have zero elements. You can explicitly reuse an out tensor t by resizing it, inplace, to zero elements with t.resize_(0). (Triggered internally at ../aten/src/ATen/native/Resize.cpp:28.)\n",
            "  value = torch.cat(values, dim=cat_dim or 0, out=out)\n",
            "/users/eleves-b/2020/thomas.li/.local/lib/python3.9/site-packages/torch_geometric/data/collate.py:177: UserWarning: An output with one or more elements was resized since it had shape [30], which does not match the required output shape [2, 30]. This behavior is deprecated, and in a future PyTorch release outputs will not be resized unless they have zero elements. You can explicitly reuse an out tensor t by resizing it, inplace, to zero elements with t.resize_(0). (Triggered internally at ../aten/src/ATen/native/Resize.cpp:28.)\n",
            "  value = torch.cat(values, dim=cat_dim or 0, out=out)\n",
            "/users/eleves-b/2020/thomas.li/.local/lib/python3.9/site-packages/torch_geometric/data/collate.py:177: UserWarning: An output with one or more elements was resized since it had shape [8], which does not match the required output shape [2, 8]. This behavior is deprecated, and in a future PyTorch release outputs will not be resized unless they have zero elements. You can explicitly reuse an out tensor t by resizing it, inplace, to zero elements with t.resize_(0). (Triggered internally at ../aten/src/ATen/native/Resize.cpp:28.)\n",
            "  value = torch.cat(values, dim=cat_dim or 0, out=out)\n",
            "522it [00:18, 35.14it/s]/users/eleves-b/2020/thomas.li/.local/lib/python3.9/site-packages/torch_geometric/data/collate.py:177: UserWarning: An output with one or more elements was resized since it had shape [924], which does not match the required output shape [2, 924]. This behavior is deprecated, and in a future PyTorch release outputs will not be resized unless they have zero elements. You can explicitly reuse an out tensor t by resizing it, inplace, to zero elements with t.resize_(0). (Triggered internally at ../aten/src/ATen/native/Resize.cpp:28.)\n",
            "  value = torch.cat(values, dim=cat_dim or 0, out=out)\n",
            "531it [00:18, 26.86it/s]/users/eleves-b/2020/thomas.li/.local/lib/python3.9/site-packages/torch_geometric/data/collate.py:177: UserWarning: An output with one or more elements was resized since it had shape [1264], which does not match the required output shape [2, 1264]. This behavior is deprecated, and in a future PyTorch release outputs will not be resized unless they have zero elements. You can explicitly reuse an out tensor t by resizing it, inplace, to zero elements with t.resize_(0). (Triggered internally at ../aten/src/ATen/native/Resize.cpp:28.)\n",
            "  value = torch.cat(values, dim=cat_dim or 0, out=out)\n",
            "/users/eleves-b/2020/thomas.li/.local/lib/python3.9/site-packages/torch_geometric/data/collate.py:177: UserWarning: An output with one or more elements was resized since it had shape [40], which does not match the required output shape [2, 40]. This behavior is deprecated, and in a future PyTorch release outputs will not be resized unless they have zero elements. You can explicitly reuse an out tensor t by resizing it, inplace, to zero elements with t.resize_(0). (Triggered internally at ../aten/src/ATen/native/Resize.cpp:28.)\n",
            "  value = torch.cat(values, dim=cat_dim or 0, out=out)\n",
            "542it [00:18, 28.08it/s]/users/eleves-b/2020/thomas.li/.local/lib/python3.9/site-packages/torch_geometric/data/collate.py:177: UserWarning: An output with one or more elements was resized since it had shape [32], which does not match the required output shape [2, 32]. This behavior is deprecated, and in a future PyTorch release outputs will not be resized unless they have zero elements. You can explicitly reuse an out tensor t by resizing it, inplace, to zero elements with t.resize_(0). (Triggered internally at ../aten/src/ATen/native/Resize.cpp:28.)\n",
            "  value = torch.cat(values, dim=cat_dim or 0, out=out)\n",
            "/users/eleves-b/2020/thomas.li/.local/lib/python3.9/site-packages/torch_geometric/data/collate.py:177: UserWarning: An output with one or more elements was resized since it had shape [334], which does not match the required output shape [2, 334]. This behavior is deprecated, and in a future PyTorch release outputs will not be resized unless they have zero elements. You can explicitly reuse an out tensor t by resizing it, inplace, to zero elements with t.resize_(0). (Triggered internally at ../aten/src/ATen/native/Resize.cpp:28.)\n",
            "  value = torch.cat(values, dim=cat_dim or 0, out=out)\n",
            "597it [00:20, 31.97it/s]/users/eleves-b/2020/thomas.li/.local/lib/python3.9/site-packages/torch_geometric/data/collate.py:177: UserWarning: An output with one or more elements was resized since it had shape [68], which does not match the required output shape [2, 68]. This behavior is deprecated, and in a future PyTorch release outputs will not be resized unless they have zero elements. You can explicitly reuse an out tensor t by resizing it, inplace, to zero elements with t.resize_(0). (Triggered internally at ../aten/src/ATen/native/Resize.cpp:28.)\n",
            "  value = torch.cat(values, dim=cat_dim or 0, out=out)\n",
            "602it [00:21, 28.43it/s]/users/eleves-b/2020/thomas.li/.local/lib/python3.9/site-packages/torch_geometric/data/collate.py:177: UserWarning: An output with one or more elements was resized since it had shape [410], which does not match the required output shape [2, 410]. This behavior is deprecated, and in a future PyTorch release outputs will not be resized unless they have zero elements. You can explicitly reuse an out tensor t by resizing it, inplace, to zero elements with t.resize_(0). (Triggered internally at ../aten/src/ATen/native/Resize.cpp:28.)\n",
            "  value = torch.cat(values, dim=cat_dim or 0, out=out)\n",
            "/users/eleves-b/2020/thomas.li/.local/lib/python3.9/site-packages/torch_geometric/data/collate.py:177: UserWarning: An output with one or more elements was resized since it had shape [52], which does not match the required output shape [2, 52]. This behavior is deprecated, and in a future PyTorch release outputs will not be resized unless they have zero elements. You can explicitly reuse an out tensor t by resizing it, inplace, to zero elements with t.resize_(0). (Triggered internally at ../aten/src/ATen/native/Resize.cpp:28.)\n",
            "  value = torch.cat(values, dim=cat_dim or 0, out=out)\n",
            "606it [00:21, 24.91it/s]/users/eleves-b/2020/thomas.li/.local/lib/python3.9/site-packages/torch_geometric/data/collate.py:177: UserWarning: An output with one or more elements was resized since it had shape [44], which does not match the required output shape [2, 44]. This behavior is deprecated, and in a future PyTorch release outputs will not be resized unless they have zero elements. You can explicitly reuse an out tensor t by resizing it, inplace, to zero elements with t.resize_(0). (Triggered internally at ../aten/src/ATen/native/Resize.cpp:28.)\n",
            "  value = torch.cat(values, dim=cat_dim or 0, out=out)\n",
            "616it [00:21, 32.54it/s]/users/eleves-b/2020/thomas.li/.local/lib/python3.9/site-packages/torch_geometric/data/collate.py:177: UserWarning: An output with one or more elements was resized since it had shape [774], which does not match the required output shape [2, 774]. This behavior is deprecated, and in a future PyTorch release outputs will not be resized unless they have zero elements. You can explicitly reuse an out tensor t by resizing it, inplace, to zero elements with t.resize_(0). (Triggered internally at ../aten/src/ATen/native/Resize.cpp:28.)\n",
            "  value = torch.cat(values, dim=cat_dim or 0, out=out)\n",
            "620it [00:21, 29.39it/s]/users/eleves-b/2020/thomas.li/.local/lib/python3.9/site-packages/torch_geometric/data/collate.py:177: UserWarning: An output with one or more elements was resized since it had shape [2088], which does not match the required output shape [2, 2088]. This behavior is deprecated, and in a future PyTorch release outputs will not be resized unless they have zero elements. You can explicitly reuse an out tensor t by resizing it, inplace, to zero elements with t.resize_(0). (Triggered internally at ../aten/src/ATen/native/Resize.cpp:28.)\n",
            "  value = torch.cat(values, dim=cat_dim or 0, out=out)\n",
            "/users/eleves-b/2020/thomas.li/.local/lib/python3.9/site-packages/torch_geometric/data/collate.py:177: UserWarning: An output with one or more elements was resized since it had shape [22], which does not match the required output shape [2, 22]. This behavior is deprecated, and in a future PyTorch release outputs will not be resized unless they have zero elements. You can explicitly reuse an out tensor t by resizing it, inplace, to zero elements with t.resize_(0). (Triggered internally at ../aten/src/ATen/native/Resize.cpp:28.)\n",
            "  value = torch.cat(values, dim=cat_dim or 0, out=out)\n",
            "624it [00:22, 22.63it/s]/users/eleves-b/2020/thomas.li/.local/lib/python3.9/site-packages/torch_geometric/data/collate.py:177: UserWarning: An output with one or more elements was resized since it had shape [26], which does not match the required output shape [2, 26]. This behavior is deprecated, and in a future PyTorch release outputs will not be resized unless they have zero elements. You can explicitly reuse an out tensor t by resizing it, inplace, to zero elements with t.resize_(0). (Triggered internally at ../aten/src/ATen/native/Resize.cpp:28.)\n",
            "  value = torch.cat(values, dim=cat_dim or 0, out=out)\n",
            "/users/eleves-b/2020/thomas.li/.local/lib/python3.9/site-packages/torch_geometric/data/collate.py:177: UserWarning: An output with one or more elements was resized since it had shape [28], which does not match the required output shape [2, 28]. This behavior is deprecated, and in a future PyTorch release outputs will not be resized unless they have zero elements. You can explicitly reuse an out tensor t by resizing it, inplace, to zero elements with t.resize_(0). (Triggered internally at ../aten/src/ATen/native/Resize.cpp:28.)\n",
            "  value = torch.cat(values, dim=cat_dim or 0, out=out)\n",
            "636it [00:22, 25.70it/s]/users/eleves-b/2020/thomas.li/.local/lib/python3.9/site-packages/torch_geometric/data/collate.py:177: UserWarning: An output with one or more elements was resized since it had shape [270], which does not match the required output shape [2, 270]. This behavior is deprecated, and in a future PyTorch release outputs will not be resized unless they have zero elements. You can explicitly reuse an out tensor t by resizing it, inplace, to zero elements with t.resize_(0). (Triggered internally at ../aten/src/ATen/native/Resize.cpp:28.)\n",
            "  value = torch.cat(values, dim=cat_dim or 0, out=out)\n",
            "/users/eleves-b/2020/thomas.li/.local/lib/python3.9/site-packages/torch_geometric/data/collate.py:177: UserWarning: An output with one or more elements was resized since it had shape [1250], which does not match the required output shape [2, 1250]. This behavior is deprecated, and in a future PyTorch release outputs will not be resized unless they have zero elements. You can explicitly reuse an out tensor t by resizing it, inplace, to zero elements with t.resize_(0). (Triggered internally at ../aten/src/ATen/native/Resize.cpp:28.)\n",
            "  value = torch.cat(values, dim=cat_dim or 0, out=out)\n",
            "656it [00:23, 21.78it/s]/users/eleves-b/2020/thomas.li/.local/lib/python3.9/site-packages/torch_geometric/data/collate.py:177: UserWarning: An output with one or more elements was resized since it had shape [50], which does not match the required output shape [2, 50]. This behavior is deprecated, and in a future PyTorch release outputs will not be resized unless they have zero elements. You can explicitly reuse an out tensor t by resizing it, inplace, to zero elements with t.resize_(0). (Triggered internally at ../aten/src/ATen/native/Resize.cpp:28.)\n",
            "  value = torch.cat(values, dim=cat_dim or 0, out=out)\n",
            "668it [00:23, 29.83it/s]/users/eleves-b/2020/thomas.li/.local/lib/python3.9/site-packages/torch_geometric/data/collate.py:177: UserWarning: An output with one or more elements was resized since it had shape [2054], which does not match the required output shape [2, 2054]. This behavior is deprecated, and in a future PyTorch release outputs will not be resized unless they have zero elements. You can explicitly reuse an out tensor t by resizing it, inplace, to zero elements with t.resize_(0). (Triggered internally at ../aten/src/ATen/native/Resize.cpp:28.)\n",
            "  value = torch.cat(values, dim=cat_dim or 0, out=out)\n",
            "672it [00:23, 25.66it/s]/users/eleves-b/2020/thomas.li/.local/lib/python3.9/site-packages/torch_geometric/data/collate.py:177: UserWarning: An output with one or more elements was resized since it had shape [490], which does not match the required output shape [2, 490]. This behavior is deprecated, and in a future PyTorch release outputs will not be resized unless they have zero elements. You can explicitly reuse an out tensor t by resizing it, inplace, to zero elements with t.resize_(0). (Triggered internally at ../aten/src/ATen/native/Resize.cpp:28.)\n",
            "  value = torch.cat(values, dim=cat_dim or 0, out=out)\n",
            "676it [00:24, 20.86it/s]/users/eleves-b/2020/thomas.li/.local/lib/python3.9/site-packages/torch_geometric/data/collate.py:177: UserWarning: An output with one or more elements was resized since it had shape [34], which does not match the required output shape [2, 34]. This behavior is deprecated, and in a future PyTorch release outputs will not be resized unless they have zero elements. You can explicitly reuse an out tensor t by resizing it, inplace, to zero elements with t.resize_(0). (Triggered internally at ../aten/src/ATen/native/Resize.cpp:28.)\n",
            "  value = torch.cat(values, dim=cat_dim or 0, out=out)\n",
            "691it [00:24, 29.54it/s]/users/eleves-b/2020/thomas.li/.local/lib/python3.9/site-packages/torch_geometric/data/collate.py:177: UserWarning: An output with one or more elements was resized since it had shape [38], which does not match the required output shape [2, 38]. This behavior is deprecated, and in a future PyTorch release outputs will not be resized unless they have zero elements. You can explicitly reuse an out tensor t by resizing it, inplace, to zero elements with t.resize_(0). (Triggered internally at ../aten/src/ATen/native/Resize.cpp:28.)\n",
            "  value = torch.cat(values, dim=cat_dim or 0, out=out)\n",
            "708it [00:24, 34.25it/s]/users/eleves-b/2020/thomas.li/.local/lib/python3.9/site-packages/torch_geometric/data/collate.py:177: UserWarning: An output with one or more elements was resized since it had shape [58], which does not match the required output shape [2, 58]. This behavior is deprecated, and in a future PyTorch release outputs will not be resized unless they have zero elements. You can explicitly reuse an out tensor t by resizing it, inplace, to zero elements with t.resize_(0). (Triggered internally at ../aten/src/ATen/native/Resize.cpp:28.)\n",
            "  value = torch.cat(values, dim=cat_dim or 0, out=out)\n",
            "/users/eleves-b/2020/thomas.li/.local/lib/python3.9/site-packages/torch_geometric/data/collate.py:177: UserWarning: An output with one or more elements was resized since it had shape [74], which does not match the required output shape [2, 74]. This behavior is deprecated, and in a future PyTorch release outputs will not be resized unless they have zero elements. You can explicitly reuse an out tensor t by resizing it, inplace, to zero elements with t.resize_(0). (Triggered internally at ../aten/src/ATen/native/Resize.cpp:28.)\n",
            "  value = torch.cat(values, dim=cat_dim or 0, out=out)\n",
            "712it [00:25, 30.75it/s]/users/eleves-b/2020/thomas.li/.local/lib/python3.9/site-packages/torch_geometric/data/collate.py:177: UserWarning: An output with one or more elements was resized since it had shape [646], which does not match the required output shape [2, 646]. This behavior is deprecated, and in a future PyTorch release outputs will not be resized unless they have zero elements. You can explicitly reuse an out tensor t by resizing it, inplace, to zero elements with t.resize_(0). (Triggered internally at ../aten/src/ATen/native/Resize.cpp:28.)\n",
            "  value = torch.cat(values, dim=cat_dim or 0, out=out)\n",
            "748it [00:26, 32.69it/s]/users/eleves-b/2020/thomas.li/.local/lib/python3.9/site-packages/torch_geometric/data/collate.py:177: UserWarning: An output with one or more elements was resized since it had shape [2858], which does not match the required output shape [2, 2858]. This behavior is deprecated, and in a future PyTorch release outputs will not be resized unless they have zero elements. You can explicitly reuse an out tensor t by resizing it, inplace, to zero elements with t.resize_(0). (Triggered internally at ../aten/src/ATen/native/Resize.cpp:28.)\n",
            "  value = torch.cat(values, dim=cat_dim or 0, out=out)\n",
            "/users/eleves-b/2020/thomas.li/.local/lib/python3.9/site-packages/torch_geometric/data/collate.py:177: UserWarning: An output with one or more elements was resized since it had shape [58], which does not match the required output shape [2, 58]. This behavior is deprecated, and in a future PyTorch release outputs will not be resized unless they have zero elements. You can explicitly reuse an out tensor t by resizing it, inplace, to zero elements with t.resize_(0). (Triggered internally at ../aten/src/ATen/native/Resize.cpp:28.)\n",
            "  value = torch.cat(values, dim=cat_dim or 0, out=out)\n",
            "752it [00:26, 28.39it/s]/users/eleves-b/2020/thomas.li/.local/lib/python3.9/site-packages/torch_geometric/data/collate.py:177: UserWarning: An output with one or more elements was resized since it had shape [68], which does not match the required output shape [2, 68]. This behavior is deprecated, and in a future PyTorch release outputs will not be resized unless they have zero elements. You can explicitly reuse an out tensor t by resizing it, inplace, to zero elements with t.resize_(0). (Triggered internally at ../aten/src/ATen/native/Resize.cpp:28.)\n",
            "  value = torch.cat(values, dim=cat_dim or 0, out=out)\n",
            "761it [00:26, 28.72it/s]/users/eleves-b/2020/thomas.li/.local/lib/python3.9/site-packages/torch_geometric/data/collate.py:177: UserWarning: An output with one or more elements was resized since it had shape [58], which does not match the required output shape [2, 58]. This behavior is deprecated, and in a future PyTorch release outputs will not be resized unless they have zero elements. You can explicitly reuse an out tensor t by resizing it, inplace, to zero elements with t.resize_(0). (Triggered internally at ../aten/src/ATen/native/Resize.cpp:28.)\n",
            "  value = torch.cat(values, dim=cat_dim or 0, out=out)\n",
            "768it [00:27, 35.41it/s]/users/eleves-b/2020/thomas.li/.local/lib/python3.9/site-packages/torch_geometric/data/collate.py:177: UserWarning: An output with one or more elements was resized since it had shape [216], which does not match the required output shape [2, 216]. This behavior is deprecated, and in a future PyTorch release outputs will not be resized unless they have zero elements. You can explicitly reuse an out tensor t by resizing it, inplace, to zero elements with t.resize_(0). (Triggered internally at ../aten/src/ATen/native/Resize.cpp:28.)\n",
            "  value = torch.cat(values, dim=cat_dim or 0, out=out)\n",
            "/users/eleves-b/2020/thomas.li/.local/lib/python3.9/site-packages/torch_geometric/data/collate.py:177: UserWarning: An output with one or more elements was resized since it had shape [1236], which does not match the required output shape [2, 1236]. This behavior is deprecated, and in a future PyTorch release outputs will not be resized unless they have zero elements. You can explicitly reuse an out tensor t by resizing it, inplace, to zero elements with t.resize_(0). (Triggered internally at ../aten/src/ATen/native/Resize.cpp:28.)\n",
            "  value = torch.cat(values, dim=cat_dim or 0, out=out)\n",
            "781it [00:27, 26.47it/s]/users/eleves-b/2020/thomas.li/.local/lib/python3.9/site-packages/torch_geometric/data/collate.py:177: UserWarning: An output with one or more elements was resized since it had shape [62], which does not match the required output shape [2, 62]. This behavior is deprecated, and in a future PyTorch release outputs will not be resized unless they have zero elements. You can explicitly reuse an out tensor t by resizing it, inplace, to zero elements with t.resize_(0). (Triggered internally at ../aten/src/ATen/native/Resize.cpp:28.)\n",
            "  value = torch.cat(values, dim=cat_dim or 0, out=out)\n",
            "/users/eleves-b/2020/thomas.li/.local/lib/python3.9/site-packages/torch_geometric/data/collate.py:177: UserWarning: An output with one or more elements was resized since it had shape [28], which does not match the required output shape [2, 28]. This behavior is deprecated, and in a future PyTorch release outputs will not be resized unless they have zero elements. You can explicitly reuse an out tensor t by resizing it, inplace, to zero elements with t.resize_(0). (Triggered internally at ../aten/src/ATen/native/Resize.cpp:28.)\n",
            "  value = torch.cat(values, dim=cat_dim or 0, out=out)\n",
            "/users/eleves-b/2020/thomas.li/.local/lib/python3.9/site-packages/torch_geometric/data/collate.py:177: UserWarning: An output with one or more elements was resized since it had shape [278], which does not match the required output shape [2, 278]. This behavior is deprecated, and in a future PyTorch release outputs will not be resized unless they have zero elements. You can explicitly reuse an out tensor t by resizing it, inplace, to zero elements with t.resize_(0). (Triggered internally at ../aten/src/ATen/native/Resize.cpp:28.)\n",
            "  value = torch.cat(values, dim=cat_dim or 0, out=out)\n",
            "848it [00:29, 35.45it/s]/users/eleves-b/2020/thomas.li/.local/lib/python3.9/site-packages/torch_geometric/data/collate.py:177: UserWarning: An output with one or more elements was resized since it had shape [134], which does not match the required output shape [2, 134]. This behavior is deprecated, and in a future PyTorch release outputs will not be resized unless they have zero elements. You can explicitly reuse an out tensor t by resizing it, inplace, to zero elements with t.resize_(0). (Triggered internally at ../aten/src/ATen/native/Resize.cpp:28.)\n",
            "  value = torch.cat(values, dim=cat_dim or 0, out=out)\n",
            "/users/eleves-b/2020/thomas.li/.local/lib/python3.9/site-packages/torch_geometric/data/collate.py:177: UserWarning: An output with one or more elements was resized since it had shape [36], which does not match the required output shape [2, 36]. This behavior is deprecated, and in a future PyTorch release outputs will not be resized unless they have zero elements. You can explicitly reuse an out tensor t by resizing it, inplace, to zero elements with t.resize_(0). (Triggered internally at ../aten/src/ATen/native/Resize.cpp:28.)\n",
            "  value = torch.cat(values, dim=cat_dim or 0, out=out)\n",
            "/users/eleves-b/2020/thomas.li/.local/lib/python3.9/site-packages/torch_geometric/data/collate.py:177: UserWarning: An output with one or more elements was resized since it had shape [148], which does not match the required output shape [2, 148]. This behavior is deprecated, and in a future PyTorch release outputs will not be resized unless they have zero elements. You can explicitly reuse an out tensor t by resizing it, inplace, to zero elements with t.resize_(0). (Triggered internally at ../aten/src/ATen/native/Resize.cpp:28.)\n",
            "  value = torch.cat(values, dim=cat_dim or 0, out=out)\n",
            "854it [00:30, 26.85it/s]/users/eleves-b/2020/thomas.li/.local/lib/python3.9/site-packages/torch_geometric/data/collate.py:177: UserWarning: An output with one or more elements was resized since it had shape [64], which does not match the required output shape [2, 64]. This behavior is deprecated, and in a future PyTorch release outputs will not be resized unless they have zero elements. You can explicitly reuse an out tensor t by resizing it, inplace, to zero elements with t.resize_(0). (Triggered internally at ../aten/src/ATen/native/Resize.cpp:28.)\n",
            "  value = torch.cat(values, dim=cat_dim or 0, out=out)\n",
            "/users/eleves-b/2020/thomas.li/.local/lib/python3.9/site-packages/torch_geometric/data/collate.py:177: UserWarning: An output with one or more elements was resized since it had shape [550], which does not match the required output shape [2, 550]. This behavior is deprecated, and in a future PyTorch release outputs will not be resized unless they have zero elements. You can explicitly reuse an out tensor t by resizing it, inplace, to zero elements with t.resize_(0). (Triggered internally at ../aten/src/ATen/native/Resize.cpp:28.)\n",
            "  value = torch.cat(values, dim=cat_dim or 0, out=out)\n",
            "/users/eleves-b/2020/thomas.li/.local/lib/python3.9/site-packages/torch_geometric/data/collate.py:177: UserWarning: An output with one or more elements was resized since it had shape [36], which does not match the required output shape [2, 36]. This behavior is deprecated, and in a future PyTorch release outputs will not be resized unless they have zero elements. You can explicitly reuse an out tensor t by resizing it, inplace, to zero elements with t.resize_(0). (Triggered internally at ../aten/src/ATen/native/Resize.cpp:28.)\n",
            "  value = torch.cat(values, dim=cat_dim or 0, out=out)\n",
            "864it [00:30, 31.13it/s]/users/eleves-b/2020/thomas.li/.local/lib/python3.9/site-packages/torch_geometric/data/collate.py:177: UserWarning: An output with one or more elements was resized since it had shape [44], which does not match the required output shape [2, 44]. This behavior is deprecated, and in a future PyTorch release outputs will not be resized unless they have zero elements. You can explicitly reuse an out tensor t by resizing it, inplace, to zero elements with t.resize_(0). (Triggered internally at ../aten/src/ATen/native/Resize.cpp:28.)\n",
            "  value = torch.cat(values, dim=cat_dim or 0, out=out)\n",
            "/users/eleves-b/2020/thomas.li/.local/lib/python3.9/site-packages/torch_geometric/data/collate.py:177: UserWarning: An output with one or more elements was resized since it had shape [920], which does not match the required output shape [2, 920]. This behavior is deprecated, and in a future PyTorch release outputs will not be resized unless they have zero elements. You can explicitly reuse an out tensor t by resizing it, inplace, to zero elements with t.resize_(0). (Triggered internally at ../aten/src/ATen/native/Resize.cpp:28.)\n",
            "  value = torch.cat(values, dim=cat_dim or 0, out=out)\n",
            "888it [00:31, 35.89it/s]/users/eleves-b/2020/thomas.li/.local/lib/python3.9/site-packages/torch_geometric/data/collate.py:177: UserWarning: An output with one or more elements was resized since it had shape [60], which does not match the required output shape [2, 60]. This behavior is deprecated, and in a future PyTorch release outputs will not be resized unless they have zero elements. You can explicitly reuse an out tensor t by resizing it, inplace, to zero elements with t.resize_(0). (Triggered internally at ../aten/src/ATen/native/Resize.cpp:28.)\n",
            "  value = torch.cat(values, dim=cat_dim or 0, out=out)\n",
            "897it [00:31, 23.70it/s]/users/eleves-b/2020/thomas.li/.local/lib/python3.9/site-packages/torch_geometric/data/collate.py:177: UserWarning: An output with one or more elements was resized since it had shape [22], which does not match the required output shape [2, 22]. This behavior is deprecated, and in a future PyTorch release outputs will not be resized unless they have zero elements. You can explicitly reuse an out tensor t by resizing it, inplace, to zero elements with t.resize_(0). (Triggered internally at ../aten/src/ATen/native/Resize.cpp:28.)\n",
            "  value = torch.cat(values, dim=cat_dim or 0, out=out)\n",
            "928it [00:32, 34.17it/s]/users/eleves-b/2020/thomas.li/.local/lib/python3.9/site-packages/torch_geometric/data/collate.py:177: UserWarning: An output with one or more elements was resized since it had shape [2582], which does not match the required output shape [2, 2582]. This behavior is deprecated, and in a future PyTorch release outputs will not be resized unless they have zero elements. You can explicitly reuse an out tensor t by resizing it, inplace, to zero elements with t.resize_(0). (Triggered internally at ../aten/src/ATen/native/Resize.cpp:28.)\n",
            "  value = torch.cat(values, dim=cat_dim or 0, out=out)\n",
            "935it [00:32, 30.11it/s]/users/eleves-b/2020/thomas.li/.local/lib/python3.9/site-packages/torch_geometric/data/collate.py:177: UserWarning: An output with one or more elements was resized since it had shape [56], which does not match the required output shape [2, 56]. This behavior is deprecated, and in a future PyTorch release outputs will not be resized unless they have zero elements. You can explicitly reuse an out tensor t by resizing it, inplace, to zero elements with t.resize_(0). (Triggered internally at ../aten/src/ATen/native/Resize.cpp:28.)\n",
            "  value = torch.cat(values, dim=cat_dim or 0, out=out)\n",
            "/users/eleves-b/2020/thomas.li/.local/lib/python3.9/site-packages/torch_geometric/data/collate.py:177: UserWarning: An output with one or more elements was resized since it had shape [72], which does not match the required output shape [2, 72]. This behavior is deprecated, and in a future PyTorch release outputs will not be resized unless they have zero elements. You can explicitly reuse an out tensor t by resizing it, inplace, to zero elements with t.resize_(0). (Triggered internally at ../aten/src/ATen/native/Resize.cpp:28.)\n",
            "  value = torch.cat(values, dim=cat_dim or 0, out=out)\n",
            "/users/eleves-b/2020/thomas.li/.local/lib/python3.9/site-packages/torch_geometric/data/collate.py:177: UserWarning: An output with one or more elements was resized since it had shape [836], which does not match the required output shape [2, 836]. This behavior is deprecated, and in a future PyTorch release outputs will not be resized unless they have zero elements. You can explicitly reuse an out tensor t by resizing it, inplace, to zero elements with t.resize_(0). (Triggered internally at ../aten/src/ATen/native/Resize.cpp:28.)\n",
            "  value = torch.cat(values, dim=cat_dim or 0, out=out)\n",
            "956it [00:33, 23.81it/s]/users/eleves-b/2020/thomas.li/.local/lib/python3.9/site-packages/torch_geometric/data/collate.py:177: UserWarning: An output with one or more elements was resized since it had shape [20], which does not match the required output shape [2, 20]. This behavior is deprecated, and in a future PyTorch release outputs will not be resized unless they have zero elements. You can explicitly reuse an out tensor t by resizing it, inplace, to zero elements with t.resize_(0). (Triggered internally at ../aten/src/ATen/native/Resize.cpp:28.)\n",
            "  value = torch.cat(values, dim=cat_dim or 0, out=out)\n",
            "/users/eleves-b/2020/thomas.li/.local/lib/python3.9/site-packages/torch_geometric/data/collate.py:177: UserWarning: An output with one or more elements was resized since it had shape [1104], which does not match the required output shape [2, 1104]. This behavior is deprecated, and in a future PyTorch release outputs will not be resized unless they have zero elements. You can explicitly reuse an out tensor t by resizing it, inplace, to zero elements with t.resize_(0). (Triggered internally at ../aten/src/ATen/native/Resize.cpp:28.)\n",
            "  value = torch.cat(values, dim=cat_dim or 0, out=out)\n",
            "1016it [00:36, 23.87it/s]/users/eleves-b/2020/thomas.li/.local/lib/python3.9/site-packages/torch_geometric/data/collate.py:177: UserWarning: An output with one or more elements was resized since it had shape [1148], which does not match the required output shape [2, 1148]. This behavior is deprecated, and in a future PyTorch release outputs will not be resized unless they have zero elements. You can explicitly reuse an out tensor t by resizing it, inplace, to zero elements with t.resize_(0). (Triggered internally at ../aten/src/ATen/native/Resize.cpp:28.)\n",
            "  value = torch.cat(values, dim=cat_dim or 0, out=out)\n",
            "/users/eleves-b/2020/thomas.li/.local/lib/python3.9/site-packages/torch_geometric/data/collate.py:177: UserWarning: An output with one or more elements was resized since it had shape [26], which does not match the required output shape [2, 26]. This behavior is deprecated, and in a future PyTorch release outputs will not be resized unless they have zero elements. You can explicitly reuse an out tensor t by resizing it, inplace, to zero elements with t.resize_(0). (Triggered internally at ../aten/src/ATen/native/Resize.cpp:28.)\n",
            "  value = torch.cat(values, dim=cat_dim or 0, out=out)\n",
            "/users/eleves-b/2020/thomas.li/.local/lib/python3.9/site-packages/torch_geometric/data/collate.py:177: UserWarning: An output with one or more elements was resized since it had shape [64], which does not match the required output shape [2, 64]. This behavior is deprecated, and in a future PyTorch release outputs will not be resized unless they have zero elements. You can explicitly reuse an out tensor t by resizing it, inplace, to zero elements with t.resize_(0). (Triggered internally at ../aten/src/ATen/native/Resize.cpp:28.)\n",
            "  value = torch.cat(values, dim=cat_dim or 0, out=out)\n",
            "1056it [00:37, 26.29it/s]/users/eleves-b/2020/thomas.li/.local/lib/python3.9/site-packages/torch_geometric/data/collate.py:177: UserWarning: An output with one or more elements was resized since it had shape [1768], which does not match the required output shape [2, 1768]. This behavior is deprecated, and in a future PyTorch release outputs will not be resized unless they have zero elements. You can explicitly reuse an out tensor t by resizing it, inplace, to zero elements with t.resize_(0). (Triggered internally at ../aten/src/ATen/native/Resize.cpp:28.)\n",
            "  value = torch.cat(values, dim=cat_dim or 0, out=out)\n",
            "1076it [00:38, 24.64it/s]/users/eleves-b/2020/thomas.li/.local/lib/python3.9/site-packages/torch_geometric/data/collate.py:177: UserWarning: An output with one or more elements was resized since it had shape [1794], which does not match the required output shape [2, 1794]. This behavior is deprecated, and in a future PyTorch release outputs will not be resized unless they have zero elements. You can explicitly reuse an out tensor t by resizing it, inplace, to zero elements with t.resize_(0). (Triggered internally at ../aten/src/ATen/native/Resize.cpp:28.)\n",
            "  value = torch.cat(values, dim=cat_dim or 0, out=out)\n",
            "1091it [00:38, 30.62it/s]/users/eleves-b/2020/thomas.li/.local/lib/python3.9/site-packages/torch_geometric/data/collate.py:177: UserWarning: An output with one or more elements was resized since it had shape [100], which does not match the required output shape [2, 100]. This behavior is deprecated, and in a future PyTorch release outputs will not be resized unless they have zero elements. You can explicitly reuse an out tensor t by resizing it, inplace, to zero elements with t.resize_(0). (Triggered internally at ../aten/src/ATen/native/Resize.cpp:28.)\n",
            "  value = torch.cat(values, dim=cat_dim or 0, out=out)\n",
            "1115it [00:38, 28.62it/s]\n"
          ]
        }
      ],
      "source": [
        "def get_empty_edge_index(batch):\n",
        "    n_nodes = batch.x.shape[0]\n",
        "    self_edge_index = torch.arange(n_nodes).unsqueeze(0)\n",
        "    self_edge_index = torch.cat((self_edge_index, self_edge_index), dim=0)\n",
        "    return self_edge_index\n",
        "\n",
        "\n",
        "example_ct = 0\n",
        "for batch_idx, batch in tqdm(enumerate(finetune_train_loader)):\n",
        "    if batch.edge_index.shape[0] == 0:\n",
        "        edge_index = get_empty_edge_index(batch)\n",
        "        batch.edge_index = edge_index\n",
        "    input_ids = batch.input_ids\n",
        "    batch_example_ct = batch.edge_index[1].shape[0]\n",
        "    batch.pop(\"input_ids\")\n",
        "    attention_mask = batch.attention_mask\n",
        "    batch.pop(\"attention_mask\")\n",
        "    graph_batch = batch\n",
        "    example_ct += batch_example_ct"
      ]
    },
    {
      "cell_type": "code",
      "execution_count": 75,
      "metadata": {},
      "outputs": [
        {
          "data": {
            "text/plain": [
              "torch.int64"
            ]
          },
          "execution_count": 75,
          "metadata": {},
          "output_type": "execute_result"
        }
      ],
      "source": [
        "batch.edge_index.dtype"
      ]
    },
    {
      "cell_type": "code",
      "execution_count": 73,
      "metadata": {},
      "outputs": [
        {
          "data": {
            "text/plain": [
              "torch.Size([1073, 300])"
            ]
          },
          "execution_count": 73,
          "metadata": {},
          "output_type": "execute_result"
        }
      ],
      "source": [
        "batch.x.shape"
      ]
    },
    {
      "cell_type": "code",
      "execution_count": 84,
      "metadata": {},
      "outputs": [
        {
          "name": "stdout",
          "output_type": "stream",
          "text": [
            "tensor([[ 0,  1,  2,  3,  4,  5,  6,  7,  8,  9, 10, 11, 12, 13, 14, 15, 16, 17,\n",
            "         18, 19, 20, 21, 22, 23, 24, 25, 26, 27, 28, 29, 30, 31, 32],\n",
            "        [ 0,  1,  2,  3,  4,  5,  6,  7,  8,  9, 10, 11, 12, 13, 14, 15, 16, 17,\n",
            "         18, 19, 20, 21, 22, 23, 24, 25, 26, 27, 28, 29, 30, 31, 32]])\n"
          ]
        }
      ],
      "source": [
        "import torch\n",
        "\n",
        "tensor = torch.arange(33).unsqueeze(0)\n",
        "concatenated_tensor = torch.cat((tensor, tensor), dim=0)\n",
        "print(concatenated_tensor)"
      ]
    },
    {
      "cell_type": "code",
      "execution_count": 86,
      "metadata": {},
      "outputs": [
        {
          "data": {
            "text/plain": [
              "1073"
            ]
          },
          "execution_count": 86,
          "metadata": {},
          "output_type": "execute_result"
        }
      ],
      "source": [
        "batch.x.shape[0]"
      ]
    },
    {
      "cell_type": "code",
      "execution_count": 87,
      "metadata": {},
      "outputs": [],
      "source": [
        "def get_empty_edge_index(batch):\n",
        "    n_nodes = batch.x.shape[0]\n",
        "    self_edge_index = torch.arange(n_nodes).unsqueeze(0)\n",
        "    self_edge_index = torch.cat((self_edge_index, self_edge_index), dim=0)\n",
        "    return self_edge_index"
      ]
    },
    {
      "cell_type": "code",
      "execution_count": 91,
      "metadata": {},
      "outputs": [
        {
          "data": {
            "text/plain": [
              "2"
            ]
          },
          "execution_count": 91,
          "metadata": {},
          "output_type": "execute_result"
        }
      ],
      "source": [
        "batch.edge_index.shape[0]"
      ]
    },
    {
      "cell_type": "code",
      "execution_count": 94,
      "metadata": {},
      "outputs": [
        {
          "data": {
            "text/plain": [
              "0"
            ]
          },
          "execution_count": 94,
          "metadata": {},
          "output_type": "execute_result"
        }
      ],
      "source": [
        "torch.tensor([]).shape[0]"
      ]
    },
    {
      "cell_type": "code",
      "execution_count": 88,
      "metadata": {},
      "outputs": [
        {
          "data": {
            "text/plain": [
              "tensor([[   0,    1,    2,  ..., 1070, 1071, 1072],\n",
              "        [   0,    1,    2,  ..., 1070, 1071, 1072]])"
            ]
          },
          "execution_count": 88,
          "metadata": {},
          "output_type": "execute_result"
        }
      ],
      "source": [
        "if batch.edge_index.shape[0] == 0:\n",
        "    edge_index = get_empty_edge_index(batch)\n",
        "    batch.edge_index = edge_index"
      ]
    },
    {
      "cell_type": "code",
      "execution_count": 62,
      "metadata": {},
      "outputs": [
        {
          "data": {
            "text/plain": [
              "tensor([   0,   56,  112,  134,  213,  284,  367,  375,  452,  523,  620,  708,\n",
              "         716,  795,  880,  896,  977, 1054, 1133, 1208, 1224, 1246, 1303, 1356,\n",
              "        1500, 1573, 1631, 1706, 1803, 1876, 1962, 2039, 2097])"
            ]
          },
          "execution_count": 62,
          "metadata": {},
          "output_type": "execute_result"
        }
      ],
      "source": [
        "batch.ptr"
      ]
    },
    {
      "cell_type": "code",
      "execution_count": 69,
      "metadata": {},
      "outputs": [
        {
          "data": {
            "text/plain": [
              "torch.Size([33, 300])"
            ]
          },
          "execution_count": 69,
          "metadata": {},
          "output_type": "execute_result"
        }
      ],
      "source": [
        "batch.x.shape"
      ]
    },
    {
      "cell_type": "code",
      "execution_count": 68,
      "metadata": {},
      "outputs": [
        {
          "data": {
            "text/plain": [
              "tensor([], dtype=torch.int64)"
            ]
          },
          "execution_count": 68,
          "metadata": {},
          "output_type": "execute_result"
        }
      ],
      "source": [
        "batch.edge_index"
      ]
    },
    {
      "cell_type": "code",
      "execution_count": null,
      "metadata": {},
      "outputs": [],
      "source": [
        "tensor"
      ]
    },
    {
      "cell_type": "code",
      "execution_count": null,
      "metadata": {},
      "outputs": [],
      "source": [
        "fill_edge_index"
      ]
    },
    {
      "cell_type": "code",
      "execution_count": 70,
      "metadata": {},
      "outputs": [
        {
          "ename": "IndexError",
          "evalue": "index 1 is out of bounds for dimension 0 with size 0",
          "output_type": "error",
          "traceback": [
            "\u001b[0;31m---------------------------------------------------------------------------\u001b[0m",
            "\u001b[0;31mIndexError\u001b[0m                                Traceback (most recent call last)",
            "Cell \u001b[0;32mIn[70], line 1\u001b[0m\n\u001b[0;32m----> 1\u001b[0m \u001b[43mbatch\u001b[49m\u001b[38;5;241;43m.\u001b[39;49m\u001b[43medge_index\u001b[49m\u001b[43m[\u001b[49m\u001b[38;5;241;43m1\u001b[39;49m\u001b[43m]\u001b[49m\n",
            "\u001b[0;31mIndexError\u001b[0m: index 1 is out of bounds for dimension 0 with size 0"
          ]
        }
      ],
      "source": [
        "batch.edge_index[1]"
      ]
    },
    {
      "cell_type": "code",
      "execution_count": 22,
      "metadata": {},
      "outputs": [
        {
          "name": "stderr",
          "output_type": "stream",
          "text": [
            "  0%|          | 0/826 [00:00<?, ?it/s]/users/eleves-b/2020/thomas.li/.local/lib/python3.9/site-packages/torch/utils/data/dataloader.py:557: UserWarning: This DataLoader will create 20 worker processes in total. Our suggested max number of worker in current system is 16, which is smaller than what this DataLoader is going to create. Please be aware that excessive worker creation might get DataLoader running slow or even freeze, lower the worker number to avoid potential slowness/freeze if necessary.\n",
            "  warnings.warn(_create_warning_msg(\n",
            " 21%|██        | 170/826 [00:30<01:43,  6.37it/s]/users/eleves-b/2020/thomas.li/.local/lib/python3.9/site-packages/torch_geometric/data/collate.py:177: UserWarning: An output with one or more elements was resized since it had shape [1960], which does not match the required output shape [2, 1960]. This behavior is deprecated, and in a future PyTorch release outputs will not be resized unless they have zero elements. You can explicitly reuse an out tensor t by resizing it, inplace, to zero elements with t.resize_(0). (Triggered internally at ../aten/src/ATen/native/Resize.cpp:28.)\n",
            "  value = torch.cat(values, dim=cat_dim or 0, out=out)\n",
            " 36%|███▋      | 301/826 [00:47<00:48, 10.74it/s]/users/eleves-b/2020/thomas.li/.local/lib/python3.9/site-packages/torch_geometric/data/collate.py:177: UserWarning: An output with one or more elements was resized since it had shape [2248], which does not match the required output shape [2, 2248]. This behavior is deprecated, and in a future PyTorch release outputs will not be resized unless they have zero elements. You can explicitly reuse an out tensor t by resizing it, inplace, to zero elements with t.resize_(0). (Triggered internally at ../aten/src/ATen/native/Resize.cpp:28.)\n",
            "  value = torch.cat(values, dim=cat_dim or 0, out=out)\n",
            " 72%|███████▏  | 597/826 [01:11<00:18, 12.58it/s]/users/eleves-b/2020/thomas.li/.local/lib/python3.9/site-packages/torch_geometric/data/collate.py:177: UserWarning: An output with one or more elements was resized since it had shape [1712], which does not match the required output shape [2, 1712]. This behavior is deprecated, and in a future PyTorch release outputs will not be resized unless they have zero elements. You can explicitly reuse an out tensor t by resizing it, inplace, to zero elements with t.resize_(0). (Triggered internally at ../aten/src/ATen/native/Resize.cpp:28.)\n",
            "  value = torch.cat(values, dim=cat_dim or 0, out=out)\n",
            " 80%|███████▉  | 659/826 [01:16<00:13, 12.63it/s]/users/eleves-b/2020/thomas.li/.local/lib/python3.9/site-packages/torch_geometric/data/collate.py:177: UserWarning: An output with one or more elements was resized since it had shape [1700], which does not match the required output shape [2, 1700]. This behavior is deprecated, and in a future PyTorch release outputs will not be resized unless they have zero elements. You can explicitly reuse an out tensor t by resizing it, inplace, to zero elements with t.resize_(0). (Triggered internally at ../aten/src/ATen/native/Resize.cpp:28.)\n",
            "  value = torch.cat(values, dim=cat_dim or 0, out=out)\n",
            " 83%|████████▎ | 687/826 [01:19<00:10, 12.64it/s]/users/eleves-b/2020/thomas.li/.local/lib/python3.9/site-packages/torch_geometric/data/collate.py:177: UserWarning: An output with one or more elements was resized since it had shape [2242], which does not match the required output shape [2, 2242]. This behavior is deprecated, and in a future PyTorch release outputs will not be resized unless they have zero elements. You can explicitly reuse an out tensor t by resizing it, inplace, to zero elements with t.resize_(0). (Triggered internally at ../aten/src/ATen/native/Resize.cpp:28.)\n",
            "  value = torch.cat(values, dim=cat_dim or 0, out=out)\n",
            "                                                 \r"
          ]
        },
        {
          "name": "stdout",
          "output_type": "stream",
          "text": [
            "{'len_miss_ranked': 14414, 'avg_miss_ranked': 5.262383793534064, 'max_miss_ranked': 704, 'total_miss_ranked_pairs': 90266}\n"
          ]
        },
        {
          "name": "stderr",
          "output_type": "stream",
          "text": [
            "/users/eleves-b/2020/thomas.li/.local/lib/python3.9/site-packages/torch_geometric/deprecation.py:22: UserWarning: 'data.DataLoader' is deprecated, use 'loader.DataLoader' instead\n",
            "  warnings.warn(out)\n"
          ]
        }
      ],
      "source": [
        "finetune_train_loader, finetune_train_data_size = finetune_make(\n",
        "    model,\n",
        "    train_loader,\n",
        "    criterion,\n",
        "    example_ct_before=26000,\n",
        "    config=finetune_config_instance,\n",
        ")"
      ]
    },
    {
      "cell_type": "code",
      "execution_count": 23,
      "metadata": {},
      "outputs": [],
      "source": [
        "epochs = 1 + ((10 * 26000) // finetune_train_data_size)"
      ]
    },
    {
      "cell_type": "code",
      "execution_count": 28,
      "metadata": {},
      "outputs": [
        {
          "name": "stderr",
          "output_type": "stream",
          "text": [
            " 29%|██▉       | 241/826 [00:06<00:11, 50.63it/s]/users/eleves-b/2020/thomas.li/.local/lib/python3.9/site-packages/torch_geometric/data/collate.py:177: UserWarning: An output with one or more elements was resized since it had shape [2188], which does not match the required output shape [2, 2188]. This behavior is deprecated, and in a future PyTorch release outputs will not be resized unless they have zero elements. You can explicitly reuse an out tensor t by resizing it, inplace, to zero elements with t.resize_(0). (Triggered internally at ../aten/src/ATen/native/Resize.cpp:28.)\n",
            "  value = torch.cat(values, dim=cat_dim or 0, out=out)\n",
            " 36%|███▋      | 301/826 [00:07<00:11, 47.66it/s]/users/eleves-b/2020/thomas.li/.local/lib/python3.9/site-packages/torch_geometric/data/collate.py:177: UserWarning: An output with one or more elements was resized since it had shape [1982], which does not match the required output shape [2, 1982]. This behavior is deprecated, and in a future PyTorch release outputs will not be resized unless they have zero elements. You can explicitly reuse an out tensor t by resizing it, inplace, to zero elements with t.resize_(0). (Triggered internally at ../aten/src/ATen/native/Resize.cpp:28.)\n",
            "  value = torch.cat(values, dim=cat_dim or 0, out=out)\n",
            "100%|██████████| 826/826 [00:18<00:00, 44.11it/s]\n"
          ]
        }
      ],
      "source": [
        "example_ct = 0\n",
        "for batch in tqdm(train_loader):\n",
        "    input_ids = batch.input_ids\n",
        "    batch_example_ct = batch.input_ids.shape[0]\n",
        "    batch.pop(\"input_ids\")\n",
        "    attention_mask = batch.attention_mask\n",
        "    batch.pop(\"attention_mask\")\n",
        "    graph_batch = batch\n",
        "    example_ct += batch_example_ct"
      ]
    },
    {
      "cell_type": "code",
      "execution_count": 63,
      "metadata": {},
      "outputs": [],
      "source": [
        "batch = next(iter(train_loader))"
      ]
    },
    {
      "cell_type": "code",
      "execution_count": 27,
      "metadata": {},
      "outputs": [],
      "source": [
        "input_ids = batch.input_ids\n",
        "batch_example_ct = batch.input_ids.shape[0]\n",
        "batch.pop(\"input_ids\")\n",
        "attention_mask = batch.attention_mask\n",
        "batch.pop(\"attention_mask\")\n",
        "graph_batch = batch"
      ]
    },
    {
      "cell_type": "code",
      "execution_count": 28,
      "metadata": {},
      "outputs": [
        {
          "name": "stderr",
          "output_type": "stream",
          "text": [
            "/tmp/ipykernel_1299938/2286432983.py:1: UserWarning: To copy construct from a tensor, it is recommended to use sourceTensor.clone().detach() or sourceTensor.clone().detach().requires_grad_(True), rather than torch.tensor(sourceTensor).\n",
            "  edge_index = torch.tensor(graph_batch.edge_index[:,:1000], dtype=torch.long)\n"
          ]
        }
      ],
      "source": [
        "edge_index = torch.tensor(graph_batch.edge_index[:, :1000], dtype=torch.long)"
      ]
    },
    {
      "cell_type": "markdown",
      "metadata": {},
      "source": [
        "## Model Pipeline"
      ]
    },
    {
      "cell_type": "code",
      "execution_count": 7,
      "metadata": {
        "id": "EJd5rY4fF9Ub"
      },
      "outputs": [],
      "source": [
        "from sklearn.metrics.pairwise import cosine_similarity\n",
        "from src.batch_sampler import get_batch_sampler\n",
        "from src.finetune_evaluate import evaluate\n",
        "from src.finetune_train import finetune_train_one_epoch\n",
        "from src.finetune_make import finetune_make, make\n",
        "from src.utils import get_date_time_string, LRAP_accuracy\n",
        "import yaml\n",
        "\n",
        "\n",
        "def finetune_model_pipeline(hyperparameters, model, model_path, example_ct_before):\n",
        "    print(hyperparameters)\n",
        "    model.load_state_dict(torch.load(model_path))  # a .pth file\n",
        "    print(\"Loaded model\")\n",
        "    device = torch.device(\"cuda\" if torch.cuda.is_available() else \"cpu\")\n",
        "    model.to(device)\n",
        "    run_name = os.path.basename(model_path)[:-4] + \"finetune\" + get_date_time_string()\n",
        "    print(\"run_name : \", run_name)\n",
        "\n",
        "    # tell wandb to get started\n",
        "    with wandb.init(project=PROJECT_NAME, config=hyperparameters, name=run_name):\n",
        "        config = wandb.config\n",
        "\n",
        "        tokenizer = AutoTokenizer.from_pretrained(config.model_name)\n",
        "        gt = np.load(\"./data/token_embedding_dict.npy\", allow_pickle=True)[()]\n",
        "        train_dataset = GraphTextDataset(\n",
        "            root=\"./data/\", gt=gt, split=\"train\", tokenizer=tokenizer\n",
        "        )\n",
        "\n",
        "        # make the model, data, and optimization problem\n",
        "        print(\"Making dataloaders and loading model\")\n",
        "        train_loader, val_loader, criterion, optimizer = make(\n",
        "            config, model, shuffle=False\n",
        "        )\n",
        "\n",
        "        finetune_train_loader, finetune_train_data_size = finetune_make(\n",
        "            model, train_loader, criterion, example_ct_before, config\n",
        "        )\n",
        "\n",
        "        example_ct = example_ct_before\n",
        "        val_similarity_matrix = evaluate(\n",
        "            model,\n",
        "            val_loader,\n",
        "            criterion,\n",
        "            cosine_similarity,\n",
        "            LRAP_accuracy,\n",
        "            \"val\",\n",
        "            example_ct,\n",
        "        )\n",
        "\n",
        "        # and use them to train the model\n",
        "        epochs = 1 + ((config.epoch_equivalents * 26400) // (finetune_train_data_size))\n",
        "        print(f\"Start training for {epochs} epochs on finetune dataset\")\n",
        "        example_ct = example_ct_before\n",
        "        for epoch in tqdm(range(epochs)):\n",
        "            finetune_train_one_epoch(\n",
        "                model,\n",
        "                finetune_train_loader,\n",
        "                criterion,\n",
        "                optimizer,\n",
        "                example_ct_before=example_ct,\n",
        "            )\n",
        "            example_ct += finetune_train_data_size\n",
        "\n",
        "            # train_similarity_matrix = evaluate(\n",
        "            #     model,\n",
        "            #     train_loader,\n",
        "            #     criterion,\n",
        "            #     cosine_similarity,\n",
        "            #     LRAP_accuracy,\n",
        "            #     \"val\",\n",
        "            #     example_ct,\n",
        "            # )\n",
        "\n",
        "            val_similarity_matrix = evaluate(\n",
        "                model,\n",
        "                val_loader,\n",
        "                criterion,\n",
        "                cosine_similarity,\n",
        "                LRAP_accuracy,\n",
        "                \"val\",\n",
        "                example_ct,\n",
        "            )\n",
        "\n",
        "            # Save the model at the end of each epoch\n",
        "            folder_path = \"models/\" + run_name\n",
        "            if not os.path.exists(folder_path):\n",
        "                os.mkdir(folder_path)\n",
        "            save_path = folder_path + \"/\" + run_name + \"_\" + str(epoch) + \".pth\"\n",
        "            torch.save(model.state_dict(), save_path)\n",
        "\n",
        "            # # Get new finetune_train\n",
        "            # print(\"Get new finetune data\")\n",
        "            # batch_sampler, stats_dico = get_batch_sampler(\n",
        "            #     train_similarity_matrix, config.batch_size\n",
        "            # )\n",
        "            # print(stats_dico)\n",
        "            # finetune_train_loader = DataLoader(\n",
        "            #     train_dataset, batch_sampler=batch_sampler\n",
        "            # )\n",
        "\n",
        "        # Save the config\n",
        "        yaml_file_path = folder_path + \"/\" + \"config.yaml\"\n",
        "        with open(yaml_file_path, \"w\") as file:\n",
        "            yaml.dump(wandb.config._as_dict(), file, default_flow_style=False)\n",
        "\n",
        "        print(\"Successful training\")\n",
        "\n",
        "        return model"
      ]
    },
    {
      "cell_type": "markdown",
      "metadata": {
        "id": "RGttC0nnF9Uk"
      },
      "source": [
        "# VI) Run experiments"
      ]
    },
    {
      "cell_type": "code",
      "execution_count": null,
      "metadata": {},
      "outputs": [],
      "source": [
        "finetune_config = dict(\n",
        "    model_path=\"models/baseline_finetune/baseline_finetune.pth\",\n",
        "    model_name=\"distilbert-base-uncased\",\n",
        "    batch_size=32,\n",
        "    graph_learning_rate=(3e-4) / 5,\n",
        "    text_learning_rate=(3e-5) / 5,\n",
        "    learning_rate=1e-4,\n",
        "    epoch_equivalents=10,\n",
        "    criterion=\"negative_sampling_contrastive_loss\",\n",
        "    similarity_fn=\"cosine_similarity\",\n",
        ")\n",
        "\n",
        "finetune_model_pipeline(finetune_config, example_ct_before=2207904)"
      ]
    },
    {
      "cell_type": "code",
      "execution_count": null,
      "metadata": {},
      "outputs": [],
      "source": [
        "finetune_model_pipeline(hyperparameters, model, model_path, example_ct_before)"
      ]
    },
    {
      "cell_type": "code",
      "execution_count": null,
      "metadata": {},
      "outputs": [],
      "source": []
    },
    {
      "cell_type": "code",
      "execution_count": null,
      "metadata": {},
      "outputs": [],
      "source": []
    },
    {
      "cell_type": "code",
      "execution_count": 8,
      "metadata": {},
      "outputs": [
        {
          "name": "stdout",
          "output_type": "stream",
          "text": [
            "device : cuda\n",
            "{'model_path': 'models/michael_big_model_120_epochs_512_nhid_online_02021906/michael_big_model_120_epochs_512_nhid_online_02021906.pth', 'model_name': 'distilbert-base-uncased', 'batch_size': 32, 'graph_learning_rate': 1e-05, 'text_learning_rate': 3e-06, 'learning_rate': 1e-05, 'epoch_equivalents': 10, 'criterion': 'negative_sampling_contrastive_loss', 'similarity_fn': 'cosine_similarity'}\n",
            "Loaded model\n",
            "run_name :  michael_big_model_120_epochs_512_nhid_online_02021906finetune_02031624\n"
          ]
        },
        {
          "data": {
            "text/html": [
              "Tracking run with wandb version 0.16.2"
            ],
            "text/plain": [
              "<IPython.core.display.HTML object>"
            ]
          },
          "metadata": {},
          "output_type": "display_data"
        },
        {
          "data": {
            "text/html": [
              "Run data is saved locally in <code>/users/eleves-b/2020/thomas.li/MVA/ALTEGRAD/kaggle_challenge/wandb/run-20240203_162416-3nn3wjyo</code>"
            ],
            "text/plain": [
              "<IPython.core.display.HTML object>"
            ]
          },
          "metadata": {},
          "output_type": "display_data"
        },
        {
          "data": {
            "text/html": [
              "Syncing run <strong><a href='https://wandb.ai/qwertyr2/ALTEGRAD_kaggle/runs/3nn3wjyo' target=\"_blank\">michael_big_model_120_epochs_512_nhid_online_02021906finetune_02031624</a></strong> to <a href='https://wandb.ai/qwertyr2/ALTEGRAD_kaggle' target=\"_blank\">Weights & Biases</a> (<a href='https://wandb.me/run' target=\"_blank\">docs</a>)<br/>"
            ],
            "text/plain": [
              "<IPython.core.display.HTML object>"
            ]
          },
          "metadata": {},
          "output_type": "display_data"
        },
        {
          "data": {
            "text/html": [
              " View project at <a href='https://wandb.ai/qwertyr2/ALTEGRAD_kaggle' target=\"_blank\">https://wandb.ai/qwertyr2/ALTEGRAD_kaggle</a>"
            ],
            "text/plain": [
              "<IPython.core.display.HTML object>"
            ]
          },
          "metadata": {},
          "output_type": "display_data"
        },
        {
          "data": {
            "text/html": [
              " View run at <a href='https://wandb.ai/qwertyr2/ALTEGRAD_kaggle/runs/3nn3wjyo' target=\"_blank\">https://wandb.ai/qwertyr2/ALTEGRAD_kaggle/runs/3nn3wjyo</a>"
            ],
            "text/plain": [
              "<IPython.core.display.HTML object>"
            ]
          },
          "metadata": {},
          "output_type": "display_data"
        },
        {
          "name": "stdout",
          "output_type": "stream",
          "text": [
            "Making dataloaders and loading model\n"
          ]
        },
        {
          "name": "stderr",
          "output_type": "stream",
          "text": [
            "/users/eleves-b/2020/thomas.li/.local/lib/python3.9/site-packages/torch_geometric/deprecation.py:22: UserWarning: 'data.DataLoader' is deprecated, use 'loader.DataLoader' instead\n",
            "  warnings.warn(out)\n",
            " 22%|██▏       | 178/826 [00:15<00:51, 12.51it/s]/users/eleves-b/2020/thomas.li/.local/lib/python3.9/site-packages/torch_geometric/data/collate.py:177: UserWarning: An output with one or more elements was resized since it had shape [1960], which does not match the required output shape [2, 1960]. This behavior is deprecated, and in a future PyTorch release outputs will not be resized unless they have zero elements. You can explicitly reuse an out tensor t by resizing it, inplace, to zero elements with t.resize_(0). (Triggered internally at ../aten/src/ATen/native/Resize.cpp:28.)\n",
            "  value = torch.cat(values, dim=cat_dim or 0, out=out)\n",
            " 36%|███▋      | 300/826 [00:24<00:42, 12.49it/s]/users/eleves-b/2020/thomas.li/.local/lib/python3.9/site-packages/torch_geometric/data/collate.py:177: UserWarning: An output with one or more elements was resized since it had shape [2248], which does not match the required output shape [2, 2248]. This behavior is deprecated, and in a future PyTorch release outputs will not be resized unless they have zero elements. You can explicitly reuse an out tensor t by resizing it, inplace, to zero elements with t.resize_(0). (Triggered internally at ../aten/src/ATen/native/Resize.cpp:28.)\n",
            "  value = torch.cat(values, dim=cat_dim or 0, out=out)\n",
            " 73%|███████▎  | 604/826 [00:49<00:18, 12.33it/s]/users/eleves-b/2020/thomas.li/.local/lib/python3.9/site-packages/torch_geometric/data/collate.py:177: UserWarning: An output with one or more elements was resized since it had shape [1712], which does not match the required output shape [2, 1712]. This behavior is deprecated, and in a future PyTorch release outputs will not be resized unless they have zero elements. You can explicitly reuse an out tensor t by resizing it, inplace, to zero elements with t.resize_(0). (Triggered internally at ../aten/src/ATen/native/Resize.cpp:28.)\n",
            "  value = torch.cat(values, dim=cat_dim or 0, out=out)\n",
            " 81%|████████  | 666/826 [00:54<00:13, 12.28it/s]/users/eleves-b/2020/thomas.li/.local/lib/python3.9/site-packages/torch_geometric/data/collate.py:177: UserWarning: An output with one or more elements was resized since it had shape [1700], which does not match the required output shape [2, 1700]. This behavior is deprecated, and in a future PyTorch release outputs will not be resized unless they have zero elements. You can explicitly reuse an out tensor t by resizing it, inplace, to zero elements with t.resize_(0). (Triggered internally at ../aten/src/ATen/native/Resize.cpp:28.)\n",
            "  value = torch.cat(values, dim=cat_dim or 0, out=out)\n",
            " 84%|████████▍ | 694/826 [00:57<00:10, 12.30it/s]/users/eleves-b/2020/thomas.li/.local/lib/python3.9/site-packages/torch_geometric/data/collate.py:177: UserWarning: An output with one or more elements was resized since it had shape [2242], which does not match the required output shape [2, 2242]. This behavior is deprecated, and in a future PyTorch release outputs will not be resized unless they have zero elements. You can explicitly reuse an out tensor t by resizing it, inplace, to zero elements with t.resize_(0). (Triggered internally at ../aten/src/ATen/native/Resize.cpp:28.)\n",
            "  value = torch.cat(values, dim=cat_dim or 0, out=out)\n",
            "                                                 \r"
          ]
        },
        {
          "name": "stdout",
          "output_type": "stream",
          "text": [
            "{'len_miss_ranked': 10874, 'avg_miss_ranked': 3.3677579547544605, 'max_miss_ranked': 479, 'total_miss_ranked_pairs': 47495}\n"
          ]
        },
        {
          "name": "stderr",
          "output_type": "stream",
          "text": [
            "/users/eleves-b/2020/thomas.li/.local/lib/python3.9/site-packages/torch_geometric/deprecation.py:22: UserWarning: 'data.DataLoader' is deprecated, use 'loader.DataLoader' instead\n",
            "  warnings.warn(out)\n",
            "                                                 \r"
          ]
        },
        {
          "name": "stdout",
          "output_type": "stream",
          "text": [
            "Start training for 4 epochs on finetune dataset\n"
          ]
        },
        {
          "name": "stderr",
          "output_type": "stream",
          "text": [
            "  0%|          | 0/4 [00:00<?, ?it/s]/users/eleves-b/2020/thomas.li/.local/lib/python3.9/site-packages/torch_geometric/data/collate.py:177: UserWarning: An output with one or more elements was resized since it had shape [62], which does not match the required output shape [2, 62]. This behavior is deprecated, and in a future PyTorch release outputs will not be resized unless they have zero elements. You can explicitly reuse an out tensor t by resizing it, inplace, to zero elements with t.resize_(0). (Triggered internally at ../aten/src/ATen/native/Resize.cpp:28.)\n",
            "  value = torch.cat(values, dim=cat_dim or 0, out=out)\n",
            "/users/eleves-b/2020/thomas.li/.local/lib/python3.9/site-packages/torch_geometric/data/collate.py:177: UserWarning: An output with one or more elements was resized since it had shape [204], which does not match the required output shape [2, 204]. This behavior is deprecated, and in a future PyTorch release outputs will not be resized unless they have zero elements. You can explicitly reuse an out tensor t by resizing it, inplace, to zero elements with t.resize_(0). (Triggered internally at ../aten/src/ATen/native/Resize.cpp:28.)\n",
            "  value = torch.cat(values, dim=cat_dim or 0, out=out)\n",
            "/users/eleves-b/2020/thomas.li/.local/lib/python3.9/site-packages/torch_geometric/data/collate.py:177: UserWarning: An output with one or more elements was resized since it had shape [8], which does not match the required output shape [2, 8]. This behavior is deprecated, and in a future PyTorch release outputs will not be resized unless they have zero elements. You can explicitly reuse an out tensor t by resizing it, inplace, to zero elements with t.resize_(0). (Triggered internally at ../aten/src/ATen/native/Resize.cpp:28.)\n",
            "  value = torch.cat(values, dim=cat_dim or 0, out=out)\n"
          ]
        },
        {
          "name": "stdout",
          "output_type": "stream",
          "text": [
            "train_loss after 3170528 examples: 0.05672\n"
          ]
        },
        {
          "name": "stderr",
          "output_type": "stream",
          "text": [
            "/users/eleves-b/2020/thomas.li/.local/lib/python3.9/site-packages/torch_geometric/data/collate.py:177: UserWarning: An output with one or more elements was resized since it had shape [56], which does not match the required output shape [2, 56]. This behavior is deprecated, and in a future PyTorch release outputs will not be resized unless they have zero elements. You can explicitly reuse an out tensor t by resizing it, inplace, to zero elements with t.resize_(0). (Triggered internally at ../aten/src/ATen/native/Resize.cpp:28.)\n",
            "  value = torch.cat(values, dim=cat_dim or 0, out=out)\n"
          ]
        },
        {
          "name": "stdout",
          "output_type": "stream",
          "text": [
            "train_loss after 3172128 examples: 0.03758\n"
          ]
        },
        {
          "name": "stderr",
          "output_type": "stream",
          "text": [
            "/users/eleves-b/2020/thomas.li/.local/lib/python3.9/site-packages/torch_geometric/data/collate.py:177: UserWarning: An output with one or more elements was resized since it had shape [456], which does not match the required output shape [2, 456]. This behavior is deprecated, and in a future PyTorch release outputs will not be resized unless they have zero elements. You can explicitly reuse an out tensor t by resizing it, inplace, to zero elements with t.resize_(0). (Triggered internally at ../aten/src/ATen/native/Resize.cpp:28.)\n",
            "  value = torch.cat(values, dim=cat_dim or 0, out=out)\n"
          ]
        },
        {
          "name": "stdout",
          "output_type": "stream",
          "text": [
            "train_loss after 3173728 examples: 0.02914\n"
          ]
        },
        {
          "name": "stderr",
          "output_type": "stream",
          "text": [
            "/users/eleves-b/2020/thomas.li/.local/lib/python3.9/site-packages/torch_geometric/data/collate.py:177: UserWarning: An output with one or more elements was resized since it had shape [154], which does not match the required output shape [2, 154]. This behavior is deprecated, and in a future PyTorch release outputs will not be resized unless they have zero elements. You can explicitly reuse an out tensor t by resizing it, inplace, to zero elements with t.resize_(0). (Triggered internally at ../aten/src/ATen/native/Resize.cpp:28.)\n",
            "  value = torch.cat(values, dim=cat_dim or 0, out=out)\n"
          ]
        },
        {
          "name": "stdout",
          "output_type": "stream",
          "text": [
            "train_loss after 3175328 examples: 0.02252\n"
          ]
        },
        {
          "name": "stderr",
          "output_type": "stream",
          "text": [
            "/users/eleves-b/2020/thomas.li/.local/lib/python3.9/site-packages/torch_geometric/data/collate.py:177: UserWarning: An output with one or more elements was resized since it had shape [74], which does not match the required output shape [2, 74]. This behavior is deprecated, and in a future PyTorch release outputs will not be resized unless they have zero elements. You can explicitly reuse an out tensor t by resizing it, inplace, to zero elements with t.resize_(0). (Triggered internally at ../aten/src/ATen/native/Resize.cpp:28.)\n",
            "  value = torch.cat(values, dim=cat_dim or 0, out=out)\n"
          ]
        },
        {
          "name": "stdout",
          "output_type": "stream",
          "text": [
            "train_loss after 3176928 examples: 0.01911\n"
          ]
        },
        {
          "name": "stderr",
          "output_type": "stream",
          "text": [
            "/users/eleves-b/2020/thomas.li/.local/lib/python3.9/site-packages/torch_geometric/data/collate.py:177: UserWarning: An output with one or more elements was resized since it had shape [8], which does not match the required output shape [2, 8]. This behavior is deprecated, and in a future PyTorch release outputs will not be resized unless they have zero elements. You can explicitly reuse an out tensor t by resizing it, inplace, to zero elements with t.resize_(0). (Triggered internally at ../aten/src/ATen/native/Resize.cpp:28.)\n",
            "  value = torch.cat(values, dim=cat_dim or 0, out=out)\n",
            "/users/eleves-b/2020/thomas.li/.local/lib/python3.9/site-packages/torch_geometric/data/collate.py:177: UserWarning: An output with one or more elements was resized since it had shape [284], which does not match the required output shape [2, 284]. This behavior is deprecated, and in a future PyTorch release outputs will not be resized unless they have zero elements. You can explicitly reuse an out tensor t by resizing it, inplace, to zero elements with t.resize_(0). (Triggered internally at ../aten/src/ATen/native/Resize.cpp:28.)\n",
            "  value = torch.cat(values, dim=cat_dim or 0, out=out)\n"
          ]
        },
        {
          "name": "stdout",
          "output_type": "stream",
          "text": [
            "train_loss after 3178528 examples: 0.01487\n"
          ]
        },
        {
          "name": "stderr",
          "output_type": "stream",
          "text": [
            "/users/eleves-b/2020/thomas.li/.local/lib/python3.9/site-packages/torch_geometric/data/collate.py:177: UserWarning: An output with one or more elements was resized since it had shape [492], which does not match the required output shape [2, 492]. This behavior is deprecated, and in a future PyTorch release outputs will not be resized unless they have zero elements. You can explicitly reuse an out tensor t by resizing it, inplace, to zero elements with t.resize_(0). (Triggered internally at ../aten/src/ATen/native/Resize.cpp:28.)\n",
            "  value = torch.cat(values, dim=cat_dim or 0, out=out)\n"
          ]
        },
        {
          "name": "stdout",
          "output_type": "stream",
          "text": [
            "train_loss after 3180128 examples: 0.01312\n"
          ]
        },
        {
          "name": "stderr",
          "output_type": "stream",
          "text": [
            "/users/eleves-b/2020/thomas.li/.local/lib/python3.9/site-packages/torch_geometric/data/collate.py:177: UserWarning: An output with one or more elements was resized since it had shape [10], which does not match the required output shape [2, 10]. This behavior is deprecated, and in a future PyTorch release outputs will not be resized unless they have zero elements. You can explicitly reuse an out tensor t by resizing it, inplace, to zero elements with t.resize_(0). (Triggered internally at ../aten/src/ATen/native/Resize.cpp:28.)\n",
            "  value = torch.cat(values, dim=cat_dim or 0, out=out)\n",
            "/users/eleves-b/2020/thomas.li/.local/lib/python3.9/site-packages/torch_geometric/data/collate.py:177: UserWarning: An output with one or more elements was resized since it had shape [554], which does not match the required output shape [2, 554]. This behavior is deprecated, and in a future PyTorch release outputs will not be resized unless they have zero elements. You can explicitly reuse an out tensor t by resizing it, inplace, to zero elements with t.resize_(0). (Triggered internally at ../aten/src/ATen/native/Resize.cpp:28.)\n",
            "  value = torch.cat(values, dim=cat_dim or 0, out=out)\n",
            "/users/eleves-b/2020/thomas.li/.local/lib/python3.9/site-packages/torch_geometric/data/collate.py:177: UserWarning: An output with one or more elements was resized since it had shape [1724], which does not match the required output shape [2, 1724]. This behavior is deprecated, and in a future PyTorch release outputs will not be resized unless they have zero elements. You can explicitly reuse an out tensor t by resizing it, inplace, to zero elements with t.resize_(0). (Triggered internally at ../aten/src/ATen/native/Resize.cpp:28.)\n",
            "  value = torch.cat(values, dim=cat_dim or 0, out=out)\n"
          ]
        },
        {
          "name": "stdout",
          "output_type": "stream",
          "text": [
            "train_loss after 3181728 examples: 0.01162\n"
          ]
        },
        {
          "name": "stderr",
          "output_type": "stream",
          "text": [
            "/users/eleves-b/2020/thomas.li/.local/lib/python3.9/site-packages/torch_geometric/data/collate.py:177: UserWarning: An output with one or more elements was resized since it had shape [2626], which does not match the required output shape [2, 2626]. This behavior is deprecated, and in a future PyTorch release outputs will not be resized unless they have zero elements. You can explicitly reuse an out tensor t by resizing it, inplace, to zero elements with t.resize_(0). (Triggered internally at ../aten/src/ATen/native/Resize.cpp:28.)\n",
            "  value = torch.cat(values, dim=cat_dim or 0, out=out)\n",
            "/users/eleves-b/2020/thomas.li/.local/lib/python3.9/site-packages/torch_geometric/data/collate.py:177: UserWarning: An output with one or more elements was resized since it had shape [2204], which does not match the required output shape [2, 2204]. This behavior is deprecated, and in a future PyTorch release outputs will not be resized unless they have zero elements. You can explicitly reuse an out tensor t by resizing it, inplace, to zero elements with t.resize_(0). (Triggered internally at ../aten/src/ATen/native/Resize.cpp:28.)\n",
            "  value = torch.cat(values, dim=cat_dim or 0, out=out)\n"
          ]
        },
        {
          "name": "stdout",
          "output_type": "stream",
          "text": [
            "train_loss after 3183328 examples: 0.01004\n"
          ]
        },
        {
          "name": "stderr",
          "output_type": "stream",
          "text": [
            "/users/eleves-b/2020/thomas.li/.local/lib/python3.9/site-packages/torch_geometric/data/collate.py:177: UserWarning: An output with one or more elements was resized since it had shape [14], which does not match the required output shape [2, 14]. This behavior is deprecated, and in a future PyTorch release outputs will not be resized unless they have zero elements. You can explicitly reuse an out tensor t by resizing it, inplace, to zero elements with t.resize_(0). (Triggered internally at ../aten/src/ATen/native/Resize.cpp:28.)\n",
            "  value = torch.cat(values, dim=cat_dim or 0, out=out)\n",
            "/users/eleves-b/2020/thomas.li/.local/lib/python3.9/site-packages/torch_geometric/data/collate.py:177: UserWarning: An output with one or more elements was resized since it had shape [906], which does not match the required output shape [2, 906]. This behavior is deprecated, and in a future PyTorch release outputs will not be resized unless they have zero elements. You can explicitly reuse an out tensor t by resizing it, inplace, to zero elements with t.resize_(0). (Triggered internally at ../aten/src/ATen/native/Resize.cpp:28.)\n",
            "  value = torch.cat(values, dim=cat_dim or 0, out=out)\n"
          ]
        },
        {
          "name": "stdout",
          "output_type": "stream",
          "text": [
            "train_loss after 3184928 examples: 0.00847\n"
          ]
        },
        {
          "name": "stderr",
          "output_type": "stream",
          "text": [
            "/users/eleves-b/2020/thomas.li/.local/lib/python3.9/site-packages/torch_geometric/data/collate.py:177: UserWarning: An output with one or more elements was resized since it had shape [504], which does not match the required output shape [2, 504]. This behavior is deprecated, and in a future PyTorch release outputs will not be resized unless they have zero elements. You can explicitly reuse an out tensor t by resizing it, inplace, to zero elements with t.resize_(0). (Triggered internally at ../aten/src/ATen/native/Resize.cpp:28.)\n",
            "  value = torch.cat(values, dim=cat_dim or 0, out=out)\n",
            "/users/eleves-b/2020/thomas.li/.local/lib/python3.9/site-packages/torch_geometric/data/collate.py:177: UserWarning: An output with one or more elements was resized since it had shape [2090], which does not match the required output shape [2, 2090]. This behavior is deprecated, and in a future PyTorch release outputs will not be resized unless they have zero elements. You can explicitly reuse an out tensor t by resizing it, inplace, to zero elements with t.resize_(0). (Triggered internally at ../aten/src/ATen/native/Resize.cpp:28.)\n",
            "  value = torch.cat(values, dim=cat_dim or 0, out=out)\n"
          ]
        },
        {
          "name": "stdout",
          "output_type": "stream",
          "text": [
            "train_loss after 3186528 examples: 0.00677\n"
          ]
        },
        {
          "name": "stderr",
          "output_type": "stream",
          "text": [
            "/users/eleves-b/2020/thomas.li/.local/lib/python3.9/site-packages/torch_geometric/data/collate.py:177: UserWarning: An output with one or more elements was resized since it had shape [602], which does not match the required output shape [2, 602]. This behavior is deprecated, and in a future PyTorch release outputs will not be resized unless they have zero elements. You can explicitly reuse an out tensor t by resizing it, inplace, to zero elements with t.resize_(0). (Triggered internally at ../aten/src/ATen/native/Resize.cpp:28.)\n",
            "  value = torch.cat(values, dim=cat_dim or 0, out=out)\n"
          ]
        },
        {
          "name": "stdout",
          "output_type": "stream",
          "text": [
            "train_loss after 3188128 examples: 0.00600\n"
          ]
        },
        {
          "name": "stderr",
          "output_type": "stream",
          "text": []
        },
        {
          "name": "stdout",
          "output_type": "stream",
          "text": [
            "train_loss after 3189728 examples: 0.00625\n"
          ]
        },
        {
          "name": "stderr",
          "output_type": "stream",
          "text": [
            "/users/eleves-b/2020/thomas.li/.local/lib/python3.9/site-packages/torch_geometric/data/collate.py:177: UserWarning: An output with one or more elements was resized since it had shape [34], which does not match the required output shape [2, 34]. This behavior is deprecated, and in a future PyTorch release outputs will not be resized unless they have zero elements. You can explicitly reuse an out tensor t by resizing it, inplace, to zero elements with t.resize_(0). (Triggered internally at ../aten/src/ATen/native/Resize.cpp:28.)\n",
            "  value = torch.cat(values, dim=cat_dim or 0, out=out)\n",
            "/users/eleves-b/2020/thomas.li/.local/lib/python3.9/site-packages/torch_geometric/data/collate.py:177: UserWarning: An output with one or more elements was resized since it had shape [1068], which does not match the required output shape [2, 1068]. This behavior is deprecated, and in a future PyTorch release outputs will not be resized unless they have zero elements. You can explicitly reuse an out tensor t by resizing it, inplace, to zero elements with t.resize_(0). (Triggered internally at ../aten/src/ATen/native/Resize.cpp:28.)\n",
            "  value = torch.cat(values, dim=cat_dim or 0, out=out)\n"
          ]
        },
        {
          "name": "stdout",
          "output_type": "stream",
          "text": [
            "train_loss after 3191328 examples: 0.00548\n"
          ]
        },
        {
          "name": "stderr",
          "output_type": "stream",
          "text": [
            "/users/eleves-b/2020/thomas.li/.local/lib/python3.9/site-packages/torch_geometric/data/collate.py:177: UserWarning: An output with one or more elements was resized since it had shape [62], which does not match the required output shape [2, 62]. This behavior is deprecated, and in a future PyTorch release outputs will not be resized unless they have zero elements. You can explicitly reuse an out tensor t by resizing it, inplace, to zero elements with t.resize_(0). (Triggered internally at ../aten/src/ATen/native/Resize.cpp:28.)\n",
            "  value = torch.cat(values, dim=cat_dim or 0, out=out)\n"
          ]
        },
        {
          "name": "stdout",
          "output_type": "stream",
          "text": [
            "train_loss after 3192928 examples: 0.00504\n"
          ]
        },
        {
          "name": "stderr",
          "output_type": "stream",
          "text": [
            "/users/eleves-b/2020/thomas.li/.local/lib/python3.9/site-packages/torch_geometric/data/collate.py:177: UserWarning: An output with one or more elements was resized since it had shape [286], which does not match the required output shape [2, 286]. This behavior is deprecated, and in a future PyTorch release outputs will not be resized unless they have zero elements. You can explicitly reuse an out tensor t by resizing it, inplace, to zero elements with t.resize_(0). (Triggered internally at ../aten/src/ATen/native/Resize.cpp:28.)\n",
            "  value = torch.cat(values, dim=cat_dim or 0, out=out)\n"
          ]
        },
        {
          "name": "stdout",
          "output_type": "stream",
          "text": [
            "train_loss after 3194528 examples: 0.00497\n"
          ]
        },
        {
          "name": "stderr",
          "output_type": "stream",
          "text": [
            "/users/eleves-b/2020/thomas.li/.local/lib/python3.9/site-packages/torch_geometric/data/collate.py:177: UserWarning: An output with one or more elements was resized since it had shape [14], which does not match the required output shape [2, 14]. This behavior is deprecated, and in a future PyTorch release outputs will not be resized unless they have zero elements. You can explicitly reuse an out tensor t by resizing it, inplace, to zero elements with t.resize_(0). (Triggered internally at ../aten/src/ATen/native/Resize.cpp:28.)\n",
            "  value = torch.cat(values, dim=cat_dim or 0, out=out)\n",
            "/users/eleves-b/2020/thomas.li/.local/lib/python3.9/site-packages/torch_geometric/data/collate.py:177: UserWarning: An output with one or more elements was resized since it had shape [8], which does not match the required output shape [2, 8]. This behavior is deprecated, and in a future PyTorch release outputs will not be resized unless they have zero elements. You can explicitly reuse an out tensor t by resizing it, inplace, to zero elements with t.resize_(0). (Triggered internally at ../aten/src/ATen/native/Resize.cpp:28.)\n",
            "  value = torch.cat(values, dim=cat_dim or 0, out=out)\n"
          ]
        },
        {
          "name": "stdout",
          "output_type": "stream",
          "text": [
            "train_loss after 3196128 examples: 0.00527\n"
          ]
        },
        {
          "name": "stderr",
          "output_type": "stream",
          "text": [
            "/users/eleves-b/2020/thomas.li/.local/lib/python3.9/site-packages/torch_geometric/data/collate.py:177: UserWarning: An output with one or more elements was resized since it had shape [2410], which does not match the required output shape [2, 2410]. This behavior is deprecated, and in a future PyTorch release outputs will not be resized unless they have zero elements. You can explicitly reuse an out tensor t by resizing it, inplace, to zero elements with t.resize_(0). (Triggered internally at ../aten/src/ATen/native/Resize.cpp:28.)\n",
            "  value = torch.cat(values, dim=cat_dim or 0, out=out)\n",
            "/users/eleves-b/2020/thomas.li/.local/lib/python3.9/site-packages/torch_geometric/data/collate.py:177: UserWarning: An output with one or more elements was resized since it had shape [408], which does not match the required output shape [2, 408]. This behavior is deprecated, and in a future PyTorch release outputs will not be resized unless they have zero elements. You can explicitly reuse an out tensor t by resizing it, inplace, to zero elements with t.resize_(0). (Triggered internally at ../aten/src/ATen/native/Resize.cpp:28.)\n",
            "  value = torch.cat(values, dim=cat_dim or 0, out=out)\n"
          ]
        },
        {
          "name": "stdout",
          "output_type": "stream",
          "text": [
            "train_loss after 3197728 examples: 0.00474\n"
          ]
        },
        {
          "name": "stderr",
          "output_type": "stream",
          "text": []
        },
        {
          "name": "stdout",
          "output_type": "stream",
          "text": [
            "train_loss after 3199328 examples: 0.00451\n"
          ]
        },
        {
          "name": "stderr",
          "output_type": "stream",
          "text": []
        },
        {
          "name": "stdout",
          "output_type": "stream",
          "text": [
            "train_loss after 3200928 examples: 0.00406\n"
          ]
        },
        {
          "name": "stderr",
          "output_type": "stream",
          "text": [
            "/users/eleves-b/2020/thomas.li/.local/lib/python3.9/site-packages/torch_geometric/data/collate.py:177: UserWarning: An output with one or more elements was resized since it had shape [14], which does not match the required output shape [2, 14]. This behavior is deprecated, and in a future PyTorch release outputs will not be resized unless they have zero elements. You can explicitly reuse an out tensor t by resizing it, inplace, to zero elements with t.resize_(0). (Triggered internally at ../aten/src/ATen/native/Resize.cpp:28.)\n",
            "  value = torch.cat(values, dim=cat_dim or 0, out=out)\n",
            "/users/eleves-b/2020/thomas.li/.local/lib/python3.9/site-packages/torch_geometric/data/collate.py:177: UserWarning: An output with one or more elements was resized since it had shape [114], which does not match the required output shape [2, 114]. This behavior is deprecated, and in a future PyTorch release outputs will not be resized unless they have zero elements. You can explicitly reuse an out tensor t by resizing it, inplace, to zero elements with t.resize_(0). (Triggered internally at ../aten/src/ATen/native/Resize.cpp:28.)\n",
            "  value = torch.cat(values, dim=cat_dim or 0, out=out)\n"
          ]
        },
        {
          "name": "stdout",
          "output_type": "stream",
          "text": [
            "train_loss after 3202528 examples: 0.00461\n"
          ]
        },
        {
          "name": "stderr",
          "output_type": "stream",
          "text": [
            "/users/eleves-b/2020/thomas.li/.local/lib/python3.9/site-packages/torch_geometric/data/collate.py:177: UserWarning: An output with one or more elements was resized since it had shape [894], which does not match the required output shape [2, 894]. This behavior is deprecated, and in a future PyTorch release outputs will not be resized unless they have zero elements. You can explicitly reuse an out tensor t by resizing it, inplace, to zero elements with t.resize_(0). (Triggered internally at ../aten/src/ATen/native/Resize.cpp:28.)\n",
            "  value = torch.cat(values, dim=cat_dim or 0, out=out)\n"
          ]
        },
        {
          "name": "stdout",
          "output_type": "stream",
          "text": [
            "train_loss after 3204128 examples: 0.00460\n"
          ]
        },
        {
          "name": "stderr",
          "output_type": "stream",
          "text": []
        },
        {
          "name": "stdout",
          "output_type": "stream",
          "text": [
            "train_loss after 3205728 examples: 0.00467\n"
          ]
        },
        {
          "name": "stderr",
          "output_type": "stream",
          "text": [
            "/users/eleves-b/2020/thomas.li/.local/lib/python3.9/site-packages/torch_geometric/data/collate.py:177: UserWarning: An output with one or more elements was resized since it had shape [16], which does not match the required output shape [2, 16]. This behavior is deprecated, and in a future PyTorch release outputs will not be resized unless they have zero elements. You can explicitly reuse an out tensor t by resizing it, inplace, to zero elements with t.resize_(0). (Triggered internally at ../aten/src/ATen/native/Resize.cpp:28.)\n",
            "  value = torch.cat(values, dim=cat_dim or 0, out=out)\n"
          ]
        },
        {
          "name": "stdout",
          "output_type": "stream",
          "text": [
            "train_loss after 3207328 examples: 0.00429\n"
          ]
        },
        {
          "name": "stderr",
          "output_type": "stream",
          "text": []
        },
        {
          "name": "stdout",
          "output_type": "stream",
          "text": [
            "train_loss after 3208928 examples: 0.00390\n"
          ]
        },
        {
          "name": "stderr",
          "output_type": "stream",
          "text": [
            "/users/eleves-b/2020/thomas.li/.local/lib/python3.9/site-packages/torch_geometric/data/collate.py:177: UserWarning: An output with one or more elements was resized since it had shape [62], which does not match the required output shape [2, 62]. This behavior is deprecated, and in a future PyTorch release outputs will not be resized unless they have zero elements. You can explicitly reuse an out tensor t by resizing it, inplace, to zero elements with t.resize_(0). (Triggered internally at ../aten/src/ATen/native/Resize.cpp:28.)\n",
            "  value = torch.cat(values, dim=cat_dim or 0, out=out)\n"
          ]
        },
        {
          "name": "stdout",
          "output_type": "stream",
          "text": [
            "train_loss after 3210528 examples: 0.00386\n"
          ]
        },
        {
          "name": "stderr",
          "output_type": "stream",
          "text": [
            "/users/eleves-b/2020/thomas.li/.local/lib/python3.9/site-packages/torch_geometric/data/collate.py:177: UserWarning: An output with one or more elements was resized since it had shape [10], which does not match the required output shape [2, 10]. This behavior is deprecated, and in a future PyTorch release outputs will not be resized unless they have zero elements. You can explicitly reuse an out tensor t by resizing it, inplace, to zero elements with t.resize_(0). (Triggered internally at ../aten/src/ATen/native/Resize.cpp:28.)\n",
            "  value = torch.cat(values, dim=cat_dim or 0, out=out)\n"
          ]
        },
        {
          "name": "stdout",
          "output_type": "stream",
          "text": [
            "train_loss after 3212128 examples: 0.00403\n"
          ]
        },
        {
          "name": "stderr",
          "output_type": "stream",
          "text": [
            "/users/eleves-b/2020/thomas.li/.local/lib/python3.9/site-packages/torch_geometric/data/collate.py:177: UserWarning: An output with one or more elements was resized since it had shape [1826], which does not match the required output shape [2, 1826]. This behavior is deprecated, and in a future PyTorch release outputs will not be resized unless they have zero elements. You can explicitly reuse an out tensor t by resizing it, inplace, to zero elements with t.resize_(0). (Triggered internally at ../aten/src/ATen/native/Resize.cpp:28.)\n",
            "  value = torch.cat(values, dim=cat_dim or 0, out=out)\n",
            "/users/eleves-b/2020/thomas.li/.local/lib/python3.9/site-packages/torch_geometric/data/collate.py:177: UserWarning: An output with one or more elements was resized since it had shape [8], which does not match the required output shape [2, 8]. This behavior is deprecated, and in a future PyTorch release outputs will not be resized unless they have zero elements. You can explicitly reuse an out tensor t by resizing it, inplace, to zero elements with t.resize_(0). (Triggered internally at ../aten/src/ATen/native/Resize.cpp:28.)\n",
            "  value = torch.cat(values, dim=cat_dim or 0, out=out)\n"
          ]
        },
        {
          "name": "stdout",
          "output_type": "stream",
          "text": [
            "train_loss after 3213728 examples: 0.00405\n"
          ]
        },
        {
          "name": "stderr",
          "output_type": "stream",
          "text": []
        },
        {
          "name": "stdout",
          "output_type": "stream",
          "text": [
            "train_loss after 3215328 examples: 0.00371\n"
          ]
        },
        {
          "name": "stderr",
          "output_type": "stream",
          "text": [
            "/users/eleves-b/2020/thomas.li/.local/lib/python3.9/site-packages/torch_geometric/data/collate.py:177: UserWarning: An output with one or more elements was resized since it had shape [68], which does not match the required output shape [2, 68]. This behavior is deprecated, and in a future PyTorch release outputs will not be resized unless they have zero elements. You can explicitly reuse an out tensor t by resizing it, inplace, to zero elements with t.resize_(0). (Triggered internally at ../aten/src/ATen/native/Resize.cpp:28.)\n",
            "  value = torch.cat(values, dim=cat_dim or 0, out=out)\n",
            "/users/eleves-b/2020/thomas.li/.local/lib/python3.9/site-packages/torch_geometric/data/collate.py:177: UserWarning: An output with one or more elements was resized since it had shape [1396], which does not match the required output shape [2, 1396]. This behavior is deprecated, and in a future PyTorch release outputs will not be resized unless they have zero elements. You can explicitly reuse an out tensor t by resizing it, inplace, to zero elements with t.resize_(0). (Triggered internally at ../aten/src/ATen/native/Resize.cpp:28.)\n",
            "  value = torch.cat(values, dim=cat_dim or 0, out=out)\n"
          ]
        },
        {
          "name": "stdout",
          "output_type": "stream",
          "text": [
            "train_loss after 3216928 examples: 0.00375\n"
          ]
        },
        {
          "name": "stderr",
          "output_type": "stream",
          "text": [
            "/users/eleves-b/2020/thomas.li/.local/lib/python3.9/site-packages/torch_geometric/data/collate.py:177: UserWarning: An output with one or more elements was resized since it had shape [8], which does not match the required output shape [2, 8]. This behavior is deprecated, and in a future PyTorch release outputs will not be resized unless they have zero elements. You can explicitly reuse an out tensor t by resizing it, inplace, to zero elements with t.resize_(0). (Triggered internally at ../aten/src/ATen/native/Resize.cpp:28.)\n",
            "  value = torch.cat(values, dim=cat_dim or 0, out=out)\n"
          ]
        },
        {
          "name": "stdout",
          "output_type": "stream",
          "text": [
            "train_loss after 3218528 examples: 0.00397\n"
          ]
        },
        {
          "name": "stderr",
          "output_type": "stream",
          "text": []
        },
        {
          "name": "stdout",
          "output_type": "stream",
          "text": [
            "train_loss after 3220128 examples: 0.00386\n"
          ]
        },
        {
          "name": "stderr",
          "output_type": "stream",
          "text": [
            "/users/eleves-b/2020/thomas.li/.local/lib/python3.9/site-packages/torch_geometric/data/collate.py:177: UserWarning: An output with one or more elements was resized since it had shape [794], which does not match the required output shape [2, 794]. This behavior is deprecated, and in a future PyTorch release outputs will not be resized unless they have zero elements. You can explicitly reuse an out tensor t by resizing it, inplace, to zero elements with t.resize_(0). (Triggered internally at ../aten/src/ATen/native/Resize.cpp:28.)\n",
            "  value = torch.cat(values, dim=cat_dim or 0, out=out)\n",
            "/users/eleves-b/2020/thomas.li/.local/lib/python3.9/site-packages/torch_geometric/data/collate.py:177: UserWarning: An output with one or more elements was resized since it had shape [1060], which does not match the required output shape [2, 1060]. This behavior is deprecated, and in a future PyTorch release outputs will not be resized unless they have zero elements. You can explicitly reuse an out tensor t by resizing it, inplace, to zero elements with t.resize_(0). (Triggered internally at ../aten/src/ATen/native/Resize.cpp:28.)\n",
            "  value = torch.cat(values, dim=cat_dim or 0, out=out)\n"
          ]
        },
        {
          "name": "stdout",
          "output_type": "stream",
          "text": [
            "train_loss after 3221728 examples: 0.00377\n"
          ]
        },
        {
          "name": "stderr",
          "output_type": "stream",
          "text": [
            "/users/eleves-b/2020/thomas.li/.local/lib/python3.9/site-packages/torch_geometric/data/collate.py:177: UserWarning: An output with one or more elements was resized since it had shape [276], which does not match the required output shape [2, 276]. This behavior is deprecated, and in a future PyTorch release outputs will not be resized unless they have zero elements. You can explicitly reuse an out tensor t by resizing it, inplace, to zero elements with t.resize_(0). (Triggered internally at ../aten/src/ATen/native/Resize.cpp:28.)\n",
            "  value = torch.cat(values, dim=cat_dim or 0, out=out)\n"
          ]
        },
        {
          "name": "stdout",
          "output_type": "stream",
          "text": [
            "train_loss after 3223328 examples: 0.00355\n"
          ]
        },
        {
          "name": "stderr",
          "output_type": "stream",
          "text": [
            "/users/eleves-b/2020/thomas.li/.local/lib/python3.9/site-packages/torch_geometric/data/collate.py:177: UserWarning: An output with one or more elements was resized since it had shape [1988], which does not match the required output shape [2, 1988]. This behavior is deprecated, and in a future PyTorch release outputs will not be resized unless they have zero elements. You can explicitly reuse an out tensor t by resizing it, inplace, to zero elements with t.resize_(0). (Triggered internally at ../aten/src/ATen/native/Resize.cpp:28.)\n",
            "  value = torch.cat(values, dim=cat_dim or 0, out=out)\n",
            "/users/eleves-b/2020/thomas.li/.local/lib/python3.9/site-packages/torch_geometric/data/collate.py:177: UserWarning: An output with one or more elements was resized since it had shape [8], which does not match the required output shape [2, 8]. This behavior is deprecated, and in a future PyTorch release outputs will not be resized unless they have zero elements. You can explicitly reuse an out tensor t by resizing it, inplace, to zero elements with t.resize_(0). (Triggered internally at ../aten/src/ATen/native/Resize.cpp:28.)\n",
            "  value = torch.cat(values, dim=cat_dim or 0, out=out)\n"
          ]
        },
        {
          "name": "stdout",
          "output_type": "stream",
          "text": [
            "train_loss after 3224928 examples: 0.00362\n"
          ]
        },
        {
          "name": "stderr",
          "output_type": "stream",
          "text": [
            "/users/eleves-b/2020/thomas.li/.local/lib/python3.9/site-packages/torch_geometric/data/collate.py:177: UserWarning: An output with one or more elements was resized since it had shape [14], which does not match the required output shape [2, 14]. This behavior is deprecated, and in a future PyTorch release outputs will not be resized unless they have zero elements. You can explicitly reuse an out tensor t by resizing it, inplace, to zero elements with t.resize_(0). (Triggered internally at ../aten/src/ATen/native/Resize.cpp:28.)\n",
            "  value = torch.cat(values, dim=cat_dim or 0, out=out)\n"
          ]
        },
        {
          "name": "stdout",
          "output_type": "stream",
          "text": [
            "train_loss after 3226528 examples: 0.00384\n"
          ]
        },
        {
          "name": "stderr",
          "output_type": "stream",
          "text": [
            "/users/eleves-b/2020/thomas.li/.local/lib/python3.9/site-packages/torch_geometric/data/collate.py:177: UserWarning: An output with one or more elements was resized since it had shape [1506], which does not match the required output shape [2, 1506]. This behavior is deprecated, and in a future PyTorch release outputs will not be resized unless they have zero elements. You can explicitly reuse an out tensor t by resizing it, inplace, to zero elements with t.resize_(0). (Triggered internally at ../aten/src/ATen/native/Resize.cpp:28.)\n",
            "  value = torch.cat(values, dim=cat_dim or 0, out=out)\n"
          ]
        },
        {
          "name": "stdout",
          "output_type": "stream",
          "text": [
            "train_loss after 3228128 examples: 0.00348\n"
          ]
        },
        {
          "name": "stderr",
          "output_type": "stream",
          "text": [
            "/users/eleves-b/2020/thomas.li/.local/lib/python3.9/site-packages/torch_geometric/data/collate.py:177: UserWarning: An output with one or more elements was resized since it had shape [14], which does not match the required output shape [2, 14]. This behavior is deprecated, and in a future PyTorch release outputs will not be resized unless they have zero elements. You can explicitly reuse an out tensor t by resizing it, inplace, to zero elements with t.resize_(0). (Triggered internally at ../aten/src/ATen/native/Resize.cpp:28.)\n",
            "  value = torch.cat(values, dim=cat_dim or 0, out=out)\n",
            "/users/eleves-b/2020/thomas.li/.local/lib/python3.9/site-packages/torch_geometric/data/collate.py:177: UserWarning: An output with one or more elements was resized since it had shape [1172], which does not match the required output shape [2, 1172]. This behavior is deprecated, and in a future PyTorch release outputs will not be resized unless they have zero elements. You can explicitly reuse an out tensor t by resizing it, inplace, to zero elements with t.resize_(0). (Triggered internally at ../aten/src/ATen/native/Resize.cpp:28.)\n",
            "  value = torch.cat(values, dim=cat_dim or 0, out=out)\n"
          ]
        },
        {
          "name": "stdout",
          "output_type": "stream",
          "text": [
            "train_loss after 3229728 examples: 0.00382\n"
          ]
        },
        {
          "name": "stderr",
          "output_type": "stream",
          "text": [
            "/users/eleves-b/2020/thomas.li/.local/lib/python3.9/site-packages/torch_geometric/data/collate.py:177: UserWarning: An output with one or more elements was resized since it had shape [8], which does not match the required output shape [2, 8]. This behavior is deprecated, and in a future PyTorch release outputs will not be resized unless they have zero elements. You can explicitly reuse an out tensor t by resizing it, inplace, to zero elements with t.resize_(0). (Triggered internally at ../aten/src/ATen/native/Resize.cpp:28.)\n",
            "  value = torch.cat(values, dim=cat_dim or 0, out=out)\n"
          ]
        },
        {
          "name": "stdout",
          "output_type": "stream",
          "text": [
            "train_loss after 3231328 examples: 0.00359\n"
          ]
        },
        {
          "name": "stderr",
          "output_type": "stream",
          "text": [
            "/users/eleves-b/2020/thomas.li/.local/lib/python3.9/site-packages/torch_geometric/data/collate.py:177: UserWarning: An output with one or more elements was resized since it had shape [14], which does not match the required output shape [2, 14]. This behavior is deprecated, and in a future PyTorch release outputs will not be resized unless they have zero elements. You can explicitly reuse an out tensor t by resizing it, inplace, to zero elements with t.resize_(0). (Triggered internally at ../aten/src/ATen/native/Resize.cpp:28.)\n",
            "  value = torch.cat(values, dim=cat_dim or 0, out=out)\n",
            "/users/eleves-b/2020/thomas.li/.local/lib/python3.9/site-packages/torch_geometric/data/collate.py:177: UserWarning: An output with one or more elements was resized since it had shape [68], which does not match the required output shape [2, 68]. This behavior is deprecated, and in a future PyTorch release outputs will not be resized unless they have zero elements. You can explicitly reuse an out tensor t by resizing it, inplace, to zero elements with t.resize_(0). (Triggered internally at ../aten/src/ATen/native/Resize.cpp:28.)\n",
            "  value = torch.cat(values, dim=cat_dim or 0, out=out)\n"
          ]
        },
        {
          "name": "stdout",
          "output_type": "stream",
          "text": [
            "train_loss after 3232928 examples: 0.00319\n"
          ]
        },
        {
          "name": "stderr",
          "output_type": "stream",
          "text": [
            "/users/eleves-b/2020/thomas.li/.local/lib/python3.9/site-packages/torch_geometric/data/collate.py:177: UserWarning: An output with one or more elements was resized since it had shape [30], which does not match the required output shape [2, 30]. This behavior is deprecated, and in a future PyTorch release outputs will not be resized unless they have zero elements. You can explicitly reuse an out tensor t by resizing it, inplace, to zero elements with t.resize_(0). (Triggered internally at ../aten/src/ATen/native/Resize.cpp:28.)\n",
            "  value = torch.cat(values, dim=cat_dim or 0, out=out)\n"
          ]
        },
        {
          "name": "stdout",
          "output_type": "stream",
          "text": [
            "train_loss after 3234528 examples: 0.00360\n"
          ]
        },
        {
          "name": "stderr",
          "output_type": "stream",
          "text": [
            "/users/eleves-b/2020/thomas.li/.local/lib/python3.9/site-packages/torch_geometric/data/collate.py:177: UserWarning: An output with one or more elements was resized since it had shape [14], which does not match the required output shape [2, 14]. This behavior is deprecated, and in a future PyTorch release outputs will not be resized unless they have zero elements. You can explicitly reuse an out tensor t by resizing it, inplace, to zero elements with t.resize_(0). (Triggered internally at ../aten/src/ATen/native/Resize.cpp:28.)\n",
            "  value = torch.cat(values, dim=cat_dim or 0, out=out)\n"
          ]
        },
        {
          "name": "stdout",
          "output_type": "stream",
          "text": [
            "train_loss after 3236128 examples: 0.00334\n"
          ]
        },
        {
          "name": "stderr",
          "output_type": "stream",
          "text": []
        },
        {
          "name": "stdout",
          "output_type": "stream",
          "text": [
            "train_loss after 3237728 examples: 0.00329\n"
          ]
        },
        {
          "name": "stderr",
          "output_type": "stream",
          "text": [
            "/users/eleves-b/2020/thomas.li/.local/lib/python3.9/site-packages/torch_geometric/data/collate.py:177: UserWarning: An output with one or more elements was resized since it had shape [18], which does not match the required output shape [2, 18]. This behavior is deprecated, and in a future PyTorch release outputs will not be resized unless they have zero elements. You can explicitly reuse an out tensor t by resizing it, inplace, to zero elements with t.resize_(0). (Triggered internally at ../aten/src/ATen/native/Resize.cpp:28.)\n",
            "  value = torch.cat(values, dim=cat_dim or 0, out=out)\n",
            "/users/eleves-b/2020/thomas.li/.local/lib/python3.9/site-packages/torch_geometric/data/collate.py:177: UserWarning: An output with one or more elements was resized since it had shape [8], which does not match the required output shape [2, 8]. This behavior is deprecated, and in a future PyTorch release outputs will not be resized unless they have zero elements. You can explicitly reuse an out tensor t by resizing it, inplace, to zero elements with t.resize_(0). (Triggered internally at ../aten/src/ATen/native/Resize.cpp:28.)\n",
            "  value = torch.cat(values, dim=cat_dim or 0, out=out)\n"
          ]
        },
        {
          "name": "stdout",
          "output_type": "stream",
          "text": [
            "train_loss after 3239328 examples: 0.00333\n"
          ]
        },
        {
          "name": "stderr",
          "output_type": "stream",
          "text": [
            "/users/eleves-b/2020/thomas.li/.local/lib/python3.9/site-packages/torch_geometric/data/collate.py:177: UserWarning: An output with one or more elements was resized since it had shape [8], which does not match the required output shape [2, 8]. This behavior is deprecated, and in a future PyTorch release outputs will not be resized unless they have zero elements. You can explicitly reuse an out tensor t by resizing it, inplace, to zero elements with t.resize_(0). (Triggered internally at ../aten/src/ATen/native/Resize.cpp:28.)\n",
            "  value = torch.cat(values, dim=cat_dim or 0, out=out)\n",
            "/users/eleves-b/2020/thomas.li/.local/lib/python3.9/site-packages/torch_geometric/data/collate.py:177: UserWarning: An output with one or more elements was resized since it had shape [26], which does not match the required output shape [2, 26]. This behavior is deprecated, and in a future PyTorch release outputs will not be resized unless they have zero elements. You can explicitly reuse an out tensor t by resizing it, inplace, to zero elements with t.resize_(0). (Triggered internally at ../aten/src/ATen/native/Resize.cpp:28.)\n",
            "  value = torch.cat(values, dim=cat_dim or 0, out=out)\n",
            "/users/eleves-b/2020/thomas.li/.local/lib/python3.9/site-packages/torch_geometric/data/collate.py:177: UserWarning: An output with one or more elements was resized since it had shape [2272], which does not match the required output shape [2, 2272]. This behavior is deprecated, and in a future PyTorch release outputs will not be resized unless they have zero elements. You can explicitly reuse an out tensor t by resizing it, inplace, to zero elements with t.resize_(0). (Triggered internally at ../aten/src/ATen/native/Resize.cpp:28.)\n",
            "  value = torch.cat(values, dim=cat_dim or 0, out=out)\n"
          ]
        },
        {
          "name": "stdout",
          "output_type": "stream",
          "text": [
            "train_loss after 3240928 examples: 0.00345\n"
          ]
        },
        {
          "name": "stderr",
          "output_type": "stream",
          "text": [
            "/users/eleves-b/2020/thomas.li/.local/lib/python3.9/site-packages/torch_geometric/data/collate.py:177: UserWarning: An output with one or more elements was resized since it had shape [8], which does not match the required output shape [2, 8]. This behavior is deprecated, and in a future PyTorch release outputs will not be resized unless they have zero elements. You can explicitly reuse an out tensor t by resizing it, inplace, to zero elements with t.resize_(0). (Triggered internally at ../aten/src/ATen/native/Resize.cpp:28.)\n",
            "  value = torch.cat(values, dim=cat_dim or 0, out=out)\n",
            "/users/eleves-b/2020/thomas.li/.local/lib/python3.9/site-packages/torch_geometric/data/collate.py:177: UserWarning: An output with one or more elements was resized since it had shape [1530], which does not match the required output shape [2, 1530]. This behavior is deprecated, and in a future PyTorch release outputs will not be resized unless they have zero elements. You can explicitly reuse an out tensor t by resizing it, inplace, to zero elements with t.resize_(0). (Triggered internally at ../aten/src/ATen/native/Resize.cpp:28.)\n",
            "  value = torch.cat(values, dim=cat_dim or 0, out=out)\n"
          ]
        },
        {
          "name": "stdout",
          "output_type": "stream",
          "text": [
            "train_loss after 3242528 examples: 0.00349\n"
          ]
        },
        {
          "name": "stderr",
          "output_type": "stream",
          "text": [
            "/users/eleves-b/2020/thomas.li/.local/lib/python3.9/site-packages/torch_geometric/data/collate.py:177: UserWarning: An output with one or more elements was resized since it had shape [94], which does not match the required output shape [2, 94]. This behavior is deprecated, and in a future PyTorch release outputs will not be resized unless they have zero elements. You can explicitly reuse an out tensor t by resizing it, inplace, to zero elements with t.resize_(0). (Triggered internally at ../aten/src/ATen/native/Resize.cpp:28.)\n",
            "  value = torch.cat(values, dim=cat_dim or 0, out=out)\n",
            "/users/eleves-b/2020/thomas.li/.local/lib/python3.9/site-packages/torch_geometric/data/collate.py:177: UserWarning: An output with one or more elements was resized since it had shape [166], which does not match the required output shape [2, 166]. This behavior is deprecated, and in a future PyTorch release outputs will not be resized unless they have zero elements. You can explicitly reuse an out tensor t by resizing it, inplace, to zero elements with t.resize_(0). (Triggered internally at ../aten/src/ATen/native/Resize.cpp:28.)\n",
            "  value = torch.cat(values, dim=cat_dim or 0, out=out)\n"
          ]
        },
        {
          "name": "stdout",
          "output_type": "stream",
          "text": [
            "train_loss after 3244128 examples: 0.00337\n"
          ]
        },
        {
          "name": "stderr",
          "output_type": "stream",
          "text": [
            "/users/eleves-b/2020/thomas.li/.local/lib/python3.9/site-packages/torch_geometric/data/collate.py:177: UserWarning: An output with one or more elements was resized since it had shape [8], which does not match the required output shape [2, 8]. This behavior is deprecated, and in a future PyTorch release outputs will not be resized unless they have zero elements. You can explicitly reuse an out tensor t by resizing it, inplace, to zero elements with t.resize_(0). (Triggered internally at ../aten/src/ATen/native/Resize.cpp:28.)\n",
            "  value = torch.cat(values, dim=cat_dim or 0, out=out)\n",
            "/users/eleves-b/2020/thomas.li/.local/lib/python3.9/site-packages/torch_geometric/data/collate.py:177: UserWarning: An output with one or more elements was resized since it had shape [38], which does not match the required output shape [2, 38]. This behavior is deprecated, and in a future PyTorch release outputs will not be resized unless they have zero elements. You can explicitly reuse an out tensor t by resizing it, inplace, to zero elements with t.resize_(0). (Triggered internally at ../aten/src/ATen/native/Resize.cpp:28.)\n",
            "  value = torch.cat(values, dim=cat_dim or 0, out=out)\n"
          ]
        },
        {
          "name": "stdout",
          "output_type": "stream",
          "text": [
            "train_loss after 3245728 examples: 0.00310\n"
          ]
        },
        {
          "name": "stderr",
          "output_type": "stream",
          "text": [
            "/users/eleves-b/2020/thomas.li/.local/lib/python3.9/site-packages/torch_geometric/data/collate.py:177: UserWarning: An output with one or more elements was resized since it had shape [904], which does not match the required output shape [2, 904]. This behavior is deprecated, and in a future PyTorch release outputs will not be resized unless they have zero elements. You can explicitly reuse an out tensor t by resizing it, inplace, to zero elements with t.resize_(0). (Triggered internally at ../aten/src/ATen/native/Resize.cpp:28.)\n",
            "  value = torch.cat(values, dim=cat_dim or 0, out=out)\n",
            "/users/eleves-b/2020/thomas.li/.local/lib/python3.9/site-packages/torch_geometric/data/collate.py:177: UserWarning: An output with one or more elements was resized since it had shape [1686], which does not match the required output shape [2, 1686]. This behavior is deprecated, and in a future PyTorch release outputs will not be resized unless they have zero elements. You can explicitly reuse an out tensor t by resizing it, inplace, to zero elements with t.resize_(0). (Triggered internally at ../aten/src/ATen/native/Resize.cpp:28.)\n",
            "  value = torch.cat(values, dim=cat_dim or 0, out=out)\n",
            "/users/eleves-b/2020/thomas.li/.local/lib/python3.9/site-packages/torch_geometric/data/collate.py:177: UserWarning: An output with one or more elements was resized since it had shape [932], which does not match the required output shape [2, 932]. This behavior is deprecated, and in a future PyTorch release outputs will not be resized unless they have zero elements. You can explicitly reuse an out tensor t by resizing it, inplace, to zero elements with t.resize_(0). (Triggered internally at ../aten/src/ATen/native/Resize.cpp:28.)\n",
            "  value = torch.cat(values, dim=cat_dim or 0, out=out)\n"
          ]
        },
        {
          "name": "stdout",
          "output_type": "stream",
          "text": [
            "train_loss after 3247328 examples: 0.00338\n"
          ]
        },
        {
          "name": "stderr",
          "output_type": "stream",
          "text": [
            "100%|██████████| 2487/2487 [09:15<00:00,  4.47it/s]\n",
            " 25%|██▌       | 1/4 [09:29<28:28, 569.41s/it]/users/eleves-b/2020/thomas.li/.local/lib/python3.9/site-packages/torch_geometric/data/collate.py:177: UserWarning: An output with one or more elements was resized since it had shape [62], which does not match the required output shape [2, 62]. This behavior is deprecated, and in a future PyTorch release outputs will not be resized unless they have zero elements. You can explicitly reuse an out tensor t by resizing it, inplace, to zero elements with t.resize_(0). (Triggered internally at ../aten/src/ATen/native/Resize.cpp:28.)\n",
            "  value = torch.cat(values, dim=cat_dim or 0, out=out)\n",
            "/users/eleves-b/2020/thomas.li/.local/lib/python3.9/site-packages/torch_geometric/data/collate.py:177: UserWarning: An output with one or more elements was resized since it had shape [204], which does not match the required output shape [2, 204]. This behavior is deprecated, and in a future PyTorch release outputs will not be resized unless they have zero elements. You can explicitly reuse an out tensor t by resizing it, inplace, to zero elements with t.resize_(0). (Triggered internally at ../aten/src/ATen/native/Resize.cpp:28.)\n",
            "  value = torch.cat(values, dim=cat_dim or 0, out=out)\n",
            "/users/eleves-b/2020/thomas.li/.local/lib/python3.9/site-packages/torch_geometric/data/collate.py:177: UserWarning: An output with one or more elements was resized since it had shape [8], which does not match the required output shape [2, 8]. This behavior is deprecated, and in a future PyTorch release outputs will not be resized unless they have zero elements. You can explicitly reuse an out tensor t by resizing it, inplace, to zero elements with t.resize_(0). (Triggered internally at ../aten/src/ATen/native/Resize.cpp:28.)\n",
            "  value = torch.cat(values, dim=cat_dim or 0, out=out)\n"
          ]
        },
        {
          "name": "stdout",
          "output_type": "stream",
          "text": [
            "train_loss after 3250112 examples: 0.00318\n"
          ]
        },
        {
          "name": "stderr",
          "output_type": "stream",
          "text": [
            "/users/eleves-b/2020/thomas.li/.local/lib/python3.9/site-packages/torch_geometric/data/collate.py:177: UserWarning: An output with one or more elements was resized since it had shape [56], which does not match the required output shape [2, 56]. This behavior is deprecated, and in a future PyTorch release outputs will not be resized unless they have zero elements. You can explicitly reuse an out tensor t by resizing it, inplace, to zero elements with t.resize_(0). (Triggered internally at ../aten/src/ATen/native/Resize.cpp:28.)\n",
            "  value = torch.cat(values, dim=cat_dim or 0, out=out)\n"
          ]
        },
        {
          "name": "stdout",
          "output_type": "stream",
          "text": [
            "train_loss after 3251712 examples: 0.00327\n"
          ]
        },
        {
          "name": "stderr",
          "output_type": "stream",
          "text": [
            "/users/eleves-b/2020/thomas.li/.local/lib/python3.9/site-packages/torch_geometric/data/collate.py:177: UserWarning: An output with one or more elements was resized since it had shape [456], which does not match the required output shape [2, 456]. This behavior is deprecated, and in a future PyTorch release outputs will not be resized unless they have zero elements. You can explicitly reuse an out tensor t by resizing it, inplace, to zero elements with t.resize_(0). (Triggered internally at ../aten/src/ATen/native/Resize.cpp:28.)\n",
            "  value = torch.cat(values, dim=cat_dim or 0, out=out)\n"
          ]
        },
        {
          "name": "stdout",
          "output_type": "stream",
          "text": [
            "train_loss after 3253312 examples: 0.00288\n"
          ]
        },
        {
          "name": "stderr",
          "output_type": "stream",
          "text": [
            "/users/eleves-b/2020/thomas.li/.local/lib/python3.9/site-packages/torch_geometric/data/collate.py:177: UserWarning: An output with one or more elements was resized since it had shape [154], which does not match the required output shape [2, 154]. This behavior is deprecated, and in a future PyTorch release outputs will not be resized unless they have zero elements. You can explicitly reuse an out tensor t by resizing it, inplace, to zero elements with t.resize_(0). (Triggered internally at ../aten/src/ATen/native/Resize.cpp:28.)\n",
            "  value = torch.cat(values, dim=cat_dim or 0, out=out)\n"
          ]
        },
        {
          "name": "stdout",
          "output_type": "stream",
          "text": [
            "train_loss after 3254912 examples: 0.00311\n"
          ]
        },
        {
          "name": "stderr",
          "output_type": "stream",
          "text": [
            "/users/eleves-b/2020/thomas.li/.local/lib/python3.9/site-packages/torch_geometric/data/collate.py:177: UserWarning: An output with one or more elements was resized since it had shape [74], which does not match the required output shape [2, 74]. This behavior is deprecated, and in a future PyTorch release outputs will not be resized unless they have zero elements. You can explicitly reuse an out tensor t by resizing it, inplace, to zero elements with t.resize_(0). (Triggered internally at ../aten/src/ATen/native/Resize.cpp:28.)\n",
            "  value = torch.cat(values, dim=cat_dim or 0, out=out)\n"
          ]
        },
        {
          "name": "stdout",
          "output_type": "stream",
          "text": [
            "train_loss after 3256512 examples: 0.00298\n"
          ]
        },
        {
          "name": "stderr",
          "output_type": "stream",
          "text": [
            "/users/eleves-b/2020/thomas.li/.local/lib/python3.9/site-packages/torch_geometric/data/collate.py:177: UserWarning: An output with one or more elements was resized since it had shape [8], which does not match the required output shape [2, 8]. This behavior is deprecated, and in a future PyTorch release outputs will not be resized unless they have zero elements. You can explicitly reuse an out tensor t by resizing it, inplace, to zero elements with t.resize_(0). (Triggered internally at ../aten/src/ATen/native/Resize.cpp:28.)\n",
            "  value = torch.cat(values, dim=cat_dim or 0, out=out)\n",
            "/users/eleves-b/2020/thomas.li/.local/lib/python3.9/site-packages/torch_geometric/data/collate.py:177: UserWarning: An output with one or more elements was resized since it had shape [284], which does not match the required output shape [2, 284]. This behavior is deprecated, and in a future PyTorch release outputs will not be resized unless they have zero elements. You can explicitly reuse an out tensor t by resizing it, inplace, to zero elements with t.resize_(0). (Triggered internally at ../aten/src/ATen/native/Resize.cpp:28.)\n",
            "  value = torch.cat(values, dim=cat_dim or 0, out=out)\n"
          ]
        },
        {
          "name": "stdout",
          "output_type": "stream",
          "text": [
            "train_loss after 3258112 examples: 0.00312\n"
          ]
        },
        {
          "name": "stderr",
          "output_type": "stream",
          "text": [
            "/users/eleves-b/2020/thomas.li/.local/lib/python3.9/site-packages/torch_geometric/data/collate.py:177: UserWarning: An output with one or more elements was resized since it had shape [492], which does not match the required output shape [2, 492]. This behavior is deprecated, and in a future PyTorch release outputs will not be resized unless they have zero elements. You can explicitly reuse an out tensor t by resizing it, inplace, to zero elements with t.resize_(0). (Triggered internally at ../aten/src/ATen/native/Resize.cpp:28.)\n",
            "  value = torch.cat(values, dim=cat_dim or 0, out=out)\n"
          ]
        },
        {
          "name": "stdout",
          "output_type": "stream",
          "text": [
            "train_loss after 3259712 examples: 0.00311\n"
          ]
        },
        {
          "name": "stderr",
          "output_type": "stream",
          "text": [
            "/users/eleves-b/2020/thomas.li/.local/lib/python3.9/site-packages/torch_geometric/data/collate.py:177: UserWarning: An output with one or more elements was resized since it had shape [10], which does not match the required output shape [2, 10]. This behavior is deprecated, and in a future PyTorch release outputs will not be resized unless they have zero elements. You can explicitly reuse an out tensor t by resizing it, inplace, to zero elements with t.resize_(0). (Triggered internally at ../aten/src/ATen/native/Resize.cpp:28.)\n",
            "  value = torch.cat(values, dim=cat_dim or 0, out=out)\n",
            "/users/eleves-b/2020/thomas.li/.local/lib/python3.9/site-packages/torch_geometric/data/collate.py:177: UserWarning: An output with one or more elements was resized since it had shape [554], which does not match the required output shape [2, 554]. This behavior is deprecated, and in a future PyTorch release outputs will not be resized unless they have zero elements. You can explicitly reuse an out tensor t by resizing it, inplace, to zero elements with t.resize_(0). (Triggered internally at ../aten/src/ATen/native/Resize.cpp:28.)\n",
            "  value = torch.cat(values, dim=cat_dim or 0, out=out)\n",
            "/users/eleves-b/2020/thomas.li/.local/lib/python3.9/site-packages/torch_geometric/data/collate.py:177: UserWarning: An output with one or more elements was resized since it had shape [1724], which does not match the required output shape [2, 1724]. This behavior is deprecated, and in a future PyTorch release outputs will not be resized unless they have zero elements. You can explicitly reuse an out tensor t by resizing it, inplace, to zero elements with t.resize_(0). (Triggered internally at ../aten/src/ATen/native/Resize.cpp:28.)\n",
            "  value = torch.cat(values, dim=cat_dim or 0, out=out)\n"
          ]
        },
        {
          "name": "stdout",
          "output_type": "stream",
          "text": [
            "train_loss after 3261312 examples: 0.00316\n"
          ]
        },
        {
          "name": "stderr",
          "output_type": "stream",
          "text": [
            "/users/eleves-b/2020/thomas.li/.local/lib/python3.9/site-packages/torch_geometric/data/collate.py:177: UserWarning: An output with one or more elements was resized since it had shape [2626], which does not match the required output shape [2, 2626]. This behavior is deprecated, and in a future PyTorch release outputs will not be resized unless they have zero elements. You can explicitly reuse an out tensor t by resizing it, inplace, to zero elements with t.resize_(0). (Triggered internally at ../aten/src/ATen/native/Resize.cpp:28.)\n",
            "  value = torch.cat(values, dim=cat_dim or 0, out=out)\n",
            "/users/eleves-b/2020/thomas.li/.local/lib/python3.9/site-packages/torch_geometric/data/collate.py:177: UserWarning: An output with one or more elements was resized since it had shape [2204], which does not match the required output shape [2, 2204]. This behavior is deprecated, and in a future PyTorch release outputs will not be resized unless they have zero elements. You can explicitly reuse an out tensor t by resizing it, inplace, to zero elements with t.resize_(0). (Triggered internally at ../aten/src/ATen/native/Resize.cpp:28.)\n",
            "  value = torch.cat(values, dim=cat_dim or 0, out=out)\n"
          ]
        },
        {
          "name": "stdout",
          "output_type": "stream",
          "text": [
            "train_loss after 3262912 examples: 0.00330\n"
          ]
        },
        {
          "name": "stderr",
          "output_type": "stream",
          "text": [
            "/users/eleves-b/2020/thomas.li/.local/lib/python3.9/site-packages/torch_geometric/data/collate.py:177: UserWarning: An output with one or more elements was resized since it had shape [14], which does not match the required output shape [2, 14]. This behavior is deprecated, and in a future PyTorch release outputs will not be resized unless they have zero elements. You can explicitly reuse an out tensor t by resizing it, inplace, to zero elements with t.resize_(0). (Triggered internally at ../aten/src/ATen/native/Resize.cpp:28.)\n",
            "  value = torch.cat(values, dim=cat_dim or 0, out=out)\n",
            "/users/eleves-b/2020/thomas.li/.local/lib/python3.9/site-packages/torch_geometric/data/collate.py:177: UserWarning: An output with one or more elements was resized since it had shape [906], which does not match the required output shape [2, 906]. This behavior is deprecated, and in a future PyTorch release outputs will not be resized unless they have zero elements. You can explicitly reuse an out tensor t by resizing it, inplace, to zero elements with t.resize_(0). (Triggered internally at ../aten/src/ATen/native/Resize.cpp:28.)\n",
            "  value = torch.cat(values, dim=cat_dim or 0, out=out)\n"
          ]
        },
        {
          "name": "stdout",
          "output_type": "stream",
          "text": [
            "train_loss after 3264512 examples: 0.00284\n"
          ]
        },
        {
          "name": "stderr",
          "output_type": "stream",
          "text": [
            "/users/eleves-b/2020/thomas.li/.local/lib/python3.9/site-packages/torch_geometric/data/collate.py:177: UserWarning: An output with one or more elements was resized since it had shape [504], which does not match the required output shape [2, 504]. This behavior is deprecated, and in a future PyTorch release outputs will not be resized unless they have zero elements. You can explicitly reuse an out tensor t by resizing it, inplace, to zero elements with t.resize_(0). (Triggered internally at ../aten/src/ATen/native/Resize.cpp:28.)\n",
            "  value = torch.cat(values, dim=cat_dim or 0, out=out)\n",
            "/users/eleves-b/2020/thomas.li/.local/lib/python3.9/site-packages/torch_geometric/data/collate.py:177: UserWarning: An output with one or more elements was resized since it had shape [2090], which does not match the required output shape [2, 2090]. This behavior is deprecated, and in a future PyTorch release outputs will not be resized unless they have zero elements. You can explicitly reuse an out tensor t by resizing it, inplace, to zero elements with t.resize_(0). (Triggered internally at ../aten/src/ATen/native/Resize.cpp:28.)\n",
            "  value = torch.cat(values, dim=cat_dim or 0, out=out)\n"
          ]
        },
        {
          "name": "stdout",
          "output_type": "stream",
          "text": [
            "train_loss after 3266112 examples: 0.00296\n"
          ]
        },
        {
          "name": "stderr",
          "output_type": "stream",
          "text": [
            "/users/eleves-b/2020/thomas.li/.local/lib/python3.9/site-packages/torch_geometric/data/collate.py:177: UserWarning: An output with one or more elements was resized since it had shape [602], which does not match the required output shape [2, 602]. This behavior is deprecated, and in a future PyTorch release outputs will not be resized unless they have zero elements. You can explicitly reuse an out tensor t by resizing it, inplace, to zero elements with t.resize_(0). (Triggered internally at ../aten/src/ATen/native/Resize.cpp:28.)\n",
            "  value = torch.cat(values, dim=cat_dim or 0, out=out)\n"
          ]
        },
        {
          "name": "stdout",
          "output_type": "stream",
          "text": [
            "train_loss after 3267712 examples: 0.00270\n"
          ]
        },
        {
          "name": "stderr",
          "output_type": "stream",
          "text": []
        },
        {
          "name": "stdout",
          "output_type": "stream",
          "text": [
            "train_loss after 3269312 examples: 0.00285\n"
          ]
        },
        {
          "name": "stderr",
          "output_type": "stream",
          "text": [
            "/users/eleves-b/2020/thomas.li/.local/lib/python3.9/site-packages/torch_geometric/data/collate.py:177: UserWarning: An output with one or more elements was resized since it had shape [34], which does not match the required output shape [2, 34]. This behavior is deprecated, and in a future PyTorch release outputs will not be resized unless they have zero elements. You can explicitly reuse an out tensor t by resizing it, inplace, to zero elements with t.resize_(0). (Triggered internally at ../aten/src/ATen/native/Resize.cpp:28.)\n",
            "  value = torch.cat(values, dim=cat_dim or 0, out=out)\n",
            "/users/eleves-b/2020/thomas.li/.local/lib/python3.9/site-packages/torch_geometric/data/collate.py:177: UserWarning: An output with one or more elements was resized since it had shape [1068], which does not match the required output shape [2, 1068]. This behavior is deprecated, and in a future PyTorch release outputs will not be resized unless they have zero elements. You can explicitly reuse an out tensor t by resizing it, inplace, to zero elements with t.resize_(0). (Triggered internally at ../aten/src/ATen/native/Resize.cpp:28.)\n",
            "  value = torch.cat(values, dim=cat_dim or 0, out=out)\n"
          ]
        },
        {
          "name": "stdout",
          "output_type": "stream",
          "text": [
            "train_loss after 3270912 examples: 0.00275\n"
          ]
        },
        {
          "name": "stderr",
          "output_type": "stream",
          "text": [
            "/users/eleves-b/2020/thomas.li/.local/lib/python3.9/site-packages/torch_geometric/data/collate.py:177: UserWarning: An output with one or more elements was resized since it had shape [62], which does not match the required output shape [2, 62]. This behavior is deprecated, and in a future PyTorch release outputs will not be resized unless they have zero elements. You can explicitly reuse an out tensor t by resizing it, inplace, to zero elements with t.resize_(0). (Triggered internally at ../aten/src/ATen/native/Resize.cpp:28.)\n",
            "  value = torch.cat(values, dim=cat_dim or 0, out=out)\n"
          ]
        },
        {
          "name": "stdout",
          "output_type": "stream",
          "text": [
            "train_loss after 3272512 examples: 0.00276\n"
          ]
        },
        {
          "name": "stderr",
          "output_type": "stream",
          "text": [
            "/users/eleves-b/2020/thomas.li/.local/lib/python3.9/site-packages/torch_geometric/data/collate.py:177: UserWarning: An output with one or more elements was resized since it had shape [286], which does not match the required output shape [2, 286]. This behavior is deprecated, and in a future PyTorch release outputs will not be resized unless they have zero elements. You can explicitly reuse an out tensor t by resizing it, inplace, to zero elements with t.resize_(0). (Triggered internally at ../aten/src/ATen/native/Resize.cpp:28.)\n",
            "  value = torch.cat(values, dim=cat_dim or 0, out=out)\n"
          ]
        },
        {
          "name": "stdout",
          "output_type": "stream",
          "text": [
            "train_loss after 3274112 examples: 0.00279\n"
          ]
        },
        {
          "name": "stderr",
          "output_type": "stream",
          "text": [
            "/users/eleves-b/2020/thomas.li/.local/lib/python3.9/site-packages/torch_geometric/data/collate.py:177: UserWarning: An output with one or more elements was resized since it had shape [14], which does not match the required output shape [2, 14]. This behavior is deprecated, and in a future PyTorch release outputs will not be resized unless they have zero elements. You can explicitly reuse an out tensor t by resizing it, inplace, to zero elements with t.resize_(0). (Triggered internally at ../aten/src/ATen/native/Resize.cpp:28.)\n",
            "  value = torch.cat(values, dim=cat_dim or 0, out=out)\n",
            "/users/eleves-b/2020/thomas.li/.local/lib/python3.9/site-packages/torch_geometric/data/collate.py:177: UserWarning: An output with one or more elements was resized since it had shape [8], which does not match the required output shape [2, 8]. This behavior is deprecated, and in a future PyTorch release outputs will not be resized unless they have zero elements. You can explicitly reuse an out tensor t by resizing it, inplace, to zero elements with t.resize_(0). (Triggered internally at ../aten/src/ATen/native/Resize.cpp:28.)\n",
            "  value = torch.cat(values, dim=cat_dim or 0, out=out)\n"
          ]
        },
        {
          "name": "stdout",
          "output_type": "stream",
          "text": [
            "train_loss after 3275712 examples: 0.00313\n"
          ]
        },
        {
          "name": "stderr",
          "output_type": "stream",
          "text": [
            "/users/eleves-b/2020/thomas.li/.local/lib/python3.9/site-packages/torch_geometric/data/collate.py:177: UserWarning: An output with one or more elements was resized since it had shape [2410], which does not match the required output shape [2, 2410]. This behavior is deprecated, and in a future PyTorch release outputs will not be resized unless they have zero elements. You can explicitly reuse an out tensor t by resizing it, inplace, to zero elements with t.resize_(0). (Triggered internally at ../aten/src/ATen/native/Resize.cpp:28.)\n",
            "  value = torch.cat(values, dim=cat_dim or 0, out=out)\n",
            "/users/eleves-b/2020/thomas.li/.local/lib/python3.9/site-packages/torch_geometric/data/collate.py:177: UserWarning: An output with one or more elements was resized since it had shape [408], which does not match the required output shape [2, 408]. This behavior is deprecated, and in a future PyTorch release outputs will not be resized unless they have zero elements. You can explicitly reuse an out tensor t by resizing it, inplace, to zero elements with t.resize_(0). (Triggered internally at ../aten/src/ATen/native/Resize.cpp:28.)\n",
            "  value = torch.cat(values, dim=cat_dim or 0, out=out)\n"
          ]
        },
        {
          "name": "stdout",
          "output_type": "stream",
          "text": [
            "train_loss after 3277312 examples: 0.00291\n"
          ]
        },
        {
          "name": "stderr",
          "output_type": "stream",
          "text": []
        },
        {
          "name": "stdout",
          "output_type": "stream",
          "text": [
            "train_loss after 3278912 examples: 0.00279\n"
          ]
        },
        {
          "name": "stderr",
          "output_type": "stream",
          "text": []
        },
        {
          "name": "stdout",
          "output_type": "stream",
          "text": [
            "train_loss after 3280512 examples: 0.00244\n"
          ]
        },
        {
          "name": "stderr",
          "output_type": "stream",
          "text": [
            "/users/eleves-b/2020/thomas.li/.local/lib/python3.9/site-packages/torch_geometric/data/collate.py:177: UserWarning: An output with one or more elements was resized since it had shape [14], which does not match the required output shape [2, 14]. This behavior is deprecated, and in a future PyTorch release outputs will not be resized unless they have zero elements. You can explicitly reuse an out tensor t by resizing it, inplace, to zero elements with t.resize_(0). (Triggered internally at ../aten/src/ATen/native/Resize.cpp:28.)\n",
            "  value = torch.cat(values, dim=cat_dim or 0, out=out)\n",
            "/users/eleves-b/2020/thomas.li/.local/lib/python3.9/site-packages/torch_geometric/data/collate.py:177: UserWarning: An output with one or more elements was resized since it had shape [114], which does not match the required output shape [2, 114]. This behavior is deprecated, and in a future PyTorch release outputs will not be resized unless they have zero elements. You can explicitly reuse an out tensor t by resizing it, inplace, to zero elements with t.resize_(0). (Triggered internally at ../aten/src/ATen/native/Resize.cpp:28.)\n",
            "  value = torch.cat(values, dim=cat_dim or 0, out=out)\n"
          ]
        },
        {
          "name": "stdout",
          "output_type": "stream",
          "text": [
            "train_loss after 3282112 examples: 0.00294\n"
          ]
        },
        {
          "name": "stderr",
          "output_type": "stream",
          "text": [
            "/users/eleves-b/2020/thomas.li/.local/lib/python3.9/site-packages/torch_geometric/data/collate.py:177: UserWarning: An output with one or more elements was resized since it had shape [894], which does not match the required output shape [2, 894]. This behavior is deprecated, and in a future PyTorch release outputs will not be resized unless they have zero elements. You can explicitly reuse an out tensor t by resizing it, inplace, to zero elements with t.resize_(0). (Triggered internally at ../aten/src/ATen/native/Resize.cpp:28.)\n",
            "  value = torch.cat(values, dim=cat_dim or 0, out=out)\n"
          ]
        },
        {
          "name": "stdout",
          "output_type": "stream",
          "text": [
            "train_loss after 3283712 examples: 0.00311\n"
          ]
        },
        {
          "name": "stderr",
          "output_type": "stream",
          "text": []
        },
        {
          "name": "stdout",
          "output_type": "stream",
          "text": [
            "train_loss after 3285312 examples: 0.00316\n"
          ]
        },
        {
          "name": "stderr",
          "output_type": "stream",
          "text": [
            "/users/eleves-b/2020/thomas.li/.local/lib/python3.9/site-packages/torch_geometric/data/collate.py:177: UserWarning: An output with one or more elements was resized since it had shape [16], which does not match the required output shape [2, 16]. This behavior is deprecated, and in a future PyTorch release outputs will not be resized unless they have zero elements. You can explicitly reuse an out tensor t by resizing it, inplace, to zero elements with t.resize_(0). (Triggered internally at ../aten/src/ATen/native/Resize.cpp:28.)\n",
            "  value = torch.cat(values, dim=cat_dim or 0, out=out)\n"
          ]
        },
        {
          "name": "stdout",
          "output_type": "stream",
          "text": [
            "train_loss after 3286912 examples: 0.00301\n"
          ]
        },
        {
          "name": "stderr",
          "output_type": "stream",
          "text": []
        },
        {
          "name": "stdout",
          "output_type": "stream",
          "text": [
            "train_loss after 3288512 examples: 0.00269\n"
          ]
        },
        {
          "name": "stderr",
          "output_type": "stream",
          "text": [
            "/users/eleves-b/2020/thomas.li/.local/lib/python3.9/site-packages/torch_geometric/data/collate.py:177: UserWarning: An output with one or more elements was resized since it had shape [62], which does not match the required output shape [2, 62]. This behavior is deprecated, and in a future PyTorch release outputs will not be resized unless they have zero elements. You can explicitly reuse an out tensor t by resizing it, inplace, to zero elements with t.resize_(0). (Triggered internally at ../aten/src/ATen/native/Resize.cpp:28.)\n",
            "  value = torch.cat(values, dim=cat_dim or 0, out=out)\n"
          ]
        },
        {
          "name": "stdout",
          "output_type": "stream",
          "text": [
            "train_loss after 3290112 examples: 0.00280\n"
          ]
        },
        {
          "name": "stderr",
          "output_type": "stream",
          "text": [
            "/users/eleves-b/2020/thomas.li/.local/lib/python3.9/site-packages/torch_geometric/data/collate.py:177: UserWarning: An output with one or more elements was resized since it had shape [10], which does not match the required output shape [2, 10]. This behavior is deprecated, and in a future PyTorch release outputs will not be resized unless they have zero elements. You can explicitly reuse an out tensor t by resizing it, inplace, to zero elements with t.resize_(0). (Triggered internally at ../aten/src/ATen/native/Resize.cpp:28.)\n",
            "  value = torch.cat(values, dim=cat_dim or 0, out=out)\n"
          ]
        },
        {
          "name": "stdout",
          "output_type": "stream",
          "text": [
            "train_loss after 3291712 examples: 0.00294\n"
          ]
        },
        {
          "name": "stderr",
          "output_type": "stream",
          "text": [
            "/users/eleves-b/2020/thomas.li/.local/lib/python3.9/site-packages/torch_geometric/data/collate.py:177: UserWarning: An output with one or more elements was resized since it had shape [1826], which does not match the required output shape [2, 1826]. This behavior is deprecated, and in a future PyTorch release outputs will not be resized unless they have zero elements. You can explicitly reuse an out tensor t by resizing it, inplace, to zero elements with t.resize_(0). (Triggered internally at ../aten/src/ATen/native/Resize.cpp:28.)\n",
            "  value = torch.cat(values, dim=cat_dim or 0, out=out)\n",
            "/users/eleves-b/2020/thomas.li/.local/lib/python3.9/site-packages/torch_geometric/data/collate.py:177: UserWarning: An output with one or more elements was resized since it had shape [8], which does not match the required output shape [2, 8]. This behavior is deprecated, and in a future PyTorch release outputs will not be resized unless they have zero elements. You can explicitly reuse an out tensor t by resizing it, inplace, to zero elements with t.resize_(0). (Triggered internally at ../aten/src/ATen/native/Resize.cpp:28.)\n",
            "  value = torch.cat(values, dim=cat_dim or 0, out=out)\n"
          ]
        },
        {
          "name": "stdout",
          "output_type": "stream",
          "text": [
            "train_loss after 3293312 examples: 0.00287\n"
          ]
        },
        {
          "name": "stderr",
          "output_type": "stream",
          "text": []
        },
        {
          "name": "stdout",
          "output_type": "stream",
          "text": [
            "train_loss after 3294912 examples: 0.00260\n"
          ]
        },
        {
          "name": "stderr",
          "output_type": "stream",
          "text": [
            "/users/eleves-b/2020/thomas.li/.local/lib/python3.9/site-packages/torch_geometric/data/collate.py:177: UserWarning: An output with one or more elements was resized since it had shape [68], which does not match the required output shape [2, 68]. This behavior is deprecated, and in a future PyTorch release outputs will not be resized unless they have zero elements. You can explicitly reuse an out tensor t by resizing it, inplace, to zero elements with t.resize_(0). (Triggered internally at ../aten/src/ATen/native/Resize.cpp:28.)\n",
            "  value = torch.cat(values, dim=cat_dim or 0, out=out)\n",
            "/users/eleves-b/2020/thomas.li/.local/lib/python3.9/site-packages/torch_geometric/data/collate.py:177: UserWarning: An output with one or more elements was resized since it had shape [1396], which does not match the required output shape [2, 1396]. This behavior is deprecated, and in a future PyTorch release outputs will not be resized unless they have zero elements. You can explicitly reuse an out tensor t by resizing it, inplace, to zero elements with t.resize_(0). (Triggered internally at ../aten/src/ATen/native/Resize.cpp:28.)\n",
            "  value = torch.cat(values, dim=cat_dim or 0, out=out)\n"
          ]
        },
        {
          "name": "stdout",
          "output_type": "stream",
          "text": [
            "train_loss after 3296512 examples: 0.00273\n"
          ]
        },
        {
          "name": "stderr",
          "output_type": "stream",
          "text": [
            "/users/eleves-b/2020/thomas.li/.local/lib/python3.9/site-packages/torch_geometric/data/collate.py:177: UserWarning: An output with one or more elements was resized since it had shape [8], which does not match the required output shape [2, 8]. This behavior is deprecated, and in a future PyTorch release outputs will not be resized unless they have zero elements. You can explicitly reuse an out tensor t by resizing it, inplace, to zero elements with t.resize_(0). (Triggered internally at ../aten/src/ATen/native/Resize.cpp:28.)\n",
            "  value = torch.cat(values, dim=cat_dim or 0, out=out)\n"
          ]
        },
        {
          "name": "stdout",
          "output_type": "stream",
          "text": [
            "train_loss after 3298112 examples: 0.00294\n"
          ]
        },
        {
          "name": "stderr",
          "output_type": "stream",
          "text": []
        },
        {
          "name": "stdout",
          "output_type": "stream",
          "text": [
            "train_loss after 3299712 examples: 0.00276\n"
          ]
        },
        {
          "name": "stderr",
          "output_type": "stream",
          "text": [
            "/users/eleves-b/2020/thomas.li/.local/lib/python3.9/site-packages/torch_geometric/data/collate.py:177: UserWarning: An output with one or more elements was resized since it had shape [794], which does not match the required output shape [2, 794]. This behavior is deprecated, and in a future PyTorch release outputs will not be resized unless they have zero elements. You can explicitly reuse an out tensor t by resizing it, inplace, to zero elements with t.resize_(0). (Triggered internally at ../aten/src/ATen/native/Resize.cpp:28.)\n",
            "  value = torch.cat(values, dim=cat_dim or 0, out=out)\n",
            "/users/eleves-b/2020/thomas.li/.local/lib/python3.9/site-packages/torch_geometric/data/collate.py:177: UserWarning: An output with one or more elements was resized since it had shape [1060], which does not match the required output shape [2, 1060]. This behavior is deprecated, and in a future PyTorch release outputs will not be resized unless they have zero elements. You can explicitly reuse an out tensor t by resizing it, inplace, to zero elements with t.resize_(0). (Triggered internally at ../aten/src/ATen/native/Resize.cpp:28.)\n",
            "  value = torch.cat(values, dim=cat_dim or 0, out=out)\n"
          ]
        },
        {
          "name": "stdout",
          "output_type": "stream",
          "text": [
            "train_loss after 3301312 examples: 0.00277\n"
          ]
        },
        {
          "name": "stderr",
          "output_type": "stream",
          "text": [
            "/users/eleves-b/2020/thomas.li/.local/lib/python3.9/site-packages/torch_geometric/data/collate.py:177: UserWarning: An output with one or more elements was resized since it had shape [276], which does not match the required output shape [2, 276]. This behavior is deprecated, and in a future PyTorch release outputs will not be resized unless they have zero elements. You can explicitly reuse an out tensor t by resizing it, inplace, to zero elements with t.resize_(0). (Triggered internally at ../aten/src/ATen/native/Resize.cpp:28.)\n",
            "  value = torch.cat(values, dim=cat_dim or 0, out=out)\n"
          ]
        },
        {
          "name": "stdout",
          "output_type": "stream",
          "text": [
            "train_loss after 3302912 examples: 0.00259\n"
          ]
        },
        {
          "name": "stderr",
          "output_type": "stream",
          "text": [
            "/users/eleves-b/2020/thomas.li/.local/lib/python3.9/site-packages/torch_geometric/data/collate.py:177: UserWarning: An output with one or more elements was resized since it had shape [1988], which does not match the required output shape [2, 1988]. This behavior is deprecated, and in a future PyTorch release outputs will not be resized unless they have zero elements. You can explicitly reuse an out tensor t by resizing it, inplace, to zero elements with t.resize_(0). (Triggered internally at ../aten/src/ATen/native/Resize.cpp:28.)\n",
            "  value = torch.cat(values, dim=cat_dim or 0, out=out)\n",
            "/users/eleves-b/2020/thomas.li/.local/lib/python3.9/site-packages/torch_geometric/data/collate.py:177: UserWarning: An output with one or more elements was resized since it had shape [8], which does not match the required output shape [2, 8]. This behavior is deprecated, and in a future PyTorch release outputs will not be resized unless they have zero elements. You can explicitly reuse an out tensor t by resizing it, inplace, to zero elements with t.resize_(0). (Triggered internally at ../aten/src/ATen/native/Resize.cpp:28.)\n",
            "  value = torch.cat(values, dim=cat_dim or 0, out=out)\n"
          ]
        },
        {
          "name": "stdout",
          "output_type": "stream",
          "text": [
            "train_loss after 3304512 examples: 0.00281\n"
          ]
        },
        {
          "name": "stderr",
          "output_type": "stream",
          "text": [
            "/users/eleves-b/2020/thomas.li/.local/lib/python3.9/site-packages/torch_geometric/data/collate.py:177: UserWarning: An output with one or more elements was resized since it had shape [14], which does not match the required output shape [2, 14]. This behavior is deprecated, and in a future PyTorch release outputs will not be resized unless they have zero elements. You can explicitly reuse an out tensor t by resizing it, inplace, to zero elements with t.resize_(0). (Triggered internally at ../aten/src/ATen/native/Resize.cpp:28.)\n",
            "  value = torch.cat(values, dim=cat_dim or 0, out=out)\n"
          ]
        },
        {
          "name": "stdout",
          "output_type": "stream",
          "text": [
            "train_loss after 3306112 examples: 0.00287\n"
          ]
        },
        {
          "name": "stderr",
          "output_type": "stream",
          "text": [
            "/users/eleves-b/2020/thomas.li/.local/lib/python3.9/site-packages/torch_geometric/data/collate.py:177: UserWarning: An output with one or more elements was resized since it had shape [1506], which does not match the required output shape [2, 1506]. This behavior is deprecated, and in a future PyTorch release outputs will not be resized unless they have zero elements. You can explicitly reuse an out tensor t by resizing it, inplace, to zero elements with t.resize_(0). (Triggered internally at ../aten/src/ATen/native/Resize.cpp:28.)\n",
            "  value = torch.cat(values, dim=cat_dim or 0, out=out)\n"
          ]
        },
        {
          "name": "stdout",
          "output_type": "stream",
          "text": [
            "train_loss after 3307712 examples: 0.00264\n"
          ]
        },
        {
          "name": "stderr",
          "output_type": "stream",
          "text": [
            "/users/eleves-b/2020/thomas.li/.local/lib/python3.9/site-packages/torch_geometric/data/collate.py:177: UserWarning: An output with one or more elements was resized since it had shape [14], which does not match the required output shape [2, 14]. This behavior is deprecated, and in a future PyTorch release outputs will not be resized unless they have zero elements. You can explicitly reuse an out tensor t by resizing it, inplace, to zero elements with t.resize_(0). (Triggered internally at ../aten/src/ATen/native/Resize.cpp:28.)\n",
            "  value = torch.cat(values, dim=cat_dim or 0, out=out)\n",
            "/users/eleves-b/2020/thomas.li/.local/lib/python3.9/site-packages/torch_geometric/data/collate.py:177: UserWarning: An output with one or more elements was resized since it had shape [1172], which does not match the required output shape [2, 1172]. This behavior is deprecated, and in a future PyTorch release outputs will not be resized unless they have zero elements. You can explicitly reuse an out tensor t by resizing it, inplace, to zero elements with t.resize_(0). (Triggered internally at ../aten/src/ATen/native/Resize.cpp:28.)\n",
            "  value = torch.cat(values, dim=cat_dim or 0, out=out)\n"
          ]
        },
        {
          "name": "stdout",
          "output_type": "stream",
          "text": [
            "train_loss after 3309312 examples: 0.00304\n"
          ]
        },
        {
          "name": "stderr",
          "output_type": "stream",
          "text": [
            "/users/eleves-b/2020/thomas.li/.local/lib/python3.9/site-packages/torch_geometric/data/collate.py:177: UserWarning: An output with one or more elements was resized since it had shape [8], which does not match the required output shape [2, 8]. This behavior is deprecated, and in a future PyTorch release outputs will not be resized unless they have zero elements. You can explicitly reuse an out tensor t by resizing it, inplace, to zero elements with t.resize_(0). (Triggered internally at ../aten/src/ATen/native/Resize.cpp:28.)\n",
            "  value = torch.cat(values, dim=cat_dim or 0, out=out)\n"
          ]
        },
        {
          "name": "stdout",
          "output_type": "stream",
          "text": [
            "train_loss after 3310912 examples: 0.00270\n"
          ]
        },
        {
          "name": "stderr",
          "output_type": "stream",
          "text": [
            "/users/eleves-b/2020/thomas.li/.local/lib/python3.9/site-packages/torch_geometric/data/collate.py:177: UserWarning: An output with one or more elements was resized since it had shape [14], which does not match the required output shape [2, 14]. This behavior is deprecated, and in a future PyTorch release outputs will not be resized unless they have zero elements. You can explicitly reuse an out tensor t by resizing it, inplace, to zero elements with t.resize_(0). (Triggered internally at ../aten/src/ATen/native/Resize.cpp:28.)\n",
            "  value = torch.cat(values, dim=cat_dim or 0, out=out)\n",
            "/users/eleves-b/2020/thomas.li/.local/lib/python3.9/site-packages/torch_geometric/data/collate.py:177: UserWarning: An output with one or more elements was resized since it had shape [68], which does not match the required output shape [2, 68]. This behavior is deprecated, and in a future PyTorch release outputs will not be resized unless they have zero elements. You can explicitly reuse an out tensor t by resizing it, inplace, to zero elements with t.resize_(0). (Triggered internally at ../aten/src/ATen/native/Resize.cpp:28.)\n",
            "  value = torch.cat(values, dim=cat_dim or 0, out=out)\n"
          ]
        },
        {
          "name": "stdout",
          "output_type": "stream",
          "text": [
            "train_loss after 3312512 examples: 0.00253\n"
          ]
        },
        {
          "name": "stderr",
          "output_type": "stream",
          "text": [
            "/users/eleves-b/2020/thomas.li/.local/lib/python3.9/site-packages/torch_geometric/data/collate.py:177: UserWarning: An output with one or more elements was resized since it had shape [30], which does not match the required output shape [2, 30]. This behavior is deprecated, and in a future PyTorch release outputs will not be resized unless they have zero elements. You can explicitly reuse an out tensor t by resizing it, inplace, to zero elements with t.resize_(0). (Triggered internally at ../aten/src/ATen/native/Resize.cpp:28.)\n",
            "  value = torch.cat(values, dim=cat_dim or 0, out=out)\n"
          ]
        },
        {
          "name": "stdout",
          "output_type": "stream",
          "text": [
            "train_loss after 3314112 examples: 0.00288\n"
          ]
        },
        {
          "name": "stderr",
          "output_type": "stream",
          "text": [
            "/users/eleves-b/2020/thomas.li/.local/lib/python3.9/site-packages/torch_geometric/data/collate.py:177: UserWarning: An output with one or more elements was resized since it had shape [14], which does not match the required output shape [2, 14]. This behavior is deprecated, and in a future PyTorch release outputs will not be resized unless they have zero elements. You can explicitly reuse an out tensor t by resizing it, inplace, to zero elements with t.resize_(0). (Triggered internally at ../aten/src/ATen/native/Resize.cpp:28.)\n",
            "  value = torch.cat(values, dim=cat_dim or 0, out=out)\n"
          ]
        },
        {
          "name": "stdout",
          "output_type": "stream",
          "text": [
            "train_loss after 3315712 examples: 0.00272\n"
          ]
        },
        {
          "name": "stderr",
          "output_type": "stream",
          "text": []
        },
        {
          "name": "stdout",
          "output_type": "stream",
          "text": [
            "train_loss after 3317312 examples: 0.00261\n"
          ]
        },
        {
          "name": "stderr",
          "output_type": "stream",
          "text": [
            "/users/eleves-b/2020/thomas.li/.local/lib/python3.9/site-packages/torch_geometric/data/collate.py:177: UserWarning: An output with one or more elements was resized since it had shape [18], which does not match the required output shape [2, 18]. This behavior is deprecated, and in a future PyTorch release outputs will not be resized unless they have zero elements. You can explicitly reuse an out tensor t by resizing it, inplace, to zero elements with t.resize_(0). (Triggered internally at ../aten/src/ATen/native/Resize.cpp:28.)\n",
            "  value = torch.cat(values, dim=cat_dim or 0, out=out)\n",
            "/users/eleves-b/2020/thomas.li/.local/lib/python3.9/site-packages/torch_geometric/data/collate.py:177: UserWarning: An output with one or more elements was resized since it had shape [8], which does not match the required output shape [2, 8]. This behavior is deprecated, and in a future PyTorch release outputs will not be resized unless they have zero elements. You can explicitly reuse an out tensor t by resizing it, inplace, to zero elements with t.resize_(0). (Triggered internally at ../aten/src/ATen/native/Resize.cpp:28.)\n",
            "  value = torch.cat(values, dim=cat_dim or 0, out=out)\n"
          ]
        },
        {
          "name": "stdout",
          "output_type": "stream",
          "text": [
            "train_loss after 3318912 examples: 0.00257\n"
          ]
        },
        {
          "name": "stderr",
          "output_type": "stream",
          "text": [
            "/users/eleves-b/2020/thomas.li/.local/lib/python3.9/site-packages/torch_geometric/data/collate.py:177: UserWarning: An output with one or more elements was resized since it had shape [8], which does not match the required output shape [2, 8]. This behavior is deprecated, and in a future PyTorch release outputs will not be resized unless they have zero elements. You can explicitly reuse an out tensor t by resizing it, inplace, to zero elements with t.resize_(0). (Triggered internally at ../aten/src/ATen/native/Resize.cpp:28.)\n",
            "  value = torch.cat(values, dim=cat_dim or 0, out=out)\n",
            "/users/eleves-b/2020/thomas.li/.local/lib/python3.9/site-packages/torch_geometric/data/collate.py:177: UserWarning: An output with one or more elements was resized since it had shape [26], which does not match the required output shape [2, 26]. This behavior is deprecated, and in a future PyTorch release outputs will not be resized unless they have zero elements. You can explicitly reuse an out tensor t by resizing it, inplace, to zero elements with t.resize_(0). (Triggered internally at ../aten/src/ATen/native/Resize.cpp:28.)\n",
            "  value = torch.cat(values, dim=cat_dim or 0, out=out)\n",
            "/users/eleves-b/2020/thomas.li/.local/lib/python3.9/site-packages/torch_geometric/data/collate.py:177: UserWarning: An output with one or more elements was resized since it had shape [2272], which does not match the required output shape [2, 2272]. This behavior is deprecated, and in a future PyTorch release outputs will not be resized unless they have zero elements. You can explicitly reuse an out tensor t by resizing it, inplace, to zero elements with t.resize_(0). (Triggered internally at ../aten/src/ATen/native/Resize.cpp:28.)\n",
            "  value = torch.cat(values, dim=cat_dim or 0, out=out)\n"
          ]
        },
        {
          "name": "stdout",
          "output_type": "stream",
          "text": [
            "train_loss after 3320512 examples: 0.00269\n"
          ]
        },
        {
          "name": "stderr",
          "output_type": "stream",
          "text": [
            "/users/eleves-b/2020/thomas.li/.local/lib/python3.9/site-packages/torch_geometric/data/collate.py:177: UserWarning: An output with one or more elements was resized since it had shape [8], which does not match the required output shape [2, 8]. This behavior is deprecated, and in a future PyTorch release outputs will not be resized unless they have zero elements. You can explicitly reuse an out tensor t by resizing it, inplace, to zero elements with t.resize_(0). (Triggered internally at ../aten/src/ATen/native/Resize.cpp:28.)\n",
            "  value = torch.cat(values, dim=cat_dim or 0, out=out)\n",
            "/users/eleves-b/2020/thomas.li/.local/lib/python3.9/site-packages/torch_geometric/data/collate.py:177: UserWarning: An output with one or more elements was resized since it had shape [1530], which does not match the required output shape [2, 1530]. This behavior is deprecated, and in a future PyTorch release outputs will not be resized unless they have zero elements. You can explicitly reuse an out tensor t by resizing it, inplace, to zero elements with t.resize_(0). (Triggered internally at ../aten/src/ATen/native/Resize.cpp:28.)\n",
            "  value = torch.cat(values, dim=cat_dim or 0, out=out)\n"
          ]
        },
        {
          "name": "stdout",
          "output_type": "stream",
          "text": [
            "train_loss after 3322112 examples: 0.00285\n"
          ]
        },
        {
          "name": "stderr",
          "output_type": "stream",
          "text": [
            "/users/eleves-b/2020/thomas.li/.local/lib/python3.9/site-packages/torch_geometric/data/collate.py:177: UserWarning: An output with one or more elements was resized since it had shape [94], which does not match the required output shape [2, 94]. This behavior is deprecated, and in a future PyTorch release outputs will not be resized unless they have zero elements. You can explicitly reuse an out tensor t by resizing it, inplace, to zero elements with t.resize_(0). (Triggered internally at ../aten/src/ATen/native/Resize.cpp:28.)\n",
            "  value = torch.cat(values, dim=cat_dim or 0, out=out)\n",
            "/users/eleves-b/2020/thomas.li/.local/lib/python3.9/site-packages/torch_geometric/data/collate.py:177: UserWarning: An output with one or more elements was resized since it had shape [166], which does not match the required output shape [2, 166]. This behavior is deprecated, and in a future PyTorch release outputs will not be resized unless they have zero elements. You can explicitly reuse an out tensor t by resizing it, inplace, to zero elements with t.resize_(0). (Triggered internally at ../aten/src/ATen/native/Resize.cpp:28.)\n",
            "  value = torch.cat(values, dim=cat_dim or 0, out=out)\n"
          ]
        },
        {
          "name": "stdout",
          "output_type": "stream",
          "text": [
            "train_loss after 3323712 examples: 0.00269\n"
          ]
        },
        {
          "name": "stderr",
          "output_type": "stream",
          "text": [
            "/users/eleves-b/2020/thomas.li/.local/lib/python3.9/site-packages/torch_geometric/data/collate.py:177: UserWarning: An output with one or more elements was resized since it had shape [8], which does not match the required output shape [2, 8]. This behavior is deprecated, and in a future PyTorch release outputs will not be resized unless they have zero elements. You can explicitly reuse an out tensor t by resizing it, inplace, to zero elements with t.resize_(0). (Triggered internally at ../aten/src/ATen/native/Resize.cpp:28.)\n",
            "  value = torch.cat(values, dim=cat_dim or 0, out=out)\n",
            "/users/eleves-b/2020/thomas.li/.local/lib/python3.9/site-packages/torch_geometric/data/collate.py:177: UserWarning: An output with one or more elements was resized since it had shape [38], which does not match the required output shape [2, 38]. This behavior is deprecated, and in a future PyTorch release outputs will not be resized unless they have zero elements. You can explicitly reuse an out tensor t by resizing it, inplace, to zero elements with t.resize_(0). (Triggered internally at ../aten/src/ATen/native/Resize.cpp:28.)\n",
            "  value = torch.cat(values, dim=cat_dim or 0, out=out)\n"
          ]
        },
        {
          "name": "stdout",
          "output_type": "stream",
          "text": [
            "train_loss after 3325312 examples: 0.00248\n"
          ]
        },
        {
          "name": "stderr",
          "output_type": "stream",
          "text": [
            "/users/eleves-b/2020/thomas.li/.local/lib/python3.9/site-packages/torch_geometric/data/collate.py:177: UserWarning: An output with one or more elements was resized since it had shape [904], which does not match the required output shape [2, 904]. This behavior is deprecated, and in a future PyTorch release outputs will not be resized unless they have zero elements. You can explicitly reuse an out tensor t by resizing it, inplace, to zero elements with t.resize_(0). (Triggered internally at ../aten/src/ATen/native/Resize.cpp:28.)\n",
            "  value = torch.cat(values, dim=cat_dim or 0, out=out)\n",
            "/users/eleves-b/2020/thomas.li/.local/lib/python3.9/site-packages/torch_geometric/data/collate.py:177: UserWarning: An output with one or more elements was resized since it had shape [1686], which does not match the required output shape [2, 1686]. This behavior is deprecated, and in a future PyTorch release outputs will not be resized unless they have zero elements. You can explicitly reuse an out tensor t by resizing it, inplace, to zero elements with t.resize_(0). (Triggered internally at ../aten/src/ATen/native/Resize.cpp:28.)\n",
            "  value = torch.cat(values, dim=cat_dim or 0, out=out)\n",
            "/users/eleves-b/2020/thomas.li/.local/lib/python3.9/site-packages/torch_geometric/data/collate.py:177: UserWarning: An output with one or more elements was resized since it had shape [932], which does not match the required output shape [2, 932]. This behavior is deprecated, and in a future PyTorch release outputs will not be resized unless they have zero elements. You can explicitly reuse an out tensor t by resizing it, inplace, to zero elements with t.resize_(0). (Triggered internally at ../aten/src/ATen/native/Resize.cpp:28.)\n",
            "  value = torch.cat(values, dim=cat_dim or 0, out=out)\n"
          ]
        },
        {
          "name": "stdout",
          "output_type": "stream",
          "text": [
            "train_loss after 3326912 examples: 0.00277\n"
          ]
        },
        {
          "name": "stderr",
          "output_type": "stream",
          "text": [
            "100%|██████████| 2487/2487 [09:35<00:00,  4.32it/s]\n",
            " 50%|█████     | 2/4 [19:18<19:22, 581.27s/it]/users/eleves-b/2020/thomas.li/.local/lib/python3.9/site-packages/torch_geometric/data/collate.py:177: UserWarning: An output with one or more elements was resized since it had shape [62], which does not match the required output shape [2, 62]. This behavior is deprecated, and in a future PyTorch release outputs will not be resized unless they have zero elements. You can explicitly reuse an out tensor t by resizing it, inplace, to zero elements with t.resize_(0). (Triggered internally at ../aten/src/ATen/native/Resize.cpp:28.)\n",
            "  value = torch.cat(values, dim=cat_dim or 0, out=out)\n",
            "/users/eleves-b/2020/thomas.li/.local/lib/python3.9/site-packages/torch_geometric/data/collate.py:177: UserWarning: An output with one or more elements was resized since it had shape [204], which does not match the required output shape [2, 204]. This behavior is deprecated, and in a future PyTorch release outputs will not be resized unless they have zero elements. You can explicitly reuse an out tensor t by resizing it, inplace, to zero elements with t.resize_(0). (Triggered internally at ../aten/src/ATen/native/Resize.cpp:28.)\n",
            "  value = torch.cat(values, dim=cat_dim or 0, out=out)\n",
            "/users/eleves-b/2020/thomas.li/.local/lib/python3.9/site-packages/torch_geometric/data/collate.py:177: UserWarning: An output with one or more elements was resized since it had shape [8], which does not match the required output shape [2, 8]. This behavior is deprecated, and in a future PyTorch release outputs will not be resized unless they have zero elements. You can explicitly reuse an out tensor t by resizing it, inplace, to zero elements with t.resize_(0). (Triggered internally at ../aten/src/ATen/native/Resize.cpp:28.)\n",
            "  value = torch.cat(values, dim=cat_dim or 0, out=out)\n"
          ]
        },
        {
          "name": "stdout",
          "output_type": "stream",
          "text": [
            "train_loss after 3329696 examples: 0.00254\n"
          ]
        },
        {
          "name": "stderr",
          "output_type": "stream",
          "text": [
            "/users/eleves-b/2020/thomas.li/.local/lib/python3.9/site-packages/torch_geometric/data/collate.py:177: UserWarning: An output with one or more elements was resized since it had shape [56], which does not match the required output shape [2, 56]. This behavior is deprecated, and in a future PyTorch release outputs will not be resized unless they have zero elements. You can explicitly reuse an out tensor t by resizing it, inplace, to zero elements with t.resize_(0). (Triggered internally at ../aten/src/ATen/native/Resize.cpp:28.)\n",
            "  value = torch.cat(values, dim=cat_dim or 0, out=out)\n"
          ]
        },
        {
          "name": "stdout",
          "output_type": "stream",
          "text": [
            "train_loss after 3331296 examples: 0.00261\n"
          ]
        },
        {
          "name": "stderr",
          "output_type": "stream",
          "text": [
            "/users/eleves-b/2020/thomas.li/.local/lib/python3.9/site-packages/torch_geometric/data/collate.py:177: UserWarning: An output with one or more elements was resized since it had shape [456], which does not match the required output shape [2, 456]. This behavior is deprecated, and in a future PyTorch release outputs will not be resized unless they have zero elements. You can explicitly reuse an out tensor t by resizing it, inplace, to zero elements with t.resize_(0). (Triggered internally at ../aten/src/ATen/native/Resize.cpp:28.)\n",
            "  value = torch.cat(values, dim=cat_dim or 0, out=out)\n"
          ]
        },
        {
          "name": "stdout",
          "output_type": "stream",
          "text": [
            "train_loss after 3332896 examples: 0.00227\n"
          ]
        },
        {
          "name": "stderr",
          "output_type": "stream",
          "text": [
            "/users/eleves-b/2020/thomas.li/.local/lib/python3.9/site-packages/torch_geometric/data/collate.py:177: UserWarning: An output with one or more elements was resized since it had shape [154], which does not match the required output shape [2, 154]. This behavior is deprecated, and in a future PyTorch release outputs will not be resized unless they have zero elements. You can explicitly reuse an out tensor t by resizing it, inplace, to zero elements with t.resize_(0). (Triggered internally at ../aten/src/ATen/native/Resize.cpp:28.)\n",
            "  value = torch.cat(values, dim=cat_dim or 0, out=out)\n"
          ]
        },
        {
          "name": "stdout",
          "output_type": "stream",
          "text": [
            "train_loss after 3334496 examples: 0.00251\n"
          ]
        },
        {
          "name": "stderr",
          "output_type": "stream",
          "text": [
            "/users/eleves-b/2020/thomas.li/.local/lib/python3.9/site-packages/torch_geometric/data/collate.py:177: UserWarning: An output with one or more elements was resized since it had shape [74], which does not match the required output shape [2, 74]. This behavior is deprecated, and in a future PyTorch release outputs will not be resized unless they have zero elements. You can explicitly reuse an out tensor t by resizing it, inplace, to zero elements with t.resize_(0). (Triggered internally at ../aten/src/ATen/native/Resize.cpp:28.)\n",
            "  value = torch.cat(values, dim=cat_dim or 0, out=out)\n"
          ]
        },
        {
          "name": "stdout",
          "output_type": "stream",
          "text": [
            "train_loss after 3336096 examples: 0.00242\n"
          ]
        },
        {
          "name": "stderr",
          "output_type": "stream",
          "text": [
            "/users/eleves-b/2020/thomas.li/.local/lib/python3.9/site-packages/torch_geometric/data/collate.py:177: UserWarning: An output with one or more elements was resized since it had shape [8], which does not match the required output shape [2, 8]. This behavior is deprecated, and in a future PyTorch release outputs will not be resized unless they have zero elements. You can explicitly reuse an out tensor t by resizing it, inplace, to zero elements with t.resize_(0). (Triggered internally at ../aten/src/ATen/native/Resize.cpp:28.)\n",
            "  value = torch.cat(values, dim=cat_dim or 0, out=out)\n",
            "/users/eleves-b/2020/thomas.li/.local/lib/python3.9/site-packages/torch_geometric/data/collate.py:177: UserWarning: An output with one or more elements was resized since it had shape [284], which does not match the required output shape [2, 284]. This behavior is deprecated, and in a future PyTorch release outputs will not be resized unless they have zero elements. You can explicitly reuse an out tensor t by resizing it, inplace, to zero elements with t.resize_(0). (Triggered internally at ../aten/src/ATen/native/Resize.cpp:28.)\n",
            "  value = torch.cat(values, dim=cat_dim or 0, out=out)\n"
          ]
        },
        {
          "name": "stdout",
          "output_type": "stream",
          "text": [
            "train_loss after 3337696 examples: 0.00252\n"
          ]
        },
        {
          "name": "stderr",
          "output_type": "stream",
          "text": [
            "/users/eleves-b/2020/thomas.li/.local/lib/python3.9/site-packages/torch_geometric/data/collate.py:177: UserWarning: An output with one or more elements was resized since it had shape [492], which does not match the required output shape [2, 492]. This behavior is deprecated, and in a future PyTorch release outputs will not be resized unless they have zero elements. You can explicitly reuse an out tensor t by resizing it, inplace, to zero elements with t.resize_(0). (Triggered internally at ../aten/src/ATen/native/Resize.cpp:28.)\n",
            "  value = torch.cat(values, dim=cat_dim or 0, out=out)\n"
          ]
        },
        {
          "name": "stdout",
          "output_type": "stream",
          "text": [
            "train_loss after 3339296 examples: 0.00249\n"
          ]
        },
        {
          "name": "stderr",
          "output_type": "stream",
          "text": [
            "/users/eleves-b/2020/thomas.li/.local/lib/python3.9/site-packages/torch_geometric/data/collate.py:177: UserWarning: An output with one or more elements was resized since it had shape [10], which does not match the required output shape [2, 10]. This behavior is deprecated, and in a future PyTorch release outputs will not be resized unless they have zero elements. You can explicitly reuse an out tensor t by resizing it, inplace, to zero elements with t.resize_(0). (Triggered internally at ../aten/src/ATen/native/Resize.cpp:28.)\n",
            "  value = torch.cat(values, dim=cat_dim or 0, out=out)\n",
            "/users/eleves-b/2020/thomas.li/.local/lib/python3.9/site-packages/torch_geometric/data/collate.py:177: UserWarning: An output with one or more elements was resized since it had shape [554], which does not match the required output shape [2, 554]. This behavior is deprecated, and in a future PyTorch release outputs will not be resized unless they have zero elements. You can explicitly reuse an out tensor t by resizing it, inplace, to zero elements with t.resize_(0). (Triggered internally at ../aten/src/ATen/native/Resize.cpp:28.)\n",
            "  value = torch.cat(values, dim=cat_dim or 0, out=out)\n",
            "/users/eleves-b/2020/thomas.li/.local/lib/python3.9/site-packages/torch_geometric/data/collate.py:177: UserWarning: An output with one or more elements was resized since it had shape [1724], which does not match the required output shape [2, 1724]. This behavior is deprecated, and in a future PyTorch release outputs will not be resized unless they have zero elements. You can explicitly reuse an out tensor t by resizing it, inplace, to zero elements with t.resize_(0). (Triggered internally at ../aten/src/ATen/native/Resize.cpp:28.)\n",
            "  value = torch.cat(values, dim=cat_dim or 0, out=out)\n"
          ]
        },
        {
          "name": "stdout",
          "output_type": "stream",
          "text": [
            "train_loss after 3340896 examples: 0.00270\n"
          ]
        },
        {
          "name": "stderr",
          "output_type": "stream",
          "text": [
            "/users/eleves-b/2020/thomas.li/.local/lib/python3.9/site-packages/torch_geometric/data/collate.py:177: UserWarning: An output with one or more elements was resized since it had shape [2626], which does not match the required output shape [2, 2626]. This behavior is deprecated, and in a future PyTorch release outputs will not be resized unless they have zero elements. You can explicitly reuse an out tensor t by resizing it, inplace, to zero elements with t.resize_(0). (Triggered internally at ../aten/src/ATen/native/Resize.cpp:28.)\n",
            "  value = torch.cat(values, dim=cat_dim or 0, out=out)\n",
            "/users/eleves-b/2020/thomas.li/.local/lib/python3.9/site-packages/torch_geometric/data/collate.py:177: UserWarning: An output with one or more elements was resized since it had shape [2204], which does not match the required output shape [2, 2204]. This behavior is deprecated, and in a future PyTorch release outputs will not be resized unless they have zero elements. You can explicitly reuse an out tensor t by resizing it, inplace, to zero elements with t.resize_(0). (Triggered internally at ../aten/src/ATen/native/Resize.cpp:28.)\n",
            "  value = torch.cat(values, dim=cat_dim or 0, out=out)\n"
          ]
        },
        {
          "name": "stdout",
          "output_type": "stream",
          "text": [
            "train_loss after 3342496 examples: 0.00279\n"
          ]
        },
        {
          "name": "stderr",
          "output_type": "stream",
          "text": [
            "/users/eleves-b/2020/thomas.li/.local/lib/python3.9/site-packages/torch_geometric/data/collate.py:177: UserWarning: An output with one or more elements was resized since it had shape [14], which does not match the required output shape [2, 14]. This behavior is deprecated, and in a future PyTorch release outputs will not be resized unless they have zero elements. You can explicitly reuse an out tensor t by resizing it, inplace, to zero elements with t.resize_(0). (Triggered internally at ../aten/src/ATen/native/Resize.cpp:28.)\n",
            "  value = torch.cat(values, dim=cat_dim or 0, out=out)\n",
            "/users/eleves-b/2020/thomas.li/.local/lib/python3.9/site-packages/torch_geometric/data/collate.py:177: UserWarning: An output with one or more elements was resized since it had shape [906], which does not match the required output shape [2, 906]. This behavior is deprecated, and in a future PyTorch release outputs will not be resized unless they have zero elements. You can explicitly reuse an out tensor t by resizing it, inplace, to zero elements with t.resize_(0). (Triggered internally at ../aten/src/ATen/native/Resize.cpp:28.)\n",
            "  value = torch.cat(values, dim=cat_dim or 0, out=out)\n"
          ]
        },
        {
          "name": "stdout",
          "output_type": "stream",
          "text": [
            "train_loss after 3344096 examples: 0.00237\n"
          ]
        },
        {
          "name": "stderr",
          "output_type": "stream",
          "text": [
            "/users/eleves-b/2020/thomas.li/.local/lib/python3.9/site-packages/torch_geometric/data/collate.py:177: UserWarning: An output with one or more elements was resized since it had shape [504], which does not match the required output shape [2, 504]. This behavior is deprecated, and in a future PyTorch release outputs will not be resized unless they have zero elements. You can explicitly reuse an out tensor t by resizing it, inplace, to zero elements with t.resize_(0). (Triggered internally at ../aten/src/ATen/native/Resize.cpp:28.)\n",
            "  value = torch.cat(values, dim=cat_dim or 0, out=out)\n",
            "/users/eleves-b/2020/thomas.li/.local/lib/python3.9/site-packages/torch_geometric/data/collate.py:177: UserWarning: An output with one or more elements was resized since it had shape [2090], which does not match the required output shape [2, 2090]. This behavior is deprecated, and in a future PyTorch release outputs will not be resized unless they have zero elements. You can explicitly reuse an out tensor t by resizing it, inplace, to zero elements with t.resize_(0). (Triggered internally at ../aten/src/ATen/native/Resize.cpp:28.)\n",
            "  value = torch.cat(values, dim=cat_dim or 0, out=out)\n"
          ]
        },
        {
          "name": "stdout",
          "output_type": "stream",
          "text": [
            "train_loss after 3345696 examples: 0.00251\n"
          ]
        },
        {
          "name": "stderr",
          "output_type": "stream",
          "text": [
            "/users/eleves-b/2020/thomas.li/.local/lib/python3.9/site-packages/torch_geometric/data/collate.py:177: UserWarning: An output with one or more elements was resized since it had shape [602], which does not match the required output shape [2, 602]. This behavior is deprecated, and in a future PyTorch release outputs will not be resized unless they have zero elements. You can explicitly reuse an out tensor t by resizing it, inplace, to zero elements with t.resize_(0). (Triggered internally at ../aten/src/ATen/native/Resize.cpp:28.)\n",
            "  value = torch.cat(values, dim=cat_dim or 0, out=out)\n"
          ]
        },
        {
          "name": "stdout",
          "output_type": "stream",
          "text": [
            "train_loss after 3347296 examples: 0.00226\n"
          ]
        },
        {
          "name": "stderr",
          "output_type": "stream",
          "text": []
        },
        {
          "name": "stdout",
          "output_type": "stream",
          "text": [
            "train_loss after 3348896 examples: 0.00237\n"
          ]
        },
        {
          "name": "stderr",
          "output_type": "stream",
          "text": [
            "/users/eleves-b/2020/thomas.li/.local/lib/python3.9/site-packages/torch_geometric/data/collate.py:177: UserWarning: An output with one or more elements was resized since it had shape [34], which does not match the required output shape [2, 34]. This behavior is deprecated, and in a future PyTorch release outputs will not be resized unless they have zero elements. You can explicitly reuse an out tensor t by resizing it, inplace, to zero elements with t.resize_(0). (Triggered internally at ../aten/src/ATen/native/Resize.cpp:28.)\n",
            "  value = torch.cat(values, dim=cat_dim or 0, out=out)\n",
            "/users/eleves-b/2020/thomas.li/.local/lib/python3.9/site-packages/torch_geometric/data/collate.py:177: UserWarning: An output with one or more elements was resized since it had shape [1068], which does not match the required output shape [2, 1068]. This behavior is deprecated, and in a future PyTorch release outputs will not be resized unless they have zero elements. You can explicitly reuse an out tensor t by resizing it, inplace, to zero elements with t.resize_(0). (Triggered internally at ../aten/src/ATen/native/Resize.cpp:28.)\n",
            "  value = torch.cat(values, dim=cat_dim or 0, out=out)\n"
          ]
        },
        {
          "name": "stdout",
          "output_type": "stream",
          "text": [
            "train_loss after 3350496 examples: 0.00232\n"
          ]
        },
        {
          "name": "stderr",
          "output_type": "stream",
          "text": [
            "/users/eleves-b/2020/thomas.li/.local/lib/python3.9/site-packages/torch_geometric/data/collate.py:177: UserWarning: An output with one or more elements was resized since it had shape [62], which does not match the required output shape [2, 62]. This behavior is deprecated, and in a future PyTorch release outputs will not be resized unless they have zero elements. You can explicitly reuse an out tensor t by resizing it, inplace, to zero elements with t.resize_(0). (Triggered internally at ../aten/src/ATen/native/Resize.cpp:28.)\n",
            "  value = torch.cat(values, dim=cat_dim or 0, out=out)\n"
          ]
        },
        {
          "name": "stdout",
          "output_type": "stream",
          "text": [
            "train_loss after 3352096 examples: 0.00232\n"
          ]
        },
        {
          "name": "stderr",
          "output_type": "stream",
          "text": [
            "/users/eleves-b/2020/thomas.li/.local/lib/python3.9/site-packages/torch_geometric/data/collate.py:177: UserWarning: An output with one or more elements was resized since it had shape [286], which does not match the required output shape [2, 286]. This behavior is deprecated, and in a future PyTorch release outputs will not be resized unless they have zero elements. You can explicitly reuse an out tensor t by resizing it, inplace, to zero elements with t.resize_(0). (Triggered internally at ../aten/src/ATen/native/Resize.cpp:28.)\n",
            "  value = torch.cat(values, dim=cat_dim or 0, out=out)\n"
          ]
        },
        {
          "name": "stdout",
          "output_type": "stream",
          "text": [
            "train_loss after 3353696 examples: 0.00238\n"
          ]
        },
        {
          "name": "stderr",
          "output_type": "stream",
          "text": [
            "/users/eleves-b/2020/thomas.li/.local/lib/python3.9/site-packages/torch_geometric/data/collate.py:177: UserWarning: An output with one or more elements was resized since it had shape [14], which does not match the required output shape [2, 14]. This behavior is deprecated, and in a future PyTorch release outputs will not be resized unless they have zero elements. You can explicitly reuse an out tensor t by resizing it, inplace, to zero elements with t.resize_(0). (Triggered internally at ../aten/src/ATen/native/Resize.cpp:28.)\n",
            "  value = torch.cat(values, dim=cat_dim or 0, out=out)\n",
            "/users/eleves-b/2020/thomas.li/.local/lib/python3.9/site-packages/torch_geometric/data/collate.py:177: UserWarning: An output with one or more elements was resized since it had shape [8], which does not match the required output shape [2, 8]. This behavior is deprecated, and in a future PyTorch release outputs will not be resized unless they have zero elements. You can explicitly reuse an out tensor t by resizing it, inplace, to zero elements with t.resize_(0). (Triggered internally at ../aten/src/ATen/native/Resize.cpp:28.)\n",
            "  value = torch.cat(values, dim=cat_dim or 0, out=out)\n"
          ]
        },
        {
          "name": "stdout",
          "output_type": "stream",
          "text": [
            "train_loss after 3355296 examples: 0.00264\n"
          ]
        },
        {
          "name": "stderr",
          "output_type": "stream",
          "text": [
            "/users/eleves-b/2020/thomas.li/.local/lib/python3.9/site-packages/torch_geometric/data/collate.py:177: UserWarning: An output with one or more elements was resized since it had shape [2410], which does not match the required output shape [2, 2410]. This behavior is deprecated, and in a future PyTorch release outputs will not be resized unless they have zero elements. You can explicitly reuse an out tensor t by resizing it, inplace, to zero elements with t.resize_(0). (Triggered internally at ../aten/src/ATen/native/Resize.cpp:28.)\n",
            "  value = torch.cat(values, dim=cat_dim or 0, out=out)\n",
            "/users/eleves-b/2020/thomas.li/.local/lib/python3.9/site-packages/torch_geometric/data/collate.py:177: UserWarning: An output with one or more elements was resized since it had shape [408], which does not match the required output shape [2, 408]. This behavior is deprecated, and in a future PyTorch release outputs will not be resized unless they have zero elements. You can explicitly reuse an out tensor t by resizing it, inplace, to zero elements with t.resize_(0). (Triggered internally at ../aten/src/ATen/native/Resize.cpp:28.)\n",
            "  value = torch.cat(values, dim=cat_dim or 0, out=out)\n"
          ]
        },
        {
          "name": "stdout",
          "output_type": "stream",
          "text": [
            "train_loss after 3356896 examples: 0.00247\n"
          ]
        },
        {
          "name": "stderr",
          "output_type": "stream",
          "text": []
        },
        {
          "name": "stdout",
          "output_type": "stream",
          "text": [
            "train_loss after 3358496 examples: 0.00240\n"
          ]
        },
        {
          "name": "stderr",
          "output_type": "stream",
          "text": []
        },
        {
          "name": "stdout",
          "output_type": "stream",
          "text": [
            "train_loss after 3360096 examples: 0.00206\n"
          ]
        },
        {
          "name": "stderr",
          "output_type": "stream",
          "text": [
            "/users/eleves-b/2020/thomas.li/.local/lib/python3.9/site-packages/torch_geometric/data/collate.py:177: UserWarning: An output with one or more elements was resized since it had shape [14], which does not match the required output shape [2, 14]. This behavior is deprecated, and in a future PyTorch release outputs will not be resized unless they have zero elements. You can explicitly reuse an out tensor t by resizing it, inplace, to zero elements with t.resize_(0). (Triggered internally at ../aten/src/ATen/native/Resize.cpp:28.)\n",
            "  value = torch.cat(values, dim=cat_dim or 0, out=out)\n",
            "/users/eleves-b/2020/thomas.li/.local/lib/python3.9/site-packages/torch_geometric/data/collate.py:177: UserWarning: An output with one or more elements was resized since it had shape [114], which does not match the required output shape [2, 114]. This behavior is deprecated, and in a future PyTorch release outputs will not be resized unless they have zero elements. You can explicitly reuse an out tensor t by resizing it, inplace, to zero elements with t.resize_(0). (Triggered internally at ../aten/src/ATen/native/Resize.cpp:28.)\n",
            "  value = torch.cat(values, dim=cat_dim or 0, out=out)\n"
          ]
        },
        {
          "name": "stdout",
          "output_type": "stream",
          "text": [
            "train_loss after 3361696 examples: 0.00260\n"
          ]
        },
        {
          "name": "stderr",
          "output_type": "stream",
          "text": [
            "/users/eleves-b/2020/thomas.li/.local/lib/python3.9/site-packages/torch_geometric/data/collate.py:177: UserWarning: An output with one or more elements was resized since it had shape [894], which does not match the required output shape [2, 894]. This behavior is deprecated, and in a future PyTorch release outputs will not be resized unless they have zero elements. You can explicitly reuse an out tensor t by resizing it, inplace, to zero elements with t.resize_(0). (Triggered internally at ../aten/src/ATen/native/Resize.cpp:28.)\n",
            "  value = torch.cat(values, dim=cat_dim or 0, out=out)\n"
          ]
        },
        {
          "name": "stdout",
          "output_type": "stream",
          "text": [
            "train_loss after 3363296 examples: 0.00271\n"
          ]
        },
        {
          "name": "stderr",
          "output_type": "stream",
          "text": []
        },
        {
          "name": "stdout",
          "output_type": "stream",
          "text": [
            "train_loss after 3364896 examples: 0.00274\n"
          ]
        },
        {
          "name": "stderr",
          "output_type": "stream",
          "text": [
            "/users/eleves-b/2020/thomas.li/.local/lib/python3.9/site-packages/torch_geometric/data/collate.py:177: UserWarning: An output with one or more elements was resized since it had shape [16], which does not match the required output shape [2, 16]. This behavior is deprecated, and in a future PyTorch release outputs will not be resized unless they have zero elements. You can explicitly reuse an out tensor t by resizing it, inplace, to zero elements with t.resize_(0). (Triggered internally at ../aten/src/ATen/native/Resize.cpp:28.)\n",
            "  value = torch.cat(values, dim=cat_dim or 0, out=out)\n"
          ]
        },
        {
          "name": "stdout",
          "output_type": "stream",
          "text": [
            "train_loss after 3366496 examples: 0.00257\n"
          ]
        },
        {
          "name": "stderr",
          "output_type": "stream",
          "text": []
        },
        {
          "name": "stdout",
          "output_type": "stream",
          "text": [
            "train_loss after 3368096 examples: 0.00233\n"
          ]
        },
        {
          "name": "stderr",
          "output_type": "stream",
          "text": [
            "/users/eleves-b/2020/thomas.li/.local/lib/python3.9/site-packages/torch_geometric/data/collate.py:177: UserWarning: An output with one or more elements was resized since it had shape [62], which does not match the required output shape [2, 62]. This behavior is deprecated, and in a future PyTorch release outputs will not be resized unless they have zero elements. You can explicitly reuse an out tensor t by resizing it, inplace, to zero elements with t.resize_(0). (Triggered internally at ../aten/src/ATen/native/Resize.cpp:28.)\n",
            "  value = torch.cat(values, dim=cat_dim or 0, out=out)\n"
          ]
        },
        {
          "name": "stdout",
          "output_type": "stream",
          "text": [
            "train_loss after 3369696 examples: 0.00239\n"
          ]
        },
        {
          "name": "stderr",
          "output_type": "stream",
          "text": [
            "/users/eleves-b/2020/thomas.li/.local/lib/python3.9/site-packages/torch_geometric/data/collate.py:177: UserWarning: An output with one or more elements was resized since it had shape [10], which does not match the required output shape [2, 10]. This behavior is deprecated, and in a future PyTorch release outputs will not be resized unless they have zero elements. You can explicitly reuse an out tensor t by resizing it, inplace, to zero elements with t.resize_(0). (Triggered internally at ../aten/src/ATen/native/Resize.cpp:28.)\n",
            "  value = torch.cat(values, dim=cat_dim or 0, out=out)\n"
          ]
        },
        {
          "name": "stdout",
          "output_type": "stream",
          "text": [
            "train_loss after 3371296 examples: 0.00260\n"
          ]
        },
        {
          "name": "stderr",
          "output_type": "stream",
          "text": [
            "/users/eleves-b/2020/thomas.li/.local/lib/python3.9/site-packages/torch_geometric/data/collate.py:177: UserWarning: An output with one or more elements was resized since it had shape [1826], which does not match the required output shape [2, 1826]. This behavior is deprecated, and in a future PyTorch release outputs will not be resized unless they have zero elements. You can explicitly reuse an out tensor t by resizing it, inplace, to zero elements with t.resize_(0). (Triggered internally at ../aten/src/ATen/native/Resize.cpp:28.)\n",
            "  value = torch.cat(values, dim=cat_dim or 0, out=out)\n",
            "/users/eleves-b/2020/thomas.li/.local/lib/python3.9/site-packages/torch_geometric/data/collate.py:177: UserWarning: An output with one or more elements was resized since it had shape [8], which does not match the required output shape [2, 8]. This behavior is deprecated, and in a future PyTorch release outputs will not be resized unless they have zero elements. You can explicitly reuse an out tensor t by resizing it, inplace, to zero elements with t.resize_(0). (Triggered internally at ../aten/src/ATen/native/Resize.cpp:28.)\n",
            "  value = torch.cat(values, dim=cat_dim or 0, out=out)\n"
          ]
        },
        {
          "name": "stdout",
          "output_type": "stream",
          "text": [
            "train_loss after 3372896 examples: 0.00253\n"
          ]
        },
        {
          "name": "stderr",
          "output_type": "stream",
          "text": []
        },
        {
          "name": "stdout",
          "output_type": "stream",
          "text": [
            "train_loss after 3374496 examples: 0.00228\n"
          ]
        },
        {
          "name": "stderr",
          "output_type": "stream",
          "text": [
            "/users/eleves-b/2020/thomas.li/.local/lib/python3.9/site-packages/torch_geometric/data/collate.py:177: UserWarning: An output with one or more elements was resized since it had shape [68], which does not match the required output shape [2, 68]. This behavior is deprecated, and in a future PyTorch release outputs will not be resized unless they have zero elements. You can explicitly reuse an out tensor t by resizing it, inplace, to zero elements with t.resize_(0). (Triggered internally at ../aten/src/ATen/native/Resize.cpp:28.)\n",
            "  value = torch.cat(values, dim=cat_dim or 0, out=out)\n",
            "/users/eleves-b/2020/thomas.li/.local/lib/python3.9/site-packages/torch_geometric/data/collate.py:177: UserWarning: An output with one or more elements was resized since it had shape [1396], which does not match the required output shape [2, 1396]. This behavior is deprecated, and in a future PyTorch release outputs will not be resized unless they have zero elements. You can explicitly reuse an out tensor t by resizing it, inplace, to zero elements with t.resize_(0). (Triggered internally at ../aten/src/ATen/native/Resize.cpp:28.)\n",
            "  value = torch.cat(values, dim=cat_dim or 0, out=out)\n"
          ]
        },
        {
          "name": "stdout",
          "output_type": "stream",
          "text": [
            "train_loss after 3376096 examples: 0.00237\n"
          ]
        },
        {
          "name": "stderr",
          "output_type": "stream",
          "text": [
            "/users/eleves-b/2020/thomas.li/.local/lib/python3.9/site-packages/torch_geometric/data/collate.py:177: UserWarning: An output with one or more elements was resized since it had shape [8], which does not match the required output shape [2, 8]. This behavior is deprecated, and in a future PyTorch release outputs will not be resized unless they have zero elements. You can explicitly reuse an out tensor t by resizing it, inplace, to zero elements with t.resize_(0). (Triggered internally at ../aten/src/ATen/native/Resize.cpp:28.)\n",
            "  value = torch.cat(values, dim=cat_dim or 0, out=out)\n"
          ]
        },
        {
          "name": "stdout",
          "output_type": "stream",
          "text": [
            "train_loss after 3377696 examples: 0.00261\n"
          ]
        },
        {
          "name": "stderr",
          "output_type": "stream",
          "text": []
        },
        {
          "name": "stdout",
          "output_type": "stream",
          "text": [
            "train_loss after 3379296 examples: 0.00241\n"
          ]
        },
        {
          "name": "stderr",
          "output_type": "stream",
          "text": [
            "/users/eleves-b/2020/thomas.li/.local/lib/python3.9/site-packages/torch_geometric/data/collate.py:177: UserWarning: An output with one or more elements was resized since it had shape [794], which does not match the required output shape [2, 794]. This behavior is deprecated, and in a future PyTorch release outputs will not be resized unless they have zero elements. You can explicitly reuse an out tensor t by resizing it, inplace, to zero elements with t.resize_(0). (Triggered internally at ../aten/src/ATen/native/Resize.cpp:28.)\n",
            "  value = torch.cat(values, dim=cat_dim or 0, out=out)\n",
            "/users/eleves-b/2020/thomas.li/.local/lib/python3.9/site-packages/torch_geometric/data/collate.py:177: UserWarning: An output with one or more elements was resized since it had shape [1060], which does not match the required output shape [2, 1060]. This behavior is deprecated, and in a future PyTorch release outputs will not be resized unless they have zero elements. You can explicitly reuse an out tensor t by resizing it, inplace, to zero elements with t.resize_(0). (Triggered internally at ../aten/src/ATen/native/Resize.cpp:28.)\n",
            "  value = torch.cat(values, dim=cat_dim or 0, out=out)\n"
          ]
        },
        {
          "name": "stdout",
          "output_type": "stream",
          "text": [
            "train_loss after 3380896 examples: 0.00238\n"
          ]
        },
        {
          "name": "stderr",
          "output_type": "stream",
          "text": [
            "/users/eleves-b/2020/thomas.li/.local/lib/python3.9/site-packages/torch_geometric/data/collate.py:177: UserWarning: An output with one or more elements was resized since it had shape [276], which does not match the required output shape [2, 276]. This behavior is deprecated, and in a future PyTorch release outputs will not be resized unless they have zero elements. You can explicitly reuse an out tensor t by resizing it, inplace, to zero elements with t.resize_(0). (Triggered internally at ../aten/src/ATen/native/Resize.cpp:28.)\n",
            "  value = torch.cat(values, dim=cat_dim or 0, out=out)\n"
          ]
        },
        {
          "name": "stdout",
          "output_type": "stream",
          "text": [
            "train_loss after 3382496 examples: 0.00227\n"
          ]
        },
        {
          "name": "stderr",
          "output_type": "stream",
          "text": [
            "/users/eleves-b/2020/thomas.li/.local/lib/python3.9/site-packages/torch_geometric/data/collate.py:177: UserWarning: An output with one or more elements was resized since it had shape [1988], which does not match the required output shape [2, 1988]. This behavior is deprecated, and in a future PyTorch release outputs will not be resized unless they have zero elements. You can explicitly reuse an out tensor t by resizing it, inplace, to zero elements with t.resize_(0). (Triggered internally at ../aten/src/ATen/native/Resize.cpp:28.)\n",
            "  value = torch.cat(values, dim=cat_dim or 0, out=out)\n",
            "/users/eleves-b/2020/thomas.li/.local/lib/python3.9/site-packages/torch_geometric/data/collate.py:177: UserWarning: An output with one or more elements was resized since it had shape [8], which does not match the required output shape [2, 8]. This behavior is deprecated, and in a future PyTorch release outputs will not be resized unless they have zero elements. You can explicitly reuse an out tensor t by resizing it, inplace, to zero elements with t.resize_(0). (Triggered internally at ../aten/src/ATen/native/Resize.cpp:28.)\n",
            "  value = torch.cat(values, dim=cat_dim or 0, out=out)\n"
          ]
        },
        {
          "name": "stdout",
          "output_type": "stream",
          "text": [
            "train_loss after 3384096 examples: 0.00247\n"
          ]
        },
        {
          "name": "stderr",
          "output_type": "stream",
          "text": [
            "/users/eleves-b/2020/thomas.li/.local/lib/python3.9/site-packages/torch_geometric/data/collate.py:177: UserWarning: An output with one or more elements was resized since it had shape [14], which does not match the required output shape [2, 14]. This behavior is deprecated, and in a future PyTorch release outputs will not be resized unless they have zero elements. You can explicitly reuse an out tensor t by resizing it, inplace, to zero elements with t.resize_(0). (Triggered internally at ../aten/src/ATen/native/Resize.cpp:28.)\n",
            "  value = torch.cat(values, dim=cat_dim or 0, out=out)\n"
          ]
        },
        {
          "name": "stdout",
          "output_type": "stream",
          "text": [
            "train_loss after 3385696 examples: 0.00261\n"
          ]
        },
        {
          "name": "stderr",
          "output_type": "stream",
          "text": [
            "/users/eleves-b/2020/thomas.li/.local/lib/python3.9/site-packages/torch_geometric/data/collate.py:177: UserWarning: An output with one or more elements was resized since it had shape [1506], which does not match the required output shape [2, 1506]. This behavior is deprecated, and in a future PyTorch release outputs will not be resized unless they have zero elements. You can explicitly reuse an out tensor t by resizing it, inplace, to zero elements with t.resize_(0). (Triggered internally at ../aten/src/ATen/native/Resize.cpp:28.)\n",
            "  value = torch.cat(values, dim=cat_dim or 0, out=out)\n"
          ]
        },
        {
          "name": "stdout",
          "output_type": "stream",
          "text": [
            "train_loss after 3387296 examples: 0.00232\n"
          ]
        },
        {
          "name": "stderr",
          "output_type": "stream",
          "text": [
            "/users/eleves-b/2020/thomas.li/.local/lib/python3.9/site-packages/torch_geometric/data/collate.py:177: UserWarning: An output with one or more elements was resized since it had shape [14], which does not match the required output shape [2, 14]. This behavior is deprecated, and in a future PyTorch release outputs will not be resized unless they have zero elements. You can explicitly reuse an out tensor t by resizing it, inplace, to zero elements with t.resize_(0). (Triggered internally at ../aten/src/ATen/native/Resize.cpp:28.)\n",
            "  value = torch.cat(values, dim=cat_dim or 0, out=out)\n",
            "/users/eleves-b/2020/thomas.li/.local/lib/python3.9/site-packages/torch_geometric/data/collate.py:177: UserWarning: An output with one or more elements was resized since it had shape [1172], which does not match the required output shape [2, 1172]. This behavior is deprecated, and in a future PyTorch release outputs will not be resized unless they have zero elements. You can explicitly reuse an out tensor t by resizing it, inplace, to zero elements with t.resize_(0). (Triggered internally at ../aten/src/ATen/native/Resize.cpp:28.)\n",
            "  value = torch.cat(values, dim=cat_dim or 0, out=out)\n"
          ]
        },
        {
          "name": "stdout",
          "output_type": "stream",
          "text": [
            "train_loss after 3388896 examples: 0.00266\n"
          ]
        },
        {
          "name": "stderr",
          "output_type": "stream",
          "text": [
            "/users/eleves-b/2020/thomas.li/.local/lib/python3.9/site-packages/torch_geometric/data/collate.py:177: UserWarning: An output with one or more elements was resized since it had shape [8], which does not match the required output shape [2, 8]. This behavior is deprecated, and in a future PyTorch release outputs will not be resized unless they have zero elements. You can explicitly reuse an out tensor t by resizing it, inplace, to zero elements with t.resize_(0). (Triggered internally at ../aten/src/ATen/native/Resize.cpp:28.)\n",
            "  value = torch.cat(values, dim=cat_dim or 0, out=out)\n"
          ]
        },
        {
          "name": "stdout",
          "output_type": "stream",
          "text": [
            "train_loss after 3390496 examples: 0.00238\n"
          ]
        },
        {
          "name": "stderr",
          "output_type": "stream",
          "text": [
            "/users/eleves-b/2020/thomas.li/.local/lib/python3.9/site-packages/torch_geometric/data/collate.py:177: UserWarning: An output with one or more elements was resized since it had shape [14], which does not match the required output shape [2, 14]. This behavior is deprecated, and in a future PyTorch release outputs will not be resized unless they have zero elements. You can explicitly reuse an out tensor t by resizing it, inplace, to zero elements with t.resize_(0). (Triggered internally at ../aten/src/ATen/native/Resize.cpp:28.)\n",
            "  value = torch.cat(values, dim=cat_dim or 0, out=out)\n",
            "/users/eleves-b/2020/thomas.li/.local/lib/python3.9/site-packages/torch_geometric/data/collate.py:177: UserWarning: An output with one or more elements was resized since it had shape [68], which does not match the required output shape [2, 68]. This behavior is deprecated, and in a future PyTorch release outputs will not be resized unless they have zero elements. You can explicitly reuse an out tensor t by resizing it, inplace, to zero elements with t.resize_(0). (Triggered internally at ../aten/src/ATen/native/Resize.cpp:28.)\n",
            "  value = torch.cat(values, dim=cat_dim or 0, out=out)\n"
          ]
        },
        {
          "name": "stdout",
          "output_type": "stream",
          "text": [
            "train_loss after 3392096 examples: 0.00214\n"
          ]
        },
        {
          "name": "stderr",
          "output_type": "stream",
          "text": [
            "/users/eleves-b/2020/thomas.li/.local/lib/python3.9/site-packages/torch_geometric/data/collate.py:177: UserWarning: An output with one or more elements was resized since it had shape [30], which does not match the required output shape [2, 30]. This behavior is deprecated, and in a future PyTorch release outputs will not be resized unless they have zero elements. You can explicitly reuse an out tensor t by resizing it, inplace, to zero elements with t.resize_(0). (Triggered internally at ../aten/src/ATen/native/Resize.cpp:28.)\n",
            "  value = torch.cat(values, dim=cat_dim or 0, out=out)\n"
          ]
        },
        {
          "name": "stdout",
          "output_type": "stream",
          "text": [
            "train_loss after 3393696 examples: 0.00262\n"
          ]
        },
        {
          "name": "stderr",
          "output_type": "stream",
          "text": [
            "/users/eleves-b/2020/thomas.li/.local/lib/python3.9/site-packages/torch_geometric/data/collate.py:177: UserWarning: An output with one or more elements was resized since it had shape [14], which does not match the required output shape [2, 14]. This behavior is deprecated, and in a future PyTorch release outputs will not be resized unless they have zero elements. You can explicitly reuse an out tensor t by resizing it, inplace, to zero elements with t.resize_(0). (Triggered internally at ../aten/src/ATen/native/Resize.cpp:28.)\n",
            "  value = torch.cat(values, dim=cat_dim or 0, out=out)\n"
          ]
        },
        {
          "name": "stdout",
          "output_type": "stream",
          "text": [
            "train_loss after 3395296 examples: 0.00241\n"
          ]
        },
        {
          "name": "stderr",
          "output_type": "stream",
          "text": []
        },
        {
          "name": "stdout",
          "output_type": "stream",
          "text": [
            "train_loss after 3396896 examples: 0.00232\n"
          ]
        },
        {
          "name": "stderr",
          "output_type": "stream",
          "text": [
            "/users/eleves-b/2020/thomas.li/.local/lib/python3.9/site-packages/torch_geometric/data/collate.py:177: UserWarning: An output with one or more elements was resized since it had shape [18], which does not match the required output shape [2, 18]. This behavior is deprecated, and in a future PyTorch release outputs will not be resized unless they have zero elements. You can explicitly reuse an out tensor t by resizing it, inplace, to zero elements with t.resize_(0). (Triggered internally at ../aten/src/ATen/native/Resize.cpp:28.)\n",
            "  value = torch.cat(values, dim=cat_dim or 0, out=out)\n",
            "/users/eleves-b/2020/thomas.li/.local/lib/python3.9/site-packages/torch_geometric/data/collate.py:177: UserWarning: An output with one or more elements was resized since it had shape [8], which does not match the required output shape [2, 8]. This behavior is deprecated, and in a future PyTorch release outputs will not be resized unless they have zero elements. You can explicitly reuse an out tensor t by resizing it, inplace, to zero elements with t.resize_(0). (Triggered internally at ../aten/src/ATen/native/Resize.cpp:28.)\n",
            "  value = torch.cat(values, dim=cat_dim or 0, out=out)\n"
          ]
        },
        {
          "name": "stdout",
          "output_type": "stream",
          "text": [
            "train_loss after 3398496 examples: 0.00227\n"
          ]
        },
        {
          "name": "stderr",
          "output_type": "stream",
          "text": [
            "/users/eleves-b/2020/thomas.li/.local/lib/python3.9/site-packages/torch_geometric/data/collate.py:177: UserWarning: An output with one or more elements was resized since it had shape [8], which does not match the required output shape [2, 8]. This behavior is deprecated, and in a future PyTorch release outputs will not be resized unless they have zero elements. You can explicitly reuse an out tensor t by resizing it, inplace, to zero elements with t.resize_(0). (Triggered internally at ../aten/src/ATen/native/Resize.cpp:28.)\n",
            "  value = torch.cat(values, dim=cat_dim or 0, out=out)\n",
            "/users/eleves-b/2020/thomas.li/.local/lib/python3.9/site-packages/torch_geometric/data/collate.py:177: UserWarning: An output with one or more elements was resized since it had shape [26], which does not match the required output shape [2, 26]. This behavior is deprecated, and in a future PyTorch release outputs will not be resized unless they have zero elements. You can explicitly reuse an out tensor t by resizing it, inplace, to zero elements with t.resize_(0). (Triggered internally at ../aten/src/ATen/native/Resize.cpp:28.)\n",
            "  value = torch.cat(values, dim=cat_dim or 0, out=out)\n",
            "/users/eleves-b/2020/thomas.li/.local/lib/python3.9/site-packages/torch_geometric/data/collate.py:177: UserWarning: An output with one or more elements was resized since it had shape [2272], which does not match the required output shape [2, 2272]. This behavior is deprecated, and in a future PyTorch release outputs will not be resized unless they have zero elements. You can explicitly reuse an out tensor t by resizing it, inplace, to zero elements with t.resize_(0). (Triggered internally at ../aten/src/ATen/native/Resize.cpp:28.)\n",
            "  value = torch.cat(values, dim=cat_dim or 0, out=out)\n"
          ]
        },
        {
          "name": "stdout",
          "output_type": "stream",
          "text": [
            "train_loss after 3400096 examples: 0.00244\n"
          ]
        },
        {
          "name": "stderr",
          "output_type": "stream",
          "text": [
            "/users/eleves-b/2020/thomas.li/.local/lib/python3.9/site-packages/torch_geometric/data/collate.py:177: UserWarning: An output with one or more elements was resized since it had shape [8], which does not match the required output shape [2, 8]. This behavior is deprecated, and in a future PyTorch release outputs will not be resized unless they have zero elements. You can explicitly reuse an out tensor t by resizing it, inplace, to zero elements with t.resize_(0). (Triggered internally at ../aten/src/ATen/native/Resize.cpp:28.)\n",
            "  value = torch.cat(values, dim=cat_dim or 0, out=out)\n",
            "/users/eleves-b/2020/thomas.li/.local/lib/python3.9/site-packages/torch_geometric/data/collate.py:177: UserWarning: An output with one or more elements was resized since it had shape [1530], which does not match the required output shape [2, 1530]. This behavior is deprecated, and in a future PyTorch release outputs will not be resized unless they have zero elements. You can explicitly reuse an out tensor t by resizing it, inplace, to zero elements with t.resize_(0). (Triggered internally at ../aten/src/ATen/native/Resize.cpp:28.)\n",
            "  value = torch.cat(values, dim=cat_dim or 0, out=out)\n"
          ]
        },
        {
          "name": "stdout",
          "output_type": "stream",
          "text": [
            "train_loss after 3401696 examples: 0.00259\n"
          ]
        },
        {
          "name": "stderr",
          "output_type": "stream",
          "text": [
            "/users/eleves-b/2020/thomas.li/.local/lib/python3.9/site-packages/torch_geometric/data/collate.py:177: UserWarning: An output with one or more elements was resized since it had shape [94], which does not match the required output shape [2, 94]. This behavior is deprecated, and in a future PyTorch release outputs will not be resized unless they have zero elements. You can explicitly reuse an out tensor t by resizing it, inplace, to zero elements with t.resize_(0). (Triggered internally at ../aten/src/ATen/native/Resize.cpp:28.)\n",
            "  value = torch.cat(values, dim=cat_dim or 0, out=out)\n",
            "/users/eleves-b/2020/thomas.li/.local/lib/python3.9/site-packages/torch_geometric/data/collate.py:177: UserWarning: An output with one or more elements was resized since it had shape [166], which does not match the required output shape [2, 166]. This behavior is deprecated, and in a future PyTorch release outputs will not be resized unless they have zero elements. You can explicitly reuse an out tensor t by resizing it, inplace, to zero elements with t.resize_(0). (Triggered internally at ../aten/src/ATen/native/Resize.cpp:28.)\n",
            "  value = torch.cat(values, dim=cat_dim or 0, out=out)\n"
          ]
        },
        {
          "name": "stdout",
          "output_type": "stream",
          "text": [
            "train_loss after 3403296 examples: 0.00244\n"
          ]
        },
        {
          "name": "stderr",
          "output_type": "stream",
          "text": [
            "/users/eleves-b/2020/thomas.li/.local/lib/python3.9/site-packages/torch_geometric/data/collate.py:177: UserWarning: An output with one or more elements was resized since it had shape [8], which does not match the required output shape [2, 8]. This behavior is deprecated, and in a future PyTorch release outputs will not be resized unless they have zero elements. You can explicitly reuse an out tensor t by resizing it, inplace, to zero elements with t.resize_(0). (Triggered internally at ../aten/src/ATen/native/Resize.cpp:28.)\n",
            "  value = torch.cat(values, dim=cat_dim or 0, out=out)\n",
            "/users/eleves-b/2020/thomas.li/.local/lib/python3.9/site-packages/torch_geometric/data/collate.py:177: UserWarning: An output with one or more elements was resized since it had shape [38], which does not match the required output shape [2, 38]. This behavior is deprecated, and in a future PyTorch release outputs will not be resized unless they have zero elements. You can explicitly reuse an out tensor t by resizing it, inplace, to zero elements with t.resize_(0). (Triggered internally at ../aten/src/ATen/native/Resize.cpp:28.)\n",
            "  value = torch.cat(values, dim=cat_dim or 0, out=out)\n"
          ]
        },
        {
          "name": "stdout",
          "output_type": "stream",
          "text": [
            "train_loss after 3404896 examples: 0.00221\n"
          ]
        },
        {
          "name": "stderr",
          "output_type": "stream",
          "text": [
            "/users/eleves-b/2020/thomas.li/.local/lib/python3.9/site-packages/torch_geometric/data/collate.py:177: UserWarning: An output with one or more elements was resized since it had shape [904], which does not match the required output shape [2, 904]. This behavior is deprecated, and in a future PyTorch release outputs will not be resized unless they have zero elements. You can explicitly reuse an out tensor t by resizing it, inplace, to zero elements with t.resize_(0). (Triggered internally at ../aten/src/ATen/native/Resize.cpp:28.)\n",
            "  value = torch.cat(values, dim=cat_dim or 0, out=out)\n",
            "/users/eleves-b/2020/thomas.li/.local/lib/python3.9/site-packages/torch_geometric/data/collate.py:177: UserWarning: An output with one or more elements was resized since it had shape [1686], which does not match the required output shape [2, 1686]. This behavior is deprecated, and in a future PyTorch release outputs will not be resized unless they have zero elements. You can explicitly reuse an out tensor t by resizing it, inplace, to zero elements with t.resize_(0). (Triggered internally at ../aten/src/ATen/native/Resize.cpp:28.)\n",
            "  value = torch.cat(values, dim=cat_dim or 0, out=out)\n",
            "/users/eleves-b/2020/thomas.li/.local/lib/python3.9/site-packages/torch_geometric/data/collate.py:177: UserWarning: An output with one or more elements was resized since it had shape [932], which does not match the required output shape [2, 932]. This behavior is deprecated, and in a future PyTorch release outputs will not be resized unless they have zero elements. You can explicitly reuse an out tensor t by resizing it, inplace, to zero elements with t.resize_(0). (Triggered internally at ../aten/src/ATen/native/Resize.cpp:28.)\n",
            "  value = torch.cat(values, dim=cat_dim or 0, out=out)\n"
          ]
        },
        {
          "name": "stdout",
          "output_type": "stream",
          "text": [
            "train_loss after 3406496 examples: 0.00250\n"
          ]
        },
        {
          "name": "stderr",
          "output_type": "stream",
          "text": [
            "100%|██████████| 2487/2487 [09:53<00:00,  4.19it/s]\n",
            " 75%|███████▌  | 3/4 [29:26<09:53, 593.41s/it]/users/eleves-b/2020/thomas.li/.local/lib/python3.9/site-packages/torch_geometric/data/collate.py:177: UserWarning: An output with one or more elements was resized since it had shape [62], which does not match the required output shape [2, 62]. This behavior is deprecated, and in a future PyTorch release outputs will not be resized unless they have zero elements. You can explicitly reuse an out tensor t by resizing it, inplace, to zero elements with t.resize_(0). (Triggered internally at ../aten/src/ATen/native/Resize.cpp:28.)\n",
            "  value = torch.cat(values, dim=cat_dim or 0, out=out)\n",
            "/users/eleves-b/2020/thomas.li/.local/lib/python3.9/site-packages/torch_geometric/data/collate.py:177: UserWarning: An output with one or more elements was resized since it had shape [204], which does not match the required output shape [2, 204]. This behavior is deprecated, and in a future PyTorch release outputs will not be resized unless they have zero elements. You can explicitly reuse an out tensor t by resizing it, inplace, to zero elements with t.resize_(0). (Triggered internally at ../aten/src/ATen/native/Resize.cpp:28.)\n",
            "  value = torch.cat(values, dim=cat_dim or 0, out=out)\n",
            "/users/eleves-b/2020/thomas.li/.local/lib/python3.9/site-packages/torch_geometric/data/collate.py:177: UserWarning: An output with one or more elements was resized since it had shape [8], which does not match the required output shape [2, 8]. This behavior is deprecated, and in a future PyTorch release outputs will not be resized unless they have zero elements. You can explicitly reuse an out tensor t by resizing it, inplace, to zero elements with t.resize_(0). (Triggered internally at ../aten/src/ATen/native/Resize.cpp:28.)\n",
            "  value = torch.cat(values, dim=cat_dim or 0, out=out)\n"
          ]
        },
        {
          "name": "stdout",
          "output_type": "stream",
          "text": [
            "train_loss after 3409280 examples: 0.00228\n"
          ]
        },
        {
          "name": "stderr",
          "output_type": "stream",
          "text": [
            "/users/eleves-b/2020/thomas.li/.local/lib/python3.9/site-packages/torch_geometric/data/collate.py:177: UserWarning: An output with one or more elements was resized since it had shape [56], which does not match the required output shape [2, 56]. This behavior is deprecated, and in a future PyTorch release outputs will not be resized unless they have zero elements. You can explicitly reuse an out tensor t by resizing it, inplace, to zero elements with t.resize_(0). (Triggered internally at ../aten/src/ATen/native/Resize.cpp:28.)\n",
            "  value = torch.cat(values, dim=cat_dim or 0, out=out)\n"
          ]
        },
        {
          "name": "stdout",
          "output_type": "stream",
          "text": [
            "train_loss after 3410880 examples: 0.00229\n"
          ]
        },
        {
          "name": "stderr",
          "output_type": "stream",
          "text": [
            "/users/eleves-b/2020/thomas.li/.local/lib/python3.9/site-packages/torch_geometric/data/collate.py:177: UserWarning: An output with one or more elements was resized since it had shape [456], which does not match the required output shape [2, 456]. This behavior is deprecated, and in a future PyTorch release outputs will not be resized unless they have zero elements. You can explicitly reuse an out tensor t by resizing it, inplace, to zero elements with t.resize_(0). (Triggered internally at ../aten/src/ATen/native/Resize.cpp:28.)\n",
            "  value = torch.cat(values, dim=cat_dim or 0, out=out)\n"
          ]
        },
        {
          "name": "stdout",
          "output_type": "stream",
          "text": [
            "train_loss after 3412480 examples: 0.00205\n"
          ]
        },
        {
          "name": "stderr",
          "output_type": "stream",
          "text": [
            "/users/eleves-b/2020/thomas.li/.local/lib/python3.9/site-packages/torch_geometric/data/collate.py:177: UserWarning: An output with one or more elements was resized since it had shape [154], which does not match the required output shape [2, 154]. This behavior is deprecated, and in a future PyTorch release outputs will not be resized unless they have zero elements. You can explicitly reuse an out tensor t by resizing it, inplace, to zero elements with t.resize_(0). (Triggered internally at ../aten/src/ATen/native/Resize.cpp:28.)\n",
            "  value = torch.cat(values, dim=cat_dim or 0, out=out)\n"
          ]
        },
        {
          "name": "stdout",
          "output_type": "stream",
          "text": [
            "train_loss after 3414080 examples: 0.00226\n"
          ]
        },
        {
          "name": "stderr",
          "output_type": "stream",
          "text": [
            "/users/eleves-b/2020/thomas.li/.local/lib/python3.9/site-packages/torch_geometric/data/collate.py:177: UserWarning: An output with one or more elements was resized since it had shape [74], which does not match the required output shape [2, 74]. This behavior is deprecated, and in a future PyTorch release outputs will not be resized unless they have zero elements. You can explicitly reuse an out tensor t by resizing it, inplace, to zero elements with t.resize_(0). (Triggered internally at ../aten/src/ATen/native/Resize.cpp:28.)\n",
            "  value = torch.cat(values, dim=cat_dim or 0, out=out)\n"
          ]
        },
        {
          "name": "stdout",
          "output_type": "stream",
          "text": [
            "train_loss after 3415680 examples: 0.00216\n"
          ]
        },
        {
          "name": "stderr",
          "output_type": "stream",
          "text": [
            "/users/eleves-b/2020/thomas.li/.local/lib/python3.9/site-packages/torch_geometric/data/collate.py:177: UserWarning: An output with one or more elements was resized since it had shape [8], which does not match the required output shape [2, 8]. This behavior is deprecated, and in a future PyTorch release outputs will not be resized unless they have zero elements. You can explicitly reuse an out tensor t by resizing it, inplace, to zero elements with t.resize_(0). (Triggered internally at ../aten/src/ATen/native/Resize.cpp:28.)\n",
            "  value = torch.cat(values, dim=cat_dim or 0, out=out)\n",
            "/users/eleves-b/2020/thomas.li/.local/lib/python3.9/site-packages/torch_geometric/data/collate.py:177: UserWarning: An output with one or more elements was resized since it had shape [284], which does not match the required output shape [2, 284]. This behavior is deprecated, and in a future PyTorch release outputs will not be resized unless they have zero elements. You can explicitly reuse an out tensor t by resizing it, inplace, to zero elements with t.resize_(0). (Triggered internally at ../aten/src/ATen/native/Resize.cpp:28.)\n",
            "  value = torch.cat(values, dim=cat_dim or 0, out=out)\n"
          ]
        },
        {
          "name": "stdout",
          "output_type": "stream",
          "text": [
            "train_loss after 3417280 examples: 0.00222\n"
          ]
        },
        {
          "name": "stderr",
          "output_type": "stream",
          "text": [
            "/users/eleves-b/2020/thomas.li/.local/lib/python3.9/site-packages/torch_geometric/data/collate.py:177: UserWarning: An output with one or more elements was resized since it had shape [492], which does not match the required output shape [2, 492]. This behavior is deprecated, and in a future PyTorch release outputs will not be resized unless they have zero elements. You can explicitly reuse an out tensor t by resizing it, inplace, to zero elements with t.resize_(0). (Triggered internally at ../aten/src/ATen/native/Resize.cpp:28.)\n",
            "  value = torch.cat(values, dim=cat_dim or 0, out=out)\n"
          ]
        },
        {
          "name": "stdout",
          "output_type": "stream",
          "text": [
            "train_loss after 3418880 examples: 0.00223\n"
          ]
        },
        {
          "name": "stderr",
          "output_type": "stream",
          "text": [
            "/users/eleves-b/2020/thomas.li/.local/lib/python3.9/site-packages/torch_geometric/data/collate.py:177: UserWarning: An output with one or more elements was resized since it had shape [10], which does not match the required output shape [2, 10]. This behavior is deprecated, and in a future PyTorch release outputs will not be resized unless they have zero elements. You can explicitly reuse an out tensor t by resizing it, inplace, to zero elements with t.resize_(0). (Triggered internally at ../aten/src/ATen/native/Resize.cpp:28.)\n",
            "  value = torch.cat(values, dim=cat_dim or 0, out=out)\n",
            "/users/eleves-b/2020/thomas.li/.local/lib/python3.9/site-packages/torch_geometric/data/collate.py:177: UserWarning: An output with one or more elements was resized since it had shape [554], which does not match the required output shape [2, 554]. This behavior is deprecated, and in a future PyTorch release outputs will not be resized unless they have zero elements. You can explicitly reuse an out tensor t by resizing it, inplace, to zero elements with t.resize_(0). (Triggered internally at ../aten/src/ATen/native/Resize.cpp:28.)\n",
            "  value = torch.cat(values, dim=cat_dim or 0, out=out)\n",
            "/users/eleves-b/2020/thomas.li/.local/lib/python3.9/site-packages/torch_geometric/data/collate.py:177: UserWarning: An output with one or more elements was resized since it had shape [1724], which does not match the required output shape [2, 1724]. This behavior is deprecated, and in a future PyTorch release outputs will not be resized unless they have zero elements. You can explicitly reuse an out tensor t by resizing it, inplace, to zero elements with t.resize_(0). (Triggered internally at ../aten/src/ATen/native/Resize.cpp:28.)\n",
            "  value = torch.cat(values, dim=cat_dim or 0, out=out)\n"
          ]
        },
        {
          "name": "stdout",
          "output_type": "stream",
          "text": [
            "train_loss after 3420480 examples: 0.00246\n"
          ]
        },
        {
          "name": "stderr",
          "output_type": "stream",
          "text": [
            "/users/eleves-b/2020/thomas.li/.local/lib/python3.9/site-packages/torch_geometric/data/collate.py:177: UserWarning: An output with one or more elements was resized since it had shape [2626], which does not match the required output shape [2, 2626]. This behavior is deprecated, and in a future PyTorch release outputs will not be resized unless they have zero elements. You can explicitly reuse an out tensor t by resizing it, inplace, to zero elements with t.resize_(0). (Triggered internally at ../aten/src/ATen/native/Resize.cpp:28.)\n",
            "  value = torch.cat(values, dim=cat_dim or 0, out=out)\n",
            "/users/eleves-b/2020/thomas.li/.local/lib/python3.9/site-packages/torch_geometric/data/collate.py:177: UserWarning: An output with one or more elements was resized since it had shape [2204], which does not match the required output shape [2, 2204]. This behavior is deprecated, and in a future PyTorch release outputs will not be resized unless they have zero elements. You can explicitly reuse an out tensor t by resizing it, inplace, to zero elements with t.resize_(0). (Triggered internally at ../aten/src/ATen/native/Resize.cpp:28.)\n",
            "  value = torch.cat(values, dim=cat_dim or 0, out=out)\n"
          ]
        },
        {
          "name": "stdout",
          "output_type": "stream",
          "text": [
            "train_loss after 3422080 examples: 0.00254\n"
          ]
        },
        {
          "name": "stderr",
          "output_type": "stream",
          "text": [
            "/users/eleves-b/2020/thomas.li/.local/lib/python3.9/site-packages/torch_geometric/data/collate.py:177: UserWarning: An output with one or more elements was resized since it had shape [14], which does not match the required output shape [2, 14]. This behavior is deprecated, and in a future PyTorch release outputs will not be resized unless they have zero elements. You can explicitly reuse an out tensor t by resizing it, inplace, to zero elements with t.resize_(0). (Triggered internally at ../aten/src/ATen/native/Resize.cpp:28.)\n",
            "  value = torch.cat(values, dim=cat_dim or 0, out=out)\n",
            "/users/eleves-b/2020/thomas.li/.local/lib/python3.9/site-packages/torch_geometric/data/collate.py:177: UserWarning: An output with one or more elements was resized since it had shape [906], which does not match the required output shape [2, 906]. This behavior is deprecated, and in a future PyTorch release outputs will not be resized unless they have zero elements. You can explicitly reuse an out tensor t by resizing it, inplace, to zero elements with t.resize_(0). (Triggered internally at ../aten/src/ATen/native/Resize.cpp:28.)\n",
            "  value = torch.cat(values, dim=cat_dim or 0, out=out)\n"
          ]
        },
        {
          "name": "stdout",
          "output_type": "stream",
          "text": [
            "train_loss after 3423680 examples: 0.00210\n"
          ]
        },
        {
          "name": "stderr",
          "output_type": "stream",
          "text": [
            "/users/eleves-b/2020/thomas.li/.local/lib/python3.9/site-packages/torch_geometric/data/collate.py:177: UserWarning: An output with one or more elements was resized since it had shape [504], which does not match the required output shape [2, 504]. This behavior is deprecated, and in a future PyTorch release outputs will not be resized unless they have zero elements. You can explicitly reuse an out tensor t by resizing it, inplace, to zero elements with t.resize_(0). (Triggered internally at ../aten/src/ATen/native/Resize.cpp:28.)\n",
            "  value = torch.cat(values, dim=cat_dim or 0, out=out)\n",
            "/users/eleves-b/2020/thomas.li/.local/lib/python3.9/site-packages/torch_geometric/data/collate.py:177: UserWarning: An output with one or more elements was resized since it had shape [2090], which does not match the required output shape [2, 2090]. This behavior is deprecated, and in a future PyTorch release outputs will not be resized unless they have zero elements. You can explicitly reuse an out tensor t by resizing it, inplace, to zero elements with t.resize_(0). (Triggered internally at ../aten/src/ATen/native/Resize.cpp:28.)\n",
            "  value = torch.cat(values, dim=cat_dim or 0, out=out)\n"
          ]
        },
        {
          "name": "stdout",
          "output_type": "stream",
          "text": [
            "train_loss after 3425280 examples: 0.00227\n"
          ]
        },
        {
          "name": "stderr",
          "output_type": "stream",
          "text": [
            "/users/eleves-b/2020/thomas.li/.local/lib/python3.9/site-packages/torch_geometric/data/collate.py:177: UserWarning: An output with one or more elements was resized since it had shape [602], which does not match the required output shape [2, 602]. This behavior is deprecated, and in a future PyTorch release outputs will not be resized unless they have zero elements. You can explicitly reuse an out tensor t by resizing it, inplace, to zero elements with t.resize_(0). (Triggered internally at ../aten/src/ATen/native/Resize.cpp:28.)\n",
            "  value = torch.cat(values, dim=cat_dim or 0, out=out)\n"
          ]
        },
        {
          "name": "stdout",
          "output_type": "stream",
          "text": [
            "train_loss after 3426880 examples: 0.00198\n"
          ]
        },
        {
          "name": "stderr",
          "output_type": "stream",
          "text": []
        },
        {
          "name": "stdout",
          "output_type": "stream",
          "text": [
            "train_loss after 3428480 examples: 0.00210\n"
          ]
        },
        {
          "name": "stderr",
          "output_type": "stream",
          "text": [
            "/users/eleves-b/2020/thomas.li/.local/lib/python3.9/site-packages/torch_geometric/data/collate.py:177: UserWarning: An output with one or more elements was resized since it had shape [34], which does not match the required output shape [2, 34]. This behavior is deprecated, and in a future PyTorch release outputs will not be resized unless they have zero elements. You can explicitly reuse an out tensor t by resizing it, inplace, to zero elements with t.resize_(0). (Triggered internally at ../aten/src/ATen/native/Resize.cpp:28.)\n",
            "  value = torch.cat(values, dim=cat_dim or 0, out=out)\n",
            "/users/eleves-b/2020/thomas.li/.local/lib/python3.9/site-packages/torch_geometric/data/collate.py:177: UserWarning: An output with one or more elements was resized since it had shape [1068], which does not match the required output shape [2, 1068]. This behavior is deprecated, and in a future PyTorch release outputs will not be resized unless they have zero elements. You can explicitly reuse an out tensor t by resizing it, inplace, to zero elements with t.resize_(0). (Triggered internally at ../aten/src/ATen/native/Resize.cpp:28.)\n",
            "  value = torch.cat(values, dim=cat_dim or 0, out=out)\n"
          ]
        },
        {
          "name": "stdout",
          "output_type": "stream",
          "text": [
            "train_loss after 3430080 examples: 0.00209\n"
          ]
        },
        {
          "name": "stderr",
          "output_type": "stream",
          "text": [
            "/users/eleves-b/2020/thomas.li/.local/lib/python3.9/site-packages/torch_geometric/data/collate.py:177: UserWarning: An output with one or more elements was resized since it had shape [62], which does not match the required output shape [2, 62]. This behavior is deprecated, and in a future PyTorch release outputs will not be resized unless they have zero elements. You can explicitly reuse an out tensor t by resizing it, inplace, to zero elements with t.resize_(0). (Triggered internally at ../aten/src/ATen/native/Resize.cpp:28.)\n",
            "  value = torch.cat(values, dim=cat_dim or 0, out=out)\n"
          ]
        },
        {
          "name": "stdout",
          "output_type": "stream",
          "text": [
            "train_loss after 3431680 examples: 0.00213\n"
          ]
        },
        {
          "name": "stderr",
          "output_type": "stream",
          "text": [
            "/users/eleves-b/2020/thomas.li/.local/lib/python3.9/site-packages/torch_geometric/data/collate.py:177: UserWarning: An output with one or more elements was resized since it had shape [286], which does not match the required output shape [2, 286]. This behavior is deprecated, and in a future PyTorch release outputs will not be resized unless they have zero elements. You can explicitly reuse an out tensor t by resizing it, inplace, to zero elements with t.resize_(0). (Triggered internally at ../aten/src/ATen/native/Resize.cpp:28.)\n",
            "  value = torch.cat(values, dim=cat_dim or 0, out=out)\n"
          ]
        },
        {
          "name": "stdout",
          "output_type": "stream",
          "text": [
            "train_loss after 3433280 examples: 0.00217\n"
          ]
        },
        {
          "name": "stderr",
          "output_type": "stream",
          "text": [
            "/users/eleves-b/2020/thomas.li/.local/lib/python3.9/site-packages/torch_geometric/data/collate.py:177: UserWarning: An output with one or more elements was resized since it had shape [14], which does not match the required output shape [2, 14]. This behavior is deprecated, and in a future PyTorch release outputs will not be resized unless they have zero elements. You can explicitly reuse an out tensor t by resizing it, inplace, to zero elements with t.resize_(0). (Triggered internally at ../aten/src/ATen/native/Resize.cpp:28.)\n",
            "  value = torch.cat(values, dim=cat_dim or 0, out=out)\n",
            "/users/eleves-b/2020/thomas.li/.local/lib/python3.9/site-packages/torch_geometric/data/collate.py:177: UserWarning: An output with one or more elements was resized since it had shape [8], which does not match the required output shape [2, 8]. This behavior is deprecated, and in a future PyTorch release outputs will not be resized unless they have zero elements. You can explicitly reuse an out tensor t by resizing it, inplace, to zero elements with t.resize_(0). (Triggered internally at ../aten/src/ATen/native/Resize.cpp:28.)\n",
            "  value = torch.cat(values, dim=cat_dim or 0, out=out)\n"
          ]
        },
        {
          "name": "stdout",
          "output_type": "stream",
          "text": [
            "train_loss after 3434880 examples: 0.00241\n"
          ]
        },
        {
          "name": "stderr",
          "output_type": "stream",
          "text": [
            "/users/eleves-b/2020/thomas.li/.local/lib/python3.9/site-packages/torch_geometric/data/collate.py:177: UserWarning: An output with one or more elements was resized since it had shape [2410], which does not match the required output shape [2, 2410]. This behavior is deprecated, and in a future PyTorch release outputs will not be resized unless they have zero elements. You can explicitly reuse an out tensor t by resizing it, inplace, to zero elements with t.resize_(0). (Triggered internally at ../aten/src/ATen/native/Resize.cpp:28.)\n",
            "  value = torch.cat(values, dim=cat_dim or 0, out=out)\n",
            "/users/eleves-b/2020/thomas.li/.local/lib/python3.9/site-packages/torch_geometric/data/collate.py:177: UserWarning: An output with one or more elements was resized since it had shape [408], which does not match the required output shape [2, 408]. This behavior is deprecated, and in a future PyTorch release outputs will not be resized unless they have zero elements. You can explicitly reuse an out tensor t by resizing it, inplace, to zero elements with t.resize_(0). (Triggered internally at ../aten/src/ATen/native/Resize.cpp:28.)\n",
            "  value = torch.cat(values, dim=cat_dim or 0, out=out)\n"
          ]
        },
        {
          "name": "stdout",
          "output_type": "stream",
          "text": [
            "train_loss after 3436480 examples: 0.00226\n"
          ]
        },
        {
          "name": "stderr",
          "output_type": "stream",
          "text": []
        },
        {
          "name": "stdout",
          "output_type": "stream",
          "text": [
            "train_loss after 3438080 examples: 0.00220\n"
          ]
        },
        {
          "name": "stderr",
          "output_type": "stream",
          "text": []
        },
        {
          "name": "stdout",
          "output_type": "stream",
          "text": [
            "train_loss after 3439680 examples: 0.00188\n"
          ]
        },
        {
          "name": "stderr",
          "output_type": "stream",
          "text": [
            "/users/eleves-b/2020/thomas.li/.local/lib/python3.9/site-packages/torch_geometric/data/collate.py:177: UserWarning: An output with one or more elements was resized since it had shape [14], which does not match the required output shape [2, 14]. This behavior is deprecated, and in a future PyTorch release outputs will not be resized unless they have zero elements. You can explicitly reuse an out tensor t by resizing it, inplace, to zero elements with t.resize_(0). (Triggered internally at ../aten/src/ATen/native/Resize.cpp:28.)\n",
            "  value = torch.cat(values, dim=cat_dim or 0, out=out)\n",
            "/users/eleves-b/2020/thomas.li/.local/lib/python3.9/site-packages/torch_geometric/data/collate.py:177: UserWarning: An output with one or more elements was resized since it had shape [114], which does not match the required output shape [2, 114]. This behavior is deprecated, and in a future PyTorch release outputs will not be resized unless they have zero elements. You can explicitly reuse an out tensor t by resizing it, inplace, to zero elements with t.resize_(0). (Triggered internally at ../aten/src/ATen/native/Resize.cpp:28.)\n",
            "  value = torch.cat(values, dim=cat_dim or 0, out=out)\n"
          ]
        },
        {
          "name": "stdout",
          "output_type": "stream",
          "text": [
            "train_loss after 3441280 examples: 0.00235\n"
          ]
        },
        {
          "name": "stderr",
          "output_type": "stream",
          "text": [
            "/users/eleves-b/2020/thomas.li/.local/lib/python3.9/site-packages/torch_geometric/data/collate.py:177: UserWarning: An output with one or more elements was resized since it had shape [894], which does not match the required output shape [2, 894]. This behavior is deprecated, and in a future PyTorch release outputs will not be resized unless they have zero elements. You can explicitly reuse an out tensor t by resizing it, inplace, to zero elements with t.resize_(0). (Triggered internally at ../aten/src/ATen/native/Resize.cpp:28.)\n",
            "  value = torch.cat(values, dim=cat_dim or 0, out=out)\n"
          ]
        },
        {
          "name": "stdout",
          "output_type": "stream",
          "text": [
            "train_loss after 3442880 examples: 0.00249\n"
          ]
        },
        {
          "name": "stderr",
          "output_type": "stream",
          "text": []
        },
        {
          "name": "stdout",
          "output_type": "stream",
          "text": [
            "train_loss after 3444480 examples: 0.00252\n"
          ]
        },
        {
          "name": "stderr",
          "output_type": "stream",
          "text": [
            "/users/eleves-b/2020/thomas.li/.local/lib/python3.9/site-packages/torch_geometric/data/collate.py:177: UserWarning: An output with one or more elements was resized since it had shape [16], which does not match the required output shape [2, 16]. This behavior is deprecated, and in a future PyTorch release outputs will not be resized unless they have zero elements. You can explicitly reuse an out tensor t by resizing it, inplace, to zero elements with t.resize_(0). (Triggered internally at ../aten/src/ATen/native/Resize.cpp:28.)\n",
            "  value = torch.cat(values, dim=cat_dim or 0, out=out)\n"
          ]
        },
        {
          "name": "stdout",
          "output_type": "stream",
          "text": [
            "train_loss after 3446080 examples: 0.00244\n"
          ]
        },
        {
          "name": "stderr",
          "output_type": "stream",
          "text": []
        },
        {
          "name": "stdout",
          "output_type": "stream",
          "text": [
            "train_loss after 3447680 examples: 0.00211\n"
          ]
        },
        {
          "name": "stderr",
          "output_type": "stream",
          "text": [
            "/users/eleves-b/2020/thomas.li/.local/lib/python3.9/site-packages/torch_geometric/data/collate.py:177: UserWarning: An output with one or more elements was resized since it had shape [62], which does not match the required output shape [2, 62]. This behavior is deprecated, and in a future PyTorch release outputs will not be resized unless they have zero elements. You can explicitly reuse an out tensor t by resizing it, inplace, to zero elements with t.resize_(0). (Triggered internally at ../aten/src/ATen/native/Resize.cpp:28.)\n",
            "  value = torch.cat(values, dim=cat_dim or 0, out=out)\n"
          ]
        },
        {
          "name": "stdout",
          "output_type": "stream",
          "text": [
            "train_loss after 3449280 examples: 0.00219\n"
          ]
        },
        {
          "name": "stderr",
          "output_type": "stream",
          "text": [
            "/users/eleves-b/2020/thomas.li/.local/lib/python3.9/site-packages/torch_geometric/data/collate.py:177: UserWarning: An output with one or more elements was resized since it had shape [10], which does not match the required output shape [2, 10]. This behavior is deprecated, and in a future PyTorch release outputs will not be resized unless they have zero elements. You can explicitly reuse an out tensor t by resizing it, inplace, to zero elements with t.resize_(0). (Triggered internally at ../aten/src/ATen/native/Resize.cpp:28.)\n",
            "  value = torch.cat(values, dim=cat_dim or 0, out=out)\n"
          ]
        },
        {
          "name": "stdout",
          "output_type": "stream",
          "text": [
            "train_loss after 3450880 examples: 0.00238\n"
          ]
        },
        {
          "name": "stderr",
          "output_type": "stream",
          "text": [
            "/users/eleves-b/2020/thomas.li/.local/lib/python3.9/site-packages/torch_geometric/data/collate.py:177: UserWarning: An output with one or more elements was resized since it had shape [1826], which does not match the required output shape [2, 1826]. This behavior is deprecated, and in a future PyTorch release outputs will not be resized unless they have zero elements. You can explicitly reuse an out tensor t by resizing it, inplace, to zero elements with t.resize_(0). (Triggered internally at ../aten/src/ATen/native/Resize.cpp:28.)\n",
            "  value = torch.cat(values, dim=cat_dim or 0, out=out)\n",
            "/users/eleves-b/2020/thomas.li/.local/lib/python3.9/site-packages/torch_geometric/data/collate.py:177: UserWarning: An output with one or more elements was resized since it had shape [8], which does not match the required output shape [2, 8]. This behavior is deprecated, and in a future PyTorch release outputs will not be resized unless they have zero elements. You can explicitly reuse an out tensor t by resizing it, inplace, to zero elements with t.resize_(0). (Triggered internally at ../aten/src/ATen/native/Resize.cpp:28.)\n",
            "  value = torch.cat(values, dim=cat_dim or 0, out=out)\n"
          ]
        },
        {
          "name": "stdout",
          "output_type": "stream",
          "text": [
            "train_loss after 3452480 examples: 0.00232\n"
          ]
        },
        {
          "name": "stderr",
          "output_type": "stream",
          "text": []
        },
        {
          "name": "stdout",
          "output_type": "stream",
          "text": [
            "train_loss after 3454080 examples: 0.00202\n"
          ]
        },
        {
          "name": "stderr",
          "output_type": "stream",
          "text": [
            "/users/eleves-b/2020/thomas.li/.local/lib/python3.9/site-packages/torch_geometric/data/collate.py:177: UserWarning: An output with one or more elements was resized since it had shape [68], which does not match the required output shape [2, 68]. This behavior is deprecated, and in a future PyTorch release outputs will not be resized unless they have zero elements. You can explicitly reuse an out tensor t by resizing it, inplace, to zero elements with t.resize_(0). (Triggered internally at ../aten/src/ATen/native/Resize.cpp:28.)\n",
            "  value = torch.cat(values, dim=cat_dim or 0, out=out)\n",
            "/users/eleves-b/2020/thomas.li/.local/lib/python3.9/site-packages/torch_geometric/data/collate.py:177: UserWarning: An output with one or more elements was resized since it had shape [1396], which does not match the required output shape [2, 1396]. This behavior is deprecated, and in a future PyTorch release outputs will not be resized unless they have zero elements. You can explicitly reuse an out tensor t by resizing it, inplace, to zero elements with t.resize_(0). (Triggered internally at ../aten/src/ATen/native/Resize.cpp:28.)\n",
            "  value = torch.cat(values, dim=cat_dim or 0, out=out)\n"
          ]
        },
        {
          "name": "stdout",
          "output_type": "stream",
          "text": [
            "train_loss after 3455680 examples: 0.00224\n"
          ]
        },
        {
          "name": "stderr",
          "output_type": "stream",
          "text": [
            "/users/eleves-b/2020/thomas.li/.local/lib/python3.9/site-packages/torch_geometric/data/collate.py:177: UserWarning: An output with one or more elements was resized since it had shape [8], which does not match the required output shape [2, 8]. This behavior is deprecated, and in a future PyTorch release outputs will not be resized unless they have zero elements. You can explicitly reuse an out tensor t by resizing it, inplace, to zero elements with t.resize_(0). (Triggered internally at ../aten/src/ATen/native/Resize.cpp:28.)\n",
            "  value = torch.cat(values, dim=cat_dim or 0, out=out)\n"
          ]
        },
        {
          "name": "stdout",
          "output_type": "stream",
          "text": [
            "train_loss after 3457280 examples: 0.00236\n"
          ]
        },
        {
          "name": "stderr",
          "output_type": "stream",
          "text": []
        },
        {
          "name": "stdout",
          "output_type": "stream",
          "text": [
            "train_loss after 3458880 examples: 0.00224\n"
          ]
        },
        {
          "name": "stderr",
          "output_type": "stream",
          "text": [
            "/users/eleves-b/2020/thomas.li/.local/lib/python3.9/site-packages/torch_geometric/data/collate.py:177: UserWarning: An output with one or more elements was resized since it had shape [794], which does not match the required output shape [2, 794]. This behavior is deprecated, and in a future PyTorch release outputs will not be resized unless they have zero elements. You can explicitly reuse an out tensor t by resizing it, inplace, to zero elements with t.resize_(0). (Triggered internally at ../aten/src/ATen/native/Resize.cpp:28.)\n",
            "  value = torch.cat(values, dim=cat_dim or 0, out=out)\n",
            "/users/eleves-b/2020/thomas.li/.local/lib/python3.9/site-packages/torch_geometric/data/collate.py:177: UserWarning: An output with one or more elements was resized since it had shape [1060], which does not match the required output shape [2, 1060]. This behavior is deprecated, and in a future PyTorch release outputs will not be resized unless they have zero elements. You can explicitly reuse an out tensor t by resizing it, inplace, to zero elements with t.resize_(0). (Triggered internally at ../aten/src/ATen/native/Resize.cpp:28.)\n",
            "  value = torch.cat(values, dim=cat_dim or 0, out=out)\n"
          ]
        },
        {
          "name": "stdout",
          "output_type": "stream",
          "text": [
            "train_loss after 3460480 examples: 0.00220\n"
          ]
        },
        {
          "name": "stderr",
          "output_type": "stream",
          "text": [
            "/users/eleves-b/2020/thomas.li/.local/lib/python3.9/site-packages/torch_geometric/data/collate.py:177: UserWarning: An output with one or more elements was resized since it had shape [276], which does not match the required output shape [2, 276]. This behavior is deprecated, and in a future PyTorch release outputs will not be resized unless they have zero elements. You can explicitly reuse an out tensor t by resizing it, inplace, to zero elements with t.resize_(0). (Triggered internally at ../aten/src/ATen/native/Resize.cpp:28.)\n",
            "  value = torch.cat(values, dim=cat_dim or 0, out=out)\n"
          ]
        },
        {
          "name": "stdout",
          "output_type": "stream",
          "text": [
            "train_loss after 3462080 examples: 0.00201\n"
          ]
        },
        {
          "name": "stderr",
          "output_type": "stream",
          "text": [
            "/users/eleves-b/2020/thomas.li/.local/lib/python3.9/site-packages/torch_geometric/data/collate.py:177: UserWarning: An output with one or more elements was resized since it had shape [1988], which does not match the required output shape [2, 1988]. This behavior is deprecated, and in a future PyTorch release outputs will not be resized unless they have zero elements. You can explicitly reuse an out tensor t by resizing it, inplace, to zero elements with t.resize_(0). (Triggered internally at ../aten/src/ATen/native/Resize.cpp:28.)\n",
            "  value = torch.cat(values, dim=cat_dim or 0, out=out)\n",
            "/users/eleves-b/2020/thomas.li/.local/lib/python3.9/site-packages/torch_geometric/data/collate.py:177: UserWarning: An output with one or more elements was resized since it had shape [8], which does not match the required output shape [2, 8]. This behavior is deprecated, and in a future PyTorch release outputs will not be resized unless they have zero elements. You can explicitly reuse an out tensor t by resizing it, inplace, to zero elements with t.resize_(0). (Triggered internally at ../aten/src/ATen/native/Resize.cpp:28.)\n",
            "  value = torch.cat(values, dim=cat_dim or 0, out=out)\n"
          ]
        },
        {
          "name": "stdout",
          "output_type": "stream",
          "text": [
            "train_loss after 3463680 examples: 0.00229\n"
          ]
        },
        {
          "name": "stderr",
          "output_type": "stream",
          "text": [
            "/users/eleves-b/2020/thomas.li/.local/lib/python3.9/site-packages/torch_geometric/data/collate.py:177: UserWarning: An output with one or more elements was resized since it had shape [14], which does not match the required output shape [2, 14]. This behavior is deprecated, and in a future PyTorch release outputs will not be resized unless they have zero elements. You can explicitly reuse an out tensor t by resizing it, inplace, to zero elements with t.resize_(0). (Triggered internally at ../aten/src/ATen/native/Resize.cpp:28.)\n",
            "  value = torch.cat(values, dim=cat_dim or 0, out=out)\n"
          ]
        },
        {
          "name": "stdout",
          "output_type": "stream",
          "text": [
            "train_loss after 3465280 examples: 0.00242\n"
          ]
        },
        {
          "name": "stderr",
          "output_type": "stream",
          "text": [
            "/users/eleves-b/2020/thomas.li/.local/lib/python3.9/site-packages/torch_geometric/data/collate.py:177: UserWarning: An output with one or more elements was resized since it had shape [1506], which does not match the required output shape [2, 1506]. This behavior is deprecated, and in a future PyTorch release outputs will not be resized unless they have zero elements. You can explicitly reuse an out tensor t by resizing it, inplace, to zero elements with t.resize_(0). (Triggered internally at ../aten/src/ATen/native/Resize.cpp:28.)\n",
            "  value = torch.cat(values, dim=cat_dim or 0, out=out)\n"
          ]
        },
        {
          "name": "stdout",
          "output_type": "stream",
          "text": [
            "train_loss after 3466880 examples: 0.00215\n"
          ]
        },
        {
          "name": "stderr",
          "output_type": "stream",
          "text": [
            "/users/eleves-b/2020/thomas.li/.local/lib/python3.9/site-packages/torch_geometric/data/collate.py:177: UserWarning: An output with one or more elements was resized since it had shape [14], which does not match the required output shape [2, 14]. This behavior is deprecated, and in a future PyTorch release outputs will not be resized unless they have zero elements. You can explicitly reuse an out tensor t by resizing it, inplace, to zero elements with t.resize_(0). (Triggered internally at ../aten/src/ATen/native/Resize.cpp:28.)\n",
            "  value = torch.cat(values, dim=cat_dim or 0, out=out)\n",
            "/users/eleves-b/2020/thomas.li/.local/lib/python3.9/site-packages/torch_geometric/data/collate.py:177: UserWarning: An output with one or more elements was resized since it had shape [1172], which does not match the required output shape [2, 1172]. This behavior is deprecated, and in a future PyTorch release outputs will not be resized unless they have zero elements. You can explicitly reuse an out tensor t by resizing it, inplace, to zero elements with t.resize_(0). (Triggered internally at ../aten/src/ATen/native/Resize.cpp:28.)\n",
            "  value = torch.cat(values, dim=cat_dim or 0, out=out)\n"
          ]
        },
        {
          "name": "stdout",
          "output_type": "stream",
          "text": [
            "train_loss after 3468480 examples: 0.00247\n"
          ]
        },
        {
          "name": "stderr",
          "output_type": "stream",
          "text": [
            "/users/eleves-b/2020/thomas.li/.local/lib/python3.9/site-packages/torch_geometric/data/collate.py:177: UserWarning: An output with one or more elements was resized since it had shape [8], which does not match the required output shape [2, 8]. This behavior is deprecated, and in a future PyTorch release outputs will not be resized unless they have zero elements. You can explicitly reuse an out tensor t by resizing it, inplace, to zero elements with t.resize_(0). (Triggered internally at ../aten/src/ATen/native/Resize.cpp:28.)\n",
            "  value = torch.cat(values, dim=cat_dim or 0, out=out)\n"
          ]
        },
        {
          "name": "stdout",
          "output_type": "stream",
          "text": [
            "train_loss after 3470080 examples: 0.00222\n"
          ]
        },
        {
          "name": "stderr",
          "output_type": "stream",
          "text": [
            "/users/eleves-b/2020/thomas.li/.local/lib/python3.9/site-packages/torch_geometric/data/collate.py:177: UserWarning: An output with one or more elements was resized since it had shape [14], which does not match the required output shape [2, 14]. This behavior is deprecated, and in a future PyTorch release outputs will not be resized unless they have zero elements. You can explicitly reuse an out tensor t by resizing it, inplace, to zero elements with t.resize_(0). (Triggered internally at ../aten/src/ATen/native/Resize.cpp:28.)\n",
            "  value = torch.cat(values, dim=cat_dim or 0, out=out)\n",
            "/users/eleves-b/2020/thomas.li/.local/lib/python3.9/site-packages/torch_geometric/data/collate.py:177: UserWarning: An output with one or more elements was resized since it had shape [68], which does not match the required output shape [2, 68]. This behavior is deprecated, and in a future PyTorch release outputs will not be resized unless they have zero elements. You can explicitly reuse an out tensor t by resizing it, inplace, to zero elements with t.resize_(0). (Triggered internally at ../aten/src/ATen/native/Resize.cpp:28.)\n",
            "  value = torch.cat(values, dim=cat_dim or 0, out=out)\n"
          ]
        },
        {
          "name": "stdout",
          "output_type": "stream",
          "text": [
            "train_loss after 3471680 examples: 0.00201\n"
          ]
        },
        {
          "name": "stderr",
          "output_type": "stream",
          "text": [
            "/users/eleves-b/2020/thomas.li/.local/lib/python3.9/site-packages/torch_geometric/data/collate.py:177: UserWarning: An output with one or more elements was resized since it had shape [30], which does not match the required output shape [2, 30]. This behavior is deprecated, and in a future PyTorch release outputs will not be resized unless they have zero elements. You can explicitly reuse an out tensor t by resizing it, inplace, to zero elements with t.resize_(0). (Triggered internally at ../aten/src/ATen/native/Resize.cpp:28.)\n",
            "  value = torch.cat(values, dim=cat_dim or 0, out=out)\n"
          ]
        },
        {
          "name": "stdout",
          "output_type": "stream",
          "text": [
            "train_loss after 3473280 examples: 0.00244\n"
          ]
        },
        {
          "name": "stderr",
          "output_type": "stream",
          "text": [
            "/users/eleves-b/2020/thomas.li/.local/lib/python3.9/site-packages/torch_geometric/data/collate.py:177: UserWarning: An output with one or more elements was resized since it had shape [14], which does not match the required output shape [2, 14]. This behavior is deprecated, and in a future PyTorch release outputs will not be resized unless they have zero elements. You can explicitly reuse an out tensor t by resizing it, inplace, to zero elements with t.resize_(0). (Triggered internally at ../aten/src/ATen/native/Resize.cpp:28.)\n",
            "  value = torch.cat(values, dim=cat_dim or 0, out=out)\n"
          ]
        },
        {
          "name": "stdout",
          "output_type": "stream",
          "text": [
            "train_loss after 3474880 examples: 0.00226\n"
          ]
        },
        {
          "name": "stderr",
          "output_type": "stream",
          "text": []
        },
        {
          "name": "stdout",
          "output_type": "stream",
          "text": [
            "train_loss after 3476480 examples: 0.00221\n"
          ]
        },
        {
          "name": "stderr",
          "output_type": "stream",
          "text": [
            "/users/eleves-b/2020/thomas.li/.local/lib/python3.9/site-packages/torch_geometric/data/collate.py:177: UserWarning: An output with one or more elements was resized since it had shape [18], which does not match the required output shape [2, 18]. This behavior is deprecated, and in a future PyTorch release outputs will not be resized unless they have zero elements. You can explicitly reuse an out tensor t by resizing it, inplace, to zero elements with t.resize_(0). (Triggered internally at ../aten/src/ATen/native/Resize.cpp:28.)\n",
            "  value = torch.cat(values, dim=cat_dim or 0, out=out)\n",
            "/users/eleves-b/2020/thomas.li/.local/lib/python3.9/site-packages/torch_geometric/data/collate.py:177: UserWarning: An output with one or more elements was resized since it had shape [8], which does not match the required output shape [2, 8]. This behavior is deprecated, and in a future PyTorch release outputs will not be resized unless they have zero elements. You can explicitly reuse an out tensor t by resizing it, inplace, to zero elements with t.resize_(0). (Triggered internally at ../aten/src/ATen/native/Resize.cpp:28.)\n",
            "  value = torch.cat(values, dim=cat_dim or 0, out=out)\n"
          ]
        },
        {
          "name": "stdout",
          "output_type": "stream",
          "text": [
            "train_loss after 3478080 examples: 0.00213\n"
          ]
        },
        {
          "name": "stderr",
          "output_type": "stream",
          "text": [
            "/users/eleves-b/2020/thomas.li/.local/lib/python3.9/site-packages/torch_geometric/data/collate.py:177: UserWarning: An output with one or more elements was resized since it had shape [8], which does not match the required output shape [2, 8]. This behavior is deprecated, and in a future PyTorch release outputs will not be resized unless they have zero elements. You can explicitly reuse an out tensor t by resizing it, inplace, to zero elements with t.resize_(0). (Triggered internally at ../aten/src/ATen/native/Resize.cpp:28.)\n",
            "  value = torch.cat(values, dim=cat_dim or 0, out=out)\n",
            "/users/eleves-b/2020/thomas.li/.local/lib/python3.9/site-packages/torch_geometric/data/collate.py:177: UserWarning: An output with one or more elements was resized since it had shape [26], which does not match the required output shape [2, 26]. This behavior is deprecated, and in a future PyTorch release outputs will not be resized unless they have zero elements. You can explicitly reuse an out tensor t by resizing it, inplace, to zero elements with t.resize_(0). (Triggered internally at ../aten/src/ATen/native/Resize.cpp:28.)\n",
            "  value = torch.cat(values, dim=cat_dim or 0, out=out)\n",
            "/users/eleves-b/2020/thomas.li/.local/lib/python3.9/site-packages/torch_geometric/data/collate.py:177: UserWarning: An output with one or more elements was resized since it had shape [2272], which does not match the required output shape [2, 2272]. This behavior is deprecated, and in a future PyTorch release outputs will not be resized unless they have zero elements. You can explicitly reuse an out tensor t by resizing it, inplace, to zero elements with t.resize_(0). (Triggered internally at ../aten/src/ATen/native/Resize.cpp:28.)\n",
            "  value = torch.cat(values, dim=cat_dim or 0, out=out)\n"
          ]
        },
        {
          "name": "stdout",
          "output_type": "stream",
          "text": [
            "train_loss after 3479680 examples: 0.00224\n"
          ]
        },
        {
          "name": "stderr",
          "output_type": "stream",
          "text": [
            "/users/eleves-b/2020/thomas.li/.local/lib/python3.9/site-packages/torch_geometric/data/collate.py:177: UserWarning: An output with one or more elements was resized since it had shape [8], which does not match the required output shape [2, 8]. This behavior is deprecated, and in a future PyTorch release outputs will not be resized unless they have zero elements. You can explicitly reuse an out tensor t by resizing it, inplace, to zero elements with t.resize_(0). (Triggered internally at ../aten/src/ATen/native/Resize.cpp:28.)\n",
            "  value = torch.cat(values, dim=cat_dim or 0, out=out)\n",
            "/users/eleves-b/2020/thomas.li/.local/lib/python3.9/site-packages/torch_geometric/data/collate.py:177: UserWarning: An output with one or more elements was resized since it had shape [1530], which does not match the required output shape [2, 1530]. This behavior is deprecated, and in a future PyTorch release outputs will not be resized unless they have zero elements. You can explicitly reuse an out tensor t by resizing it, inplace, to zero elements with t.resize_(0). (Triggered internally at ../aten/src/ATen/native/Resize.cpp:28.)\n",
            "  value = torch.cat(values, dim=cat_dim or 0, out=out)\n"
          ]
        },
        {
          "name": "stdout",
          "output_type": "stream",
          "text": [
            "train_loss after 3481280 examples: 0.00243\n"
          ]
        },
        {
          "name": "stderr",
          "output_type": "stream",
          "text": [
            "/users/eleves-b/2020/thomas.li/.local/lib/python3.9/site-packages/torch_geometric/data/collate.py:177: UserWarning: An output with one or more elements was resized since it had shape [94], which does not match the required output shape [2, 94]. This behavior is deprecated, and in a future PyTorch release outputs will not be resized unless they have zero elements. You can explicitly reuse an out tensor t by resizing it, inplace, to zero elements with t.resize_(0). (Triggered internally at ../aten/src/ATen/native/Resize.cpp:28.)\n",
            "  value = torch.cat(values, dim=cat_dim or 0, out=out)\n",
            "/users/eleves-b/2020/thomas.li/.local/lib/python3.9/site-packages/torch_geometric/data/collate.py:177: UserWarning: An output with one or more elements was resized since it had shape [166], which does not match the required output shape [2, 166]. This behavior is deprecated, and in a future PyTorch release outputs will not be resized unless they have zero elements. You can explicitly reuse an out tensor t by resizing it, inplace, to zero elements with t.resize_(0). (Triggered internally at ../aten/src/ATen/native/Resize.cpp:28.)\n",
            "  value = torch.cat(values, dim=cat_dim or 0, out=out)\n"
          ]
        },
        {
          "name": "stdout",
          "output_type": "stream",
          "text": [
            "train_loss after 3482880 examples: 0.00224\n"
          ]
        },
        {
          "name": "stderr",
          "output_type": "stream",
          "text": [
            "/users/eleves-b/2020/thomas.li/.local/lib/python3.9/site-packages/torch_geometric/data/collate.py:177: UserWarning: An output with one or more elements was resized since it had shape [8], which does not match the required output shape [2, 8]. This behavior is deprecated, and in a future PyTorch release outputs will not be resized unless they have zero elements. You can explicitly reuse an out tensor t by resizing it, inplace, to zero elements with t.resize_(0). (Triggered internally at ../aten/src/ATen/native/Resize.cpp:28.)\n",
            "  value = torch.cat(values, dim=cat_dim or 0, out=out)\n",
            "/users/eleves-b/2020/thomas.li/.local/lib/python3.9/site-packages/torch_geometric/data/collate.py:177: UserWarning: An output with one or more elements was resized since it had shape [38], which does not match the required output shape [2, 38]. This behavior is deprecated, and in a future PyTorch release outputs will not be resized unless they have zero elements. You can explicitly reuse an out tensor t by resizing it, inplace, to zero elements with t.resize_(0). (Triggered internally at ../aten/src/ATen/native/Resize.cpp:28.)\n",
            "  value = torch.cat(values, dim=cat_dim or 0, out=out)\n"
          ]
        },
        {
          "name": "stdout",
          "output_type": "stream",
          "text": [
            "train_loss after 3484480 examples: 0.00211\n"
          ]
        },
        {
          "name": "stderr",
          "output_type": "stream",
          "text": [
            "/users/eleves-b/2020/thomas.li/.local/lib/python3.9/site-packages/torch_geometric/data/collate.py:177: UserWarning: An output with one or more elements was resized since it had shape [904], which does not match the required output shape [2, 904]. This behavior is deprecated, and in a future PyTorch release outputs will not be resized unless they have zero elements. You can explicitly reuse an out tensor t by resizing it, inplace, to zero elements with t.resize_(0). (Triggered internally at ../aten/src/ATen/native/Resize.cpp:28.)\n",
            "  value = torch.cat(values, dim=cat_dim or 0, out=out)\n",
            "/users/eleves-b/2020/thomas.li/.local/lib/python3.9/site-packages/torch_geometric/data/collate.py:177: UserWarning: An output with one or more elements was resized since it had shape [1686], which does not match the required output shape [2, 1686]. This behavior is deprecated, and in a future PyTorch release outputs will not be resized unless they have zero elements. You can explicitly reuse an out tensor t by resizing it, inplace, to zero elements with t.resize_(0). (Triggered internally at ../aten/src/ATen/native/Resize.cpp:28.)\n",
            "  value = torch.cat(values, dim=cat_dim or 0, out=out)\n",
            "/users/eleves-b/2020/thomas.li/.local/lib/python3.9/site-packages/torch_geometric/data/collate.py:177: UserWarning: An output with one or more elements was resized since it had shape [932], which does not match the required output shape [2, 932]. This behavior is deprecated, and in a future PyTorch release outputs will not be resized unless they have zero elements. You can explicitly reuse an out tensor t by resizing it, inplace, to zero elements with t.resize_(0). (Triggered internally at ../aten/src/ATen/native/Resize.cpp:28.)\n",
            "  value = torch.cat(values, dim=cat_dim or 0, out=out)\n"
          ]
        },
        {
          "name": "stdout",
          "output_type": "stream",
          "text": [
            "train_loss after 3486080 examples: 0.00230\n"
          ]
        },
        {
          "name": "stderr",
          "output_type": "stream",
          "text": [
            "100%|██████████| 2487/2487 [10:11<00:00,  4.07it/s]\n",
            "100%|██████████| 4/4 [39:53<00:00, 598.32s/it]\n"
          ]
        },
        {
          "name": "stdout",
          "output_type": "stream",
          "text": [
            "Successful training\n"
          ]
        },
        {
          "data": {
            "text/html": [
              "<style>\n",
              "    table.wandb td:nth-child(1) { padding: 0 10px; text-align: left ; width: auto;} td:nth-child(2) {text-align: left ; width: 100%}\n",
              "    .wandb-row { display: flex; flex-direction: row; flex-wrap: wrap; justify-content: flex-start; width: 100% }\n",
              "    .wandb-col { display: flex; flex-direction: column; flex-basis: 100%; flex: 1; padding: 10px; }\n",
              "    </style>\n",
              "<div class=\"wandb-row\"><div class=\"wandb-col\"><h3>Run history:</h3><br/><table class=\"wandb\"><tr><td>epoch</td><td>▁▁▁▁▂▂▂▂▂▃▃▃▃▃▃▄▄▄▄▄▅▅▅▅▅▅▆▆▆▆▆▇▇▇▇▇▇███</td></tr><tr><td>train_current_loss</td><td>█▄▂▂▁▁▁▁▁▁▁▁▁▁▁▁▁▁▁▁▁▁▁▁▁▁▁▁▁▁▁▁▁▁▁▁▁▁▁▁</td></tr><tr><td>val_LRAP</td><td>█▁▃▄▅</td></tr><tr><td>val_loss</td><td>▁▇▆▇█</td></tr></table><br/></div><div class=\"wandb-col\"><h3>Run summary:</h3><br/><table class=\"wandb\"><tr><td>epoch</td><td>134.08</td></tr><tr><td>train_current_loss</td><td>0.0023</td></tr><tr><td>val_LRAP</td><td>0.59377</td></tr><tr><td>val_loss</td><td>0.00752</td></tr></table><br/></div></div>"
            ],
            "text/plain": [
              "<IPython.core.display.HTML object>"
            ]
          },
          "metadata": {},
          "output_type": "display_data"
        },
        {
          "data": {
            "text/html": [
              " View run <strong style=\"color:#cdcd00\">michael_big_model_120_epochs_512_nhid_online_02021906finetune_02031624</strong> at: <a href='https://wandb.ai/qwertyr2/ALTEGRAD_kaggle/runs/3nn3wjyo' target=\"_blank\">https://wandb.ai/qwertyr2/ALTEGRAD_kaggle/runs/3nn3wjyo</a><br/>Synced 5 W&B file(s), 0 media file(s), 0 artifact file(s) and 0 other file(s)"
            ],
            "text/plain": [
              "<IPython.core.display.HTML object>"
            ]
          },
          "metadata": {},
          "output_type": "display_data"
        },
        {
          "data": {
            "text/html": [
              "Find logs at: <code>./wandb/run-20240203_162416-3nn3wjyo/logs</code>"
            ],
            "text/plain": [
              "<IPython.core.display.HTML object>"
            ]
          },
          "metadata": {},
          "output_type": "display_data"
        },
        {
          "data": {
            "text/plain": [
              "Model(\n",
              "  (graph_encoder): GraphEncoder(\n",
              "    (relu): ReLU()\n",
              "    (ln): LayerNorm((768,), eps=1e-05, elementwise_affine=True)\n",
              "    (conv1): GCNConv(300, 512)\n",
              "    (bn1): BatchNorm1d(512, eps=1e-05, momentum=0.1, affine=True, track_running_stats=True)\n",
              "    (conv2): GCNConv(512, 512)\n",
              "    (bn2): BatchNorm1d(512, eps=1e-05, momentum=0.1, affine=True, track_running_stats=True)\n",
              "    (conv3): GCNConv(512, 512)\n",
              "    (bn3): BatchNorm1d(512, eps=1e-05, momentum=0.1, affine=True, track_running_stats=True)\n",
              "    (mol_hidden1): Linear(in_features=512, out_features=512, bias=True)\n",
              "    (dropout): Dropout(p=0.1, inplace=False)\n",
              "    (mol_hidden2): Linear(in_features=512, out_features=768, bias=True)\n",
              "  )\n",
              "  (text_encoder): TextEncoder(\n",
              "    (bert): DistilBertModel(\n",
              "      (embeddings): Embeddings(\n",
              "        (word_embeddings): Embedding(30522, 768, padding_idx=0)\n",
              "        (position_embeddings): Embedding(512, 768)\n",
              "        (LayerNorm): LayerNorm((768,), eps=1e-12, elementwise_affine=True)\n",
              "        (dropout): Dropout(p=0.1, inplace=False)\n",
              "      )\n",
              "      (transformer): Transformer(\n",
              "        (layer): ModuleList(\n",
              "          (0-5): 6 x TransformerBlock(\n",
              "            (attention): MultiHeadSelfAttention(\n",
              "              (dropout): Dropout(p=0.1, inplace=False)\n",
              "              (q_lin): Linear(in_features=768, out_features=768, bias=True)\n",
              "              (k_lin): Linear(in_features=768, out_features=768, bias=True)\n",
              "              (v_lin): Linear(in_features=768, out_features=768, bias=True)\n",
              "              (out_lin): Linear(in_features=768, out_features=768, bias=True)\n",
              "            )\n",
              "            (sa_layer_norm): LayerNorm((768,), eps=1e-12, elementwise_affine=True)\n",
              "            (ffn): FFN(\n",
              "              (dropout): Dropout(p=0.1, inplace=False)\n",
              "              (lin1): Linear(in_features=768, out_features=3072, bias=True)\n",
              "              (lin2): Linear(in_features=3072, out_features=768, bias=True)\n",
              "              (activation): GELUActivation()\n",
              "            )\n",
              "            (output_layer_norm): LayerNorm((768,), eps=1e-12, elementwise_affine=True)\n",
              "          )\n",
              "        )\n",
              "      )\n",
              "    )\n",
              "  )\n",
              ")"
            ]
          },
          "execution_count": 8,
          "metadata": {},
          "output_type": "execute_result"
        }
      ],
      "source": [
        "# Imports\n",
        "import wandb\n",
        "\n",
        "wandb.login()\n",
        "from src.Model4 import Model  # TODO\n",
        "import torch\n",
        "\n",
        "\n",
        "model_path = \"models/michael_big_model_120_epochs_512_nhid_online_02021906/michael_big_model_120_epochs_512_nhid_online_02021906.pth\"\n",
        "\n",
        "# Config\n",
        "finetune_config = dict(\n",
        "    model_path=model_path,\n",
        "    model_name=\"distilbert-base-uncased\",\n",
        "    batch_size=32,\n",
        "    graph_learning_rate=(1e-4) / 10,\n",
        "    text_learning_rate=(3e-5) / 10,\n",
        "    learning_rate=1e-5,\n",
        "    epoch_equivalents=10,\n",
        "    criterion=\"negative_sampling_contrastive_loss\",\n",
        "    similarity_fn=\"cosine_similarity\",\n",
        ")\n",
        "\n",
        "# Model\n",
        "device = torch.device(\"cuda\" if torch.cuda.is_available() else \"cpu\")\n",
        "print(\"device :\", device)\n",
        "\n",
        "model = Model(\n",
        "    model_name=finetune_config[\"model_name\"],\n",
        "    num_node_features=300,\n",
        "    nout=768,\n",
        "    nhid=512,\n",
        "    graph_hidden_channels=512,\n",
        ")\n",
        "model.to(device)\n",
        "\n",
        "# Run Name\n",
        "run_name = \"finetune_michael_big_model_120_epochs_512_nhid_online\"\n",
        "\n",
        "\n",
        "finetune_model_pipeline(finetune_config, model, model_path, example_ct_before=3168960)\n",
        "# This block ensures that the code inside main() is only executed if the script is run directly\n",
        "# if __name__ == \"__main__\":\n",
        "#     finetune_model_pipeline(finetune_config, model, example_ct_before=3168960)"
      ]
    },
    {
      "cell_type": "code",
      "execution_count": null,
      "metadata": {},
      "outputs": [],
      "source": []
    },
    {
      "cell_type": "code",
      "execution_count": 7,
      "metadata": {},
      "outputs": [],
      "source": [
        "# from src.Model4 import Model\n",
        "\n",
        "\n",
        "# finetune_config = dict(\n",
        "#     model_path=\"models/baseline_finetune/baseline_finetune.pth\",\n",
        "#     model_name=\"distilbert-base-uncased\",\n",
        "#     batch_size=32,\n",
        "#     graph_learning_rate=(1e-4) / 10,\n",
        "#     text_learning_rate=(3e-5) / 10,\n",
        "#     learning_rate=1e-4,\n",
        "#     epoch_equivalents=60,\n",
        "#     criterion=\"negative_sampling_contrastive_loss\",\n",
        "#     similarity_fn=\"cosine_similarity\",\n",
        "# )\n",
        "\n",
        "# finetune_model_pipeline(finetune_config, example_ct_before=2207904)"
      ]
    }
  ],
  "metadata": {
    "accelerator": "GPU",
    "colab": {
      "provenance": [],
      "toc_visible": true
    },
    "kernelspec": {
      "display_name": "Python 3",
      "name": "python3"
    },
    "language_info": {
      "codemirror_mode": {
        "name": "ipython",
        "version": 3
      },
      "file_extension": ".py",
      "mimetype": "text/x-python",
      "name": "python",
      "nbconvert_exporter": "python",
      "pygments_lexer": "ipython3",
      "version": "3.9.18"
    },
    "widgets": {
      "application/vnd.jupyter.widget-state+json": {
        "1548877d82e1467a8ea031ae001a8210": {
          "model_module": "@jupyter-widgets/controls",
          "model_module_version": "1.5.0",
          "model_name": "FloatProgressModel",
          "state": {
            "_dom_classes": [],
            "_model_module": "@jupyter-widgets/controls",
            "_model_module_version": "1.5.0",
            "_model_name": "FloatProgressModel",
            "_view_count": null,
            "_view_module": "@jupyter-widgets/controls",
            "_view_module_version": "1.5.0",
            "_view_name": "ProgressView",
            "bar_style": "",
            "description": "",
            "description_tooltip": null,
            "layout": "IPY_MODEL_2b4043b3364941f4af8a9bc08447f9e3",
            "max": 1,
            "min": 0,
            "orientation": "horizontal",
            "style": "IPY_MODEL_200a2c47ff6244c4b087eaf4380c0294",
            "value": 1
          }
        },
        "200a2c47ff6244c4b087eaf4380c0294": {
          "model_module": "@jupyter-widgets/controls",
          "model_module_version": "1.5.0",
          "model_name": "ProgressStyleModel",
          "state": {
            "_model_module": "@jupyter-widgets/controls",
            "_model_module_version": "1.5.0",
            "_model_name": "ProgressStyleModel",
            "_view_count": null,
            "_view_module": "@jupyter-widgets/base",
            "_view_module_version": "1.2.0",
            "_view_name": "StyleView",
            "bar_color": null,
            "description_width": ""
          }
        },
        "2527e908037741e0b2750fa50d83467d": {
          "model_module": "@jupyter-widgets/controls",
          "model_module_version": "1.5.0",
          "model_name": "DescriptionStyleModel",
          "state": {
            "_model_module": "@jupyter-widgets/controls",
            "_model_module_version": "1.5.0",
            "_model_name": "DescriptionStyleModel",
            "_view_count": null,
            "_view_module": "@jupyter-widgets/base",
            "_view_module_version": "1.2.0",
            "_view_name": "StyleView",
            "description_width": ""
          }
        },
        "259a994512cc4b72b97ff5f4f08f2bf8": {
          "model_module": "@jupyter-widgets/base",
          "model_module_version": "1.2.0",
          "model_name": "LayoutModel",
          "state": {
            "_model_module": "@jupyter-widgets/base",
            "_model_module_version": "1.2.0",
            "_model_name": "LayoutModel",
            "_view_count": null,
            "_view_module": "@jupyter-widgets/base",
            "_view_module_version": "1.2.0",
            "_view_name": "LayoutView",
            "align_content": null,
            "align_items": null,
            "align_self": null,
            "border": null,
            "bottom": null,
            "display": null,
            "flex": null,
            "flex_flow": null,
            "grid_area": null,
            "grid_auto_columns": null,
            "grid_auto_flow": null,
            "grid_auto_rows": null,
            "grid_column": null,
            "grid_gap": null,
            "grid_row": null,
            "grid_template_areas": null,
            "grid_template_columns": null,
            "grid_template_rows": null,
            "height": null,
            "justify_content": null,
            "justify_items": null,
            "left": null,
            "margin": null,
            "max_height": null,
            "max_width": null,
            "min_height": null,
            "min_width": null,
            "object_fit": null,
            "object_position": null,
            "order": null,
            "overflow": null,
            "overflow_x": null,
            "overflow_y": null,
            "padding": null,
            "right": null,
            "top": null,
            "visibility": null,
            "width": null
          }
        },
        "2b4043b3364941f4af8a9bc08447f9e3": {
          "model_module": "@jupyter-widgets/base",
          "model_module_version": "1.2.0",
          "model_name": "LayoutModel",
          "state": {
            "_model_module": "@jupyter-widgets/base",
            "_model_module_version": "1.2.0",
            "_model_name": "LayoutModel",
            "_view_count": null,
            "_view_module": "@jupyter-widgets/base",
            "_view_module_version": "1.2.0",
            "_view_name": "LayoutView",
            "align_content": null,
            "align_items": null,
            "align_self": null,
            "border": null,
            "bottom": null,
            "display": null,
            "flex": null,
            "flex_flow": null,
            "grid_area": null,
            "grid_auto_columns": null,
            "grid_auto_flow": null,
            "grid_auto_rows": null,
            "grid_column": null,
            "grid_gap": null,
            "grid_row": null,
            "grid_template_areas": null,
            "grid_template_columns": null,
            "grid_template_rows": null,
            "height": null,
            "justify_content": null,
            "justify_items": null,
            "left": null,
            "margin": null,
            "max_height": null,
            "max_width": null,
            "min_height": null,
            "min_width": null,
            "object_fit": null,
            "object_position": null,
            "order": null,
            "overflow": null,
            "overflow_x": null,
            "overflow_y": null,
            "padding": null,
            "right": null,
            "top": null,
            "visibility": null,
            "width": null
          }
        },
        "64fd6859505845b6b06c0834e9b6acf6": {
          "model_module": "@jupyter-widgets/controls",
          "model_module_version": "1.5.0",
          "model_name": "FloatProgressModel",
          "state": {
            "_dom_classes": [],
            "_model_module": "@jupyter-widgets/controls",
            "_model_module_version": "1.5.0",
            "_model_name": "FloatProgressModel",
            "_view_count": null,
            "_view_module": "@jupyter-widgets/controls",
            "_view_module_version": "1.5.0",
            "_view_name": "ProgressView",
            "bar_style": "success",
            "description": "",
            "description_tooltip": null,
            "layout": "IPY_MODEL_92cbb8039ee64e5f9fdbc6b35e4bca52",
            "max": 5,
            "min": 0,
            "orientation": "horizontal",
            "style": "IPY_MODEL_8f1834e94d6d4495b1de7d832ed8bc16",
            "value": 5
          }
        },
        "686efbf4ab4b467ea1139b9cc74f7677": {
          "model_module": "@jupyter-widgets/controls",
          "model_module_version": "1.5.0",
          "model_name": "HBoxModel",
          "state": {
            "_dom_classes": [],
            "_model_module": "@jupyter-widgets/controls",
            "_model_module_version": "1.5.0",
            "_model_name": "HBoxModel",
            "_view_count": null,
            "_view_module": "@jupyter-widgets/controls",
            "_view_module_version": "1.5.0",
            "_view_name": "HBoxView",
            "box_style": "",
            "children": [
              "IPY_MODEL_a0c1158993d34974889b469fb0443010",
              "IPY_MODEL_64fd6859505845b6b06c0834e9b6acf6",
              "IPY_MODEL_983af58ac73d4e98a133e27a84ca9dee"
            ],
            "layout": "IPY_MODEL_259a994512cc4b72b97ff5f4f08f2bf8"
          }
        },
        "85382ff43bd14c8fbd6afedfef4128e1": {
          "model_module": "@jupyter-widgets/controls",
          "model_module_version": "1.5.0",
          "model_name": "VBoxModel",
          "state": {
            "_dom_classes": [],
            "_model_module": "@jupyter-widgets/controls",
            "_model_module_version": "1.5.0",
            "_model_name": "VBoxModel",
            "_view_count": null,
            "_view_module": "@jupyter-widgets/controls",
            "_view_module_version": "1.5.0",
            "_view_name": "VBoxView",
            "box_style": "",
            "children": [
              "IPY_MODEL_e4eeb4edafef436aa59b0b7fa57bfcf7",
              "IPY_MODEL_1548877d82e1467a8ea031ae001a8210"
            ],
            "layout": "IPY_MODEL_d1c8407500b64c799ea6344723d9e2f0"
          }
        },
        "869359f394bf4aebacfb18699b889473": {
          "model_module": "@jupyter-widgets/base",
          "model_module_version": "1.2.0",
          "model_name": "LayoutModel",
          "state": {
            "_model_module": "@jupyter-widgets/base",
            "_model_module_version": "1.2.0",
            "_model_name": "LayoutModel",
            "_view_count": null,
            "_view_module": "@jupyter-widgets/base",
            "_view_module_version": "1.2.0",
            "_view_name": "LayoutView",
            "align_content": null,
            "align_items": null,
            "align_self": null,
            "border": null,
            "bottom": null,
            "display": null,
            "flex": null,
            "flex_flow": null,
            "grid_area": null,
            "grid_auto_columns": null,
            "grid_auto_flow": null,
            "grid_auto_rows": null,
            "grid_column": null,
            "grid_gap": null,
            "grid_row": null,
            "grid_template_areas": null,
            "grid_template_columns": null,
            "grid_template_rows": null,
            "height": null,
            "justify_content": null,
            "justify_items": null,
            "left": null,
            "margin": null,
            "max_height": null,
            "max_width": null,
            "min_height": null,
            "min_width": null,
            "object_fit": null,
            "object_position": null,
            "order": null,
            "overflow": null,
            "overflow_x": null,
            "overflow_y": null,
            "padding": null,
            "right": null,
            "top": null,
            "visibility": null,
            "width": null
          }
        },
        "8f1834e94d6d4495b1de7d832ed8bc16": {
          "model_module": "@jupyter-widgets/controls",
          "model_module_version": "1.5.0",
          "model_name": "ProgressStyleModel",
          "state": {
            "_model_module": "@jupyter-widgets/controls",
            "_model_module_version": "1.5.0",
            "_model_name": "ProgressStyleModel",
            "_view_count": null,
            "_view_module": "@jupyter-widgets/base",
            "_view_module_version": "1.2.0",
            "_view_name": "StyleView",
            "bar_color": null,
            "description_width": ""
          }
        },
        "92cbb8039ee64e5f9fdbc6b35e4bca52": {
          "model_module": "@jupyter-widgets/base",
          "model_module_version": "1.2.0",
          "model_name": "LayoutModel",
          "state": {
            "_model_module": "@jupyter-widgets/base",
            "_model_module_version": "1.2.0",
            "_model_name": "LayoutModel",
            "_view_count": null,
            "_view_module": "@jupyter-widgets/base",
            "_view_module_version": "1.2.0",
            "_view_name": "LayoutView",
            "align_content": null,
            "align_items": null,
            "align_self": null,
            "border": null,
            "bottom": null,
            "display": null,
            "flex": null,
            "flex_flow": null,
            "grid_area": null,
            "grid_auto_columns": null,
            "grid_auto_flow": null,
            "grid_auto_rows": null,
            "grid_column": null,
            "grid_gap": null,
            "grid_row": null,
            "grid_template_areas": null,
            "grid_template_columns": null,
            "grid_template_rows": null,
            "height": null,
            "justify_content": null,
            "justify_items": null,
            "left": null,
            "margin": null,
            "max_height": null,
            "max_width": null,
            "min_height": null,
            "min_width": null,
            "object_fit": null,
            "object_position": null,
            "order": null,
            "overflow": null,
            "overflow_x": null,
            "overflow_y": null,
            "padding": null,
            "right": null,
            "top": null,
            "visibility": null,
            "width": null
          }
        },
        "983af58ac73d4e98a133e27a84ca9dee": {
          "model_module": "@jupyter-widgets/controls",
          "model_module_version": "1.5.0",
          "model_name": "HTMLModel",
          "state": {
            "_dom_classes": [],
            "_model_module": "@jupyter-widgets/controls",
            "_model_module_version": "1.5.0",
            "_model_name": "HTMLModel",
            "_view_count": null,
            "_view_module": "@jupyter-widgets/controls",
            "_view_module_version": "1.5.0",
            "_view_name": "HTMLView",
            "description": "",
            "description_tooltip": null,
            "layout": "IPY_MODEL_a54b36f5b46148f8ac06f7a50865c1ee",
            "placeholder": "​",
            "style": "IPY_MODEL_b17c1cc7ecf24d078ecc805fd01f8431",
            "value": " 5/5 [00:15&lt;00:00,  3.11s/it]"
          }
        },
        "a0c1158993d34974889b469fb0443010": {
          "model_module": "@jupyter-widgets/controls",
          "model_module_version": "1.5.0",
          "model_name": "HTMLModel",
          "state": {
            "_dom_classes": [],
            "_model_module": "@jupyter-widgets/controls",
            "_model_module_version": "1.5.0",
            "_model_name": "HTMLModel",
            "_view_count": null,
            "_view_module": "@jupyter-widgets/controls",
            "_view_module_version": "1.5.0",
            "_view_name": "HTMLView",
            "description": "",
            "description_tooltip": null,
            "layout": "IPY_MODEL_fd8d3bcabd3942d2ad05dee10b51274b",
            "placeholder": "​",
            "style": "IPY_MODEL_2527e908037741e0b2750fa50d83467d",
            "value": "100%"
          }
        },
        "a54b36f5b46148f8ac06f7a50865c1ee": {
          "model_module": "@jupyter-widgets/base",
          "model_module_version": "1.2.0",
          "model_name": "LayoutModel",
          "state": {
            "_model_module": "@jupyter-widgets/base",
            "_model_module_version": "1.2.0",
            "_model_name": "LayoutModel",
            "_view_count": null,
            "_view_module": "@jupyter-widgets/base",
            "_view_module_version": "1.2.0",
            "_view_name": "LayoutView",
            "align_content": null,
            "align_items": null,
            "align_self": null,
            "border": null,
            "bottom": null,
            "display": null,
            "flex": null,
            "flex_flow": null,
            "grid_area": null,
            "grid_auto_columns": null,
            "grid_auto_flow": null,
            "grid_auto_rows": null,
            "grid_column": null,
            "grid_gap": null,
            "grid_row": null,
            "grid_template_areas": null,
            "grid_template_columns": null,
            "grid_template_rows": null,
            "height": null,
            "justify_content": null,
            "justify_items": null,
            "left": null,
            "margin": null,
            "max_height": null,
            "max_width": null,
            "min_height": null,
            "min_width": null,
            "object_fit": null,
            "object_position": null,
            "order": null,
            "overflow": null,
            "overflow_x": null,
            "overflow_y": null,
            "padding": null,
            "right": null,
            "top": null,
            "visibility": null,
            "width": null
          }
        },
        "b17c1cc7ecf24d078ecc805fd01f8431": {
          "model_module": "@jupyter-widgets/controls",
          "model_module_version": "1.5.0",
          "model_name": "DescriptionStyleModel",
          "state": {
            "_model_module": "@jupyter-widgets/controls",
            "_model_module_version": "1.5.0",
            "_model_name": "DescriptionStyleModel",
            "_view_count": null,
            "_view_module": "@jupyter-widgets/base",
            "_view_module_version": "1.2.0",
            "_view_name": "StyleView",
            "description_width": ""
          }
        },
        "d1c8407500b64c799ea6344723d9e2f0": {
          "model_module": "@jupyter-widgets/base",
          "model_module_version": "1.2.0",
          "model_name": "LayoutModel",
          "state": {
            "_model_module": "@jupyter-widgets/base",
            "_model_module_version": "1.2.0",
            "_model_name": "LayoutModel",
            "_view_count": null,
            "_view_module": "@jupyter-widgets/base",
            "_view_module_version": "1.2.0",
            "_view_name": "LayoutView",
            "align_content": null,
            "align_items": null,
            "align_self": null,
            "border": null,
            "bottom": null,
            "display": null,
            "flex": null,
            "flex_flow": null,
            "grid_area": null,
            "grid_auto_columns": null,
            "grid_auto_flow": null,
            "grid_auto_rows": null,
            "grid_column": null,
            "grid_gap": null,
            "grid_row": null,
            "grid_template_areas": null,
            "grid_template_columns": null,
            "grid_template_rows": null,
            "height": null,
            "justify_content": null,
            "justify_items": null,
            "left": null,
            "margin": null,
            "max_height": null,
            "max_width": null,
            "min_height": null,
            "min_width": null,
            "object_fit": null,
            "object_position": null,
            "order": null,
            "overflow": null,
            "overflow_x": null,
            "overflow_y": null,
            "padding": null,
            "right": null,
            "top": null,
            "visibility": null,
            "width": null
          }
        },
        "dfb278d9d72e4a9995bb7ac35edd4224": {
          "model_module": "@jupyter-widgets/controls",
          "model_module_version": "1.5.0",
          "model_name": "DescriptionStyleModel",
          "state": {
            "_model_module": "@jupyter-widgets/controls",
            "_model_module_version": "1.5.0",
            "_model_name": "DescriptionStyleModel",
            "_view_count": null,
            "_view_module": "@jupyter-widgets/base",
            "_view_module_version": "1.2.0",
            "_view_name": "StyleView",
            "description_width": ""
          }
        },
        "e4eeb4edafef436aa59b0b7fa57bfcf7": {
          "model_module": "@jupyter-widgets/controls",
          "model_module_version": "1.5.0",
          "model_name": "LabelModel",
          "state": {
            "_dom_classes": [],
            "_model_module": "@jupyter-widgets/controls",
            "_model_module_version": "1.5.0",
            "_model_name": "LabelModel",
            "_view_count": null,
            "_view_module": "@jupyter-widgets/controls",
            "_view_module_version": "1.5.0",
            "_view_name": "LabelView",
            "description": "",
            "description_tooltip": null,
            "layout": "IPY_MODEL_869359f394bf4aebacfb18699b889473",
            "placeholder": "​",
            "style": "IPY_MODEL_dfb278d9d72e4a9995bb7ac35edd4224",
            "value": "0.146 MB of 0.146 MB uploaded\r"
          }
        },
        "fd8d3bcabd3942d2ad05dee10b51274b": {
          "model_module": "@jupyter-widgets/base",
          "model_module_version": "1.2.0",
          "model_name": "LayoutModel",
          "state": {
            "_model_module": "@jupyter-widgets/base",
            "_model_module_version": "1.2.0",
            "_model_name": "LayoutModel",
            "_view_count": null,
            "_view_module": "@jupyter-widgets/base",
            "_view_module_version": "1.2.0",
            "_view_name": "LayoutView",
            "align_content": null,
            "align_items": null,
            "align_self": null,
            "border": null,
            "bottom": null,
            "display": null,
            "flex": null,
            "flex_flow": null,
            "grid_area": null,
            "grid_auto_columns": null,
            "grid_auto_flow": null,
            "grid_auto_rows": null,
            "grid_column": null,
            "grid_gap": null,
            "grid_row": null,
            "grid_template_areas": null,
            "grid_template_columns": null,
            "grid_template_rows": null,
            "height": null,
            "justify_content": null,
            "justify_items": null,
            "left": null,
            "margin": null,
            "max_height": null,
            "max_width": null,
            "min_height": null,
            "min_width": null,
            "object_fit": null,
            "object_position": null,
            "order": null,
            "overflow": null,
            "overflow_x": null,
            "overflow_y": null,
            "padding": null,
            "right": null,
            "top": null,
            "visibility": null,
            "width": null
          }
        }
      }
    }
  },
  "nbformat": 4,
  "nbformat_minor": 0
}
