{
  "cells": [
    {
      "cell_type": "markdown",
      "metadata": {},
      "source": [
        "# Get submissions"
      ]
    },
    {
      "cell_type": "code",
      "execution_count": 1,
      "metadata": {},
      "outputs": [
        {
          "name": "stdout",
          "output_type": "stream",
          "text": [
            "/users/eleves-b/2020/thomas.li/MVA/ALTEGRAD/kaggle_challenge\n"
          ]
        },
        {
          "name": "stderr",
          "output_type": "stream",
          "text": [
            "/users/eleves-b/2020/thomas.li/.local/lib/python3.9/site-packages/IPython/core/magics/osm.py:417: UserWarning: using dhist requires you to install the `pickleshare` library.\n",
            "  self.shell.db['dhist'] = compress_dhist(dhist)[-100:]\n"
          ]
        }
      ],
      "source": [
        "%cd .."
      ]
    },
    {
      "cell_type": "markdown",
      "metadata": {},
      "source": [
        "## I) Get simple submission"
      ]
    },
    {
      "cell_type": "code",
      "execution_count": 3,
      "metadata": {},
      "outputs": [
        {
          "name": "stderr",
          "output_type": "stream",
          "text": [
            "/users/eleves-b/2020/thomas.li/.local/lib/python3.9/site-packages/tqdm/auto.py:21: TqdmWarning: IProgress not found. Please update jupyter and ipywidgets. See https://ipywidgets.readthedocs.io/en/stable/user_install.html\n",
            "  from .autonotebook import tqdm as notebook_tqdm\n"
          ]
        },
        {
          "name": "stdout",
          "output_type": "stream",
          "text": [
            "Loaded the model\n"
          ]
        },
        {
          "name": "stderr",
          "output_type": "stream",
          "text": [
            "/users/eleves-b/2020/thomas.li/.local/lib/python3.9/site-packages/torch_geometric/deprecation.py:22: UserWarning: 'data.DataLoader' is deprecated, use 'loader.DataLoader' instead\n",
            "  warnings.warn(out)\n",
            "100%|██████████| 52/52 [00:07<00:00,  6.94it/s]\n",
            "100%|██████████| 52/52 [00:07<00:00,  6.51it/s]\n"
          ]
        },
        {
          "name": "stdout",
          "output_type": "stream",
          "text": [
            "Successfully saved submission in :  submissions/michael_big_model_120_epochs_512_nhid_online_02021906_submission.csv\n"
          ]
        }
      ],
      "source": [
        "from src.Model4 import Model  # TODO\n",
        "from src.submission import Config_Class\n",
        "import os\n",
        "from src.utils import load_yaml_config_as_dict\n",
        "from src.submission import get_submission\n",
        "\n",
        "\n",
        "model_path = \"models/michael_big_model_120_epochs_512_nhid_online_02021906/michael_big_model_120_epochs_512_nhid_online_02021906.pth\"  # TODO\n",
        "\n",
        "\n",
        "# yaml_path = os.path.dirname(model_path) + \"/config.yaml\"\n",
        "# config_dico = load_yaml_config_as_dict(yaml_path)\n",
        "# config = Config_Class(config_dico)\n",
        "\n",
        "model = Model(\n",
        "    model_name=\"distilbert-base-uncased\",\n",
        "    num_node_features=300,\n",
        "    nout=768,\n",
        "    nhid=512,\n",
        "    graph_hidden_channels=512,\n",
        ")\n",
        "\n",
        "solution = get_submission(\n",
        "    model_path,\n",
        "    model,\n",
        "    similarity_name=\"cosine_similarity\",\n",
        ")"
      ]
    },
    {
      "cell_type": "markdown",
      "metadata": {},
      "source": [
        "## II) Ensemble submissions"
      ]
    },
    {
      "cell_type": "code",
      "execution_count": 6,
      "metadata": {},
      "outputs": [
        {
          "data": {
            "text/plain": [
              "0.3"
            ]
          },
          "execution_count": 6,
          "metadata": {},
          "output_type": "execute_result"
        }
      ],
      "source": [
        "1.5 / 5"
      ]
    },
    {
      "cell_type": "code",
      "execution_count": 17,
      "metadata": {},
      "outputs": [
        {
          "name": "stdout",
          "output_type": "stream",
          "text": [
            "Input vector: [[1. 2. 3.]\n",
            " [1. 2. 3.]]\n",
            "Softmax output: [[0.09003057 0.24472847 0.66524096]\n",
            " [0.09003057 0.24472847 0.66524096]]\n"
          ]
        }
      ],
      "source": [
        "import numpy as np\n",
        "\n",
        "\n",
        "def softmax(x):\n",
        "    # Ensure numerical stability by subtracting the maximum value\n",
        "    exp_x = np.exp(x - np.max(x, axis=-1, keepdims=True))\n",
        "    return exp_x / np.sum(exp_x, axis=-1, keepdims=True)\n",
        "\n",
        "\n",
        "# Example usage:\n",
        "input_vector = np.array([[1.0, 2.0, 3.0], [1.0, 2.0, 3.0]])\n",
        "output_probabilities = softmax(input_vector)\n",
        "\n",
        "print(\"Input vector:\", input_vector)\n",
        "print(\"Softmax output:\", output_probabilities)"
      ]
    },
    {
      "cell_type": "code",
      "execution_count": 14,
      "metadata": {},
      "outputs": [
        {
          "name": "stdout",
          "output_type": "stream",
          "text": [
            "submissions/michael_big_model_120_epochs_512_nhid_online_02021906_submission.csv\n",
            "submissions/michael_big_model_120_epochs_512_nhid_online_02022125_submission.csv\n",
            "submissions/michael_big_model_120_epochs_512_nhid_online_02022128_submission.csv\n",
            "submissions/michael_big_model_120_epochs_512_nhid_online_trainval_02022129_submission.csv\n",
            "submissions/ensemble_solution_esp_pol_fin_malte.csv\n",
            "submissions/ensemble_solution_autres.csv\n",
            "submissions/submission_baud.csv\n",
            "submissions/submission0.82.csv\n",
            "submissions/submission0.819.csv\n",
            "submissions/submission0811.csv\n",
            "submissions/baseline_negative_sampling_contrastive_loss_v2_01282244_49finetune_01301925_5_submission.csv\n",
            "Saved ensemble submission in submissions/ensemble_submission11_02041646.csv\n"
          ]
        }
      ],
      "source": [
        "from src.ensemble_submission import get_ensemble_submission\n",
        "\n",
        "liste_submission_paths = [\n",
        "    \"submissions/michael_big_model_120_epochs_512_nhid_online_02021906_submission.csv\",\n",
        "    \"submissions/michael_big_model_120_epochs_512_nhid_online_02022125_submission.csv\",\n",
        "    \"submissions/michael_big_model_120_epochs_512_nhid_online_02022128_submission.csv\",\n",
        "    \"submissions/michael_big_model_120_epochs_512_nhid_online_trainval_02022129_submission.csv\",\n",
        "    \"submissions/ensemble_solution_esp_pol_fin_malte.csv\",\n",
        "    \"submissions/ensemble_solution_autres.csv\",\n",
        "    \"submissions/submission_baud.csv\",\n",
        "    \"submissions/submission0.82.csv\",\n",
        "    \"submissions/submission0.819.csv\",\n",
        "    \"submissions/submission0811.csv\",\n",
        "    \"submissions/baseline_negative_sampling_contrastive_loss_v2_01282244_49finetune_01301925_5_submission.csv\",\n",
        "]\n",
        "\n",
        "\n",
        "liste_poids = [\n",
        "    1,\n",
        "    1,\n",
        "    1,\n",
        "    1,\n",
        "    1,\n",
        "    0.8,\n",
        "    0.8,\n",
        "    0.8,\n",
        "    0.8,\n",
        "    0.8,\n",
        "    0.8,\n",
        "]\n",
        "\n",
        "\n",
        "get_ensemble_submission(liste_submission_paths, liste_poids, rank=False, softmax=True)"
      ]
    }
  ],
  "metadata": {
    "accelerator": "GPU",
    "colab": {
      "provenance": []
    },
    "kernelspec": {
      "display_name": "Python 3",
      "name": "python3"
    },
    "language_info": {
      "codemirror_mode": {
        "name": "ipython",
        "version": 3
      },
      "file_extension": ".py",
      "mimetype": "text/x-python",
      "name": "python",
      "nbconvert_exporter": "python",
      "pygments_lexer": "ipython3",
      "version": "3.9.18"
    }
  },
  "nbformat": 4,
  "nbformat_minor": 0
}
